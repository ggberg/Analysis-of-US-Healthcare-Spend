{
 "cells": [
  {
   "cell_type": "markdown",
   "metadata": {},
   "source": [
    "# Exploration of US healthcare spend \n",
    "# Data cleaning\n",
    "\n",
    "right now everything is in one notebook, but will be separated into to\n",
    "\n",
    "---"
   ]
  },
  {
   "cell_type": "markdown",
   "metadata": {},
   "source": [
    "## Import tools "
   ]
  },
  {
   "cell_type": "code",
   "execution_count": 1,
   "metadata": {},
   "outputs": [],
   "source": [
    "import requests\n",
    "import numpy as np\n",
    "import pandas as pd\n",
    "import scipy.stats\n",
    "import matplotlib.pyplot as plt\n",
    "import seaborn as sns\n",
    "import time\n",
    "import ipywidgets as widget\n",
    "import string"
   ]
  },
  {
   "cell_type": "markdown",
   "metadata": {},
   "source": [
    "## 1. Clean and explore the data for hospital charges and payments"
   ]
  },
  {
   "cell_type": "code",
   "execution_count": 2,
   "metadata": {},
   "outputs": [],
   "source": [
    "# Import my data into a 'c' costs dictionary of dataframes, keyed for each year\n",
    "c={}\n",
    "my_years = [2011, 2012, 2013, 2014, 2015, 2016, 2017]\n",
    "for yr in my_years:\n",
    "    c[yr] = pd.read_csv(f'./data/costs/costs_{yr}.csv')"
   ]
  },
  {
   "cell_type": "code",
   "execution_count": 3,
   "metadata": {},
   "outputs": [
    {
     "data": {
      "text/html": [
       "<div>\n",
       "<style scoped>\n",
       "    .dataframe tbody tr th:only-of-type {\n",
       "        vertical-align: middle;\n",
       "    }\n",
       "\n",
       "    .dataframe tbody tr th {\n",
       "        vertical-align: top;\n",
       "    }\n",
       "\n",
       "    .dataframe thead th {\n",
       "        text-align: right;\n",
       "    }\n",
       "</style>\n",
       "<table border=\"1\" class=\"dataframe\">\n",
       "  <thead>\n",
       "    <tr style=\"text-align: right;\">\n",
       "      <th></th>\n",
       "      <th>DRG Definition</th>\n",
       "      <th>Provider Id</th>\n",
       "      <th>Provider Name</th>\n",
       "      <th>Provider Street Address</th>\n",
       "      <th>Provider City</th>\n",
       "      <th>Provider State</th>\n",
       "      <th>Provider Zip Code</th>\n",
       "      <th>Hospital Referral Region Description</th>\n",
       "      <th>Total Discharges</th>\n",
       "      <th>Average Covered Charges</th>\n",
       "      <th>Average Total Payments</th>\n",
       "      <th>Average Medicare Payments</th>\n",
       "    </tr>\n",
       "  </thead>\n",
       "  <tbody>\n",
       "    <tr>\n",
       "      <td>0</td>\n",
       "      <td>039 - EXTRACRANIAL PROCEDURES W/O CC/MCC</td>\n",
       "      <td>10001</td>\n",
       "      <td>SOUTHEAST ALABAMA MEDICAL CENTER</td>\n",
       "      <td>1108 ROSS CLARK CIRCLE</td>\n",
       "      <td>DOTHAN</td>\n",
       "      <td>AL</td>\n",
       "      <td>36301</td>\n",
       "      <td>AL - Dothan</td>\n",
       "      <td>91</td>\n",
       "      <td>32963.07</td>\n",
       "      <td>5777.24</td>\n",
       "      <td>4763.73</td>\n",
       "    </tr>\n",
       "    <tr>\n",
       "      <td>1</td>\n",
       "      <td>039 - EXTRACRANIAL PROCEDURES W/O CC/MCC</td>\n",
       "      <td>10005</td>\n",
       "      <td>MARSHALL MEDICAL CENTER SOUTH</td>\n",
       "      <td>2505 U S HIGHWAY 431 NORTH</td>\n",
       "      <td>BOAZ</td>\n",
       "      <td>AL</td>\n",
       "      <td>35957</td>\n",
       "      <td>AL - Birmingham</td>\n",
       "      <td>14</td>\n",
       "      <td>15131.85</td>\n",
       "      <td>5787.57</td>\n",
       "      <td>4976.71</td>\n",
       "    </tr>\n",
       "  </tbody>\n",
       "</table>\n",
       "</div>"
      ],
      "text/plain": [
       "                             DRG Definition  Provider Id  \\\n",
       "0  039 - EXTRACRANIAL PROCEDURES W/O CC/MCC        10001   \n",
       "1  039 - EXTRACRANIAL PROCEDURES W/O CC/MCC        10005   \n",
       "\n",
       "                      Provider Name     Provider Street Address Provider City  \\\n",
       "0  SOUTHEAST ALABAMA MEDICAL CENTER      1108 ROSS CLARK CIRCLE        DOTHAN   \n",
       "1     MARSHALL MEDICAL CENTER SOUTH  2505 U S HIGHWAY 431 NORTH          BOAZ   \n",
       "\n",
       "  Provider State  Provider Zip Code Hospital Referral Region Description  \\\n",
       "0             AL              36301                          AL - Dothan   \n",
       "1             AL              35957                      AL - Birmingham   \n",
       "\n",
       "    Total Discharges    Average Covered Charges    Average Total Payments   \\\n",
       "0                  91                   32963.07                   5777.24   \n",
       "1                  14                   15131.85                   5787.57   \n",
       "\n",
       "   Average Medicare Payments  \n",
       "0                    4763.73  \n",
       "1                    4976.71  "
      ]
     },
     "execution_count": 3,
     "metadata": {},
     "output_type": "execute_result"
    }
   ],
   "source": [
    "c[2011].head(2)"
   ]
  },
  {
   "cell_type": "code",
   "execution_count": 4,
   "metadata": {},
   "outputs": [
    {
     "name": "stdout",
     "output_type": "stream",
     "text": [
      "YR=2011, SHAPE=(4925, 8), STATES=50,  DIAGNOSES=100\n",
      "YR=2012, SHAPE=(4939, 8), STATES=50,  DIAGNOSES=100\n",
      "YR=2013, SHAPE=(4937, 8), STATES=50,  DIAGNOSES=100\n",
      "YR=2014, SHAPE=(14809, 8), STATES=50,  DIAGNOSES=564\n",
      "YR=2015, SHAPE=(15024, 8), STATES=50,  DIAGNOSES=563\n",
      "YR=2016, SHAPE=(15239, 8), STATES=50,  DIAGNOSES=573\n",
      "YR=2017, SHAPE=(15223, 8), STATES=50,  DIAGNOSES=563\n",
      "Summy of dictionary with yearly healthcare charge and payment data\n"
     ]
    }
   ],
   "source": [
    "# clean my data\n",
    "for yr in my_years:\n",
    "    # for every df in my dictionary, change the col names, annotate the years\n",
    "    c[yr].columns = ['diagnosis', 'id', 'name','address','city','state','zip','region',\n",
    "       f'ave_discharged_{yr}', f'ave_charged_{yr}', f'ave_paid_{yr}', f'ave_medicare_{yr}']\n",
    "    \n",
    "    # drop cols I won't be using\n",
    "    c[yr].drop(columns = ['id', 'name', 'address', 'city', 'zip', 'region'],inplace= True)\n",
    "    \n",
    "    # truncate our Diagnosis Related Group description to 3 digit string\n",
    "    c[yr].diagnosis = c[yr].diagnosis.str[0:3]\n",
    "    \n",
    "    # We drop DC as a state\n",
    "    c[yr].drop(c[yr][c[yr]['state'] == 'DC'].index, inplace=True)    \n",
    " \n",
    "    # Let's consolidate all the state data by diagnosis, and get the mean of what each state charges/ is paid\n",
    "    c[yr]=c[yr].groupby(['state','diagnosis'],as_index=False).mean()\n",
    "\n",
    "\n",
    "    # Engineer/ add feature = this col compares the cost of a procedure vs what medicare pays\n",
    "    c[yr][f'charge_over_med_{yr}'] = (c[yr][f'ave_charged_{yr}'] - c[yr][f'ave_medicare_{yr}']\n",
    "                                     ) / c[yr][f'ave_medicare_{yr}']\n",
    "\n",
    "    # this col compares the average amount paid for a procedure vs what medicare pays\n",
    "    c[yr][f'paid_over_med_{yr}'] = (c[yr][f'ave_paid_{yr}'] - c[yr][f'ave_medicare_{yr}']\n",
    "                                     ) / c[yr][f'ave_medicare_{yr}']             \n",
    "    \n",
    "    # Interesting ovservation - number of recorded DRGs wen up from 100 to 560+\n",
    "    print(f'YR={yr}, SHAPE={c[yr].shape}, STATES={len(c[yr].state.unique())},  DIAGNOSES={len(c[yr].diagnosis.unique())}')\n",
    "    \n",
    "print('Summy of dictionary with yearly healthcare charge and payment data')"
   ]
  },
  {
   "cell_type": "code",
   "execution_count": 5,
   "metadata": {},
   "outputs": [
    {
     "name": "stdout",
     "output_type": "stream",
     "text": [
      "(4819, 14)\n",
      "(4659, 20)\n",
      "(4641, 26)\n",
      "(4582, 32)\n",
      "(4494, 38)\n",
      "(4468, 44)\n"
     ]
    }
   ],
   "source": [
    "# We me merge all the years into one dataframe\n",
    "# data is merged on the State and the diagnosis (DRG)\n",
    "merge1 = c[2011].merge(c[2012], on=['state','diagnosis'])\n",
    "print(merge1.shape)\n",
    "\n",
    "merge2 = merge1.merge(c[2013], on=['state','diagnosis'])\n",
    "print(merge2.shape)\n",
    "\n",
    "merge3 = merge2.merge(c[2014], on=['state','diagnosis'])\n",
    "print(merge3.shape)\n",
    "\n",
    "merge4 = merge3.merge(c[2015], on=['state','diagnosis'])\n",
    "print(merge4.shape)\n",
    "\n",
    "merge5 = merge4.merge(c[2016], on=['state','diagnosis'])\n",
    "print(merge5.shape)\n",
    "\n",
    "merge6 = merge5.merge(c[2017], on=['state','diagnosis'])\n",
    "print(merge6.shape)\n"
   ]
  },
  {
   "cell_type": "code",
   "execution_count": 6,
   "metadata": {},
   "outputs": [
    {
     "data": {
      "text/plain": [
       "93"
      ]
     },
     "execution_count": 6,
     "metadata": {},
     "output_type": "execute_result"
    }
   ],
   "source": [
    "# Data is merged on the state and diagnosis\n",
    "# We have 93 diagnoses common to all 50 states and 7 years in our data.\n",
    "common_diagnoses=(np.unique(merge6.diagnosis))\n",
    "len(common_diagnoses)"
   ]
  },
  {
   "cell_type": "code",
   "execution_count": 7,
   "metadata": {
    "scrolled": true
   },
   "outputs": [
    {
     "data": {
      "text/html": [
       "<div>\n",
       "<style scoped>\n",
       "    .dataframe tbody tr th:only-of-type {\n",
       "        vertical-align: middle;\n",
       "    }\n",
       "\n",
       "    .dataframe tbody tr th {\n",
       "        vertical-align: top;\n",
       "    }\n",
       "\n",
       "    .dataframe thead th {\n",
       "        text-align: right;\n",
       "    }\n",
       "</style>\n",
       "<table border=\"1\" class=\"dataframe\">\n",
       "  <thead>\n",
       "    <tr style=\"text-align: right;\">\n",
       "      <th>STdiag</th>\n",
       "      <th>ave_data</th>\n",
       "      <th>AK039</th>\n",
       "      <th>AK064</th>\n",
       "      <th>AK065</th>\n",
       "      <th>AK066</th>\n",
       "      <th>AK101</th>\n",
       "      <th>AK176</th>\n",
       "      <th>AK177</th>\n",
       "      <th>AK189</th>\n",
       "      <th>AK190</th>\n",
       "      <th>...</th>\n",
       "      <th>SDall</th>\n",
       "      <th>TNall</th>\n",
       "      <th>TXall</th>\n",
       "      <th>UTall</th>\n",
       "      <th>VAall</th>\n",
       "      <th>VTall</th>\n",
       "      <th>WAall</th>\n",
       "      <th>WIall</th>\n",
       "      <th>WVall</th>\n",
       "      <th>WYall</th>\n",
       "    </tr>\n",
       "  </thead>\n",
       "  <tbody>\n",
       "    <tr>\n",
       "      <td>0</td>\n",
       "      <td>ave_discharged_2011</td>\n",
       "      <td>23.000000</td>\n",
       "      <td>22.500000</td>\n",
       "      <td>25.333333</td>\n",
       "      <td>21.000000</td>\n",
       "      <td>19.500000</td>\n",
       "      <td>26.00000</td>\n",
       "      <td>14.500000</td>\n",
       "      <td>24.000000</td>\n",
       "      <td>23.285714</td>\n",
       "      <td>...</td>\n",
       "      <td>27.583333</td>\n",
       "      <td>33.758621</td>\n",
       "      <td>29.789474</td>\n",
       "      <td>22.000000</td>\n",
       "      <td>30.321429</td>\n",
       "      <td>29.500000</td>\n",
       "      <td>25.833333</td>\n",
       "      <td>25.259259</td>\n",
       "      <td>29.052632</td>\n",
       "      <td>22.000000</td>\n",
       "    </tr>\n",
       "    <tr>\n",
       "      <td>1</td>\n",
       "      <td>ave_charged_2011</td>\n",
       "      <td>34805.130000</td>\n",
       "      <td>42453.810000</td>\n",
       "      <td>32629.370000</td>\n",
       "      <td>25843.322500</td>\n",
       "      <td>23156.085000</td>\n",
       "      <td>35672.65000</td>\n",
       "      <td>61224.635000</td>\n",
       "      <td>45137.093333</td>\n",
       "      <td>33169.691429</td>\n",
       "      <td>...</td>\n",
       "      <td>24257.994667</td>\n",
       "      <td>22918.886066</td>\n",
       "      <td>32769.518395</td>\n",
       "      <td>19871.853636</td>\n",
       "      <td>22399.921905</td>\n",
       "      <td>16199.150000</td>\n",
       "      <td>24974.775171</td>\n",
       "      <td>20396.486364</td>\n",
       "      <td>15737.700714</td>\n",
       "      <td>23809.538750</td>\n",
       "    </tr>\n",
       "    <tr>\n",
       "      <td>2</td>\n",
       "      <td>ave_paid_2011</td>\n",
       "      <td>8401.950000</td>\n",
       "      <td>21608.010000</td>\n",
       "      <td>12555.548333</td>\n",
       "      <td>9275.867500</td>\n",
       "      <td>7682.735000</td>\n",
       "      <td>10349.50000</td>\n",
       "      <td>16333.210000</td>\n",
       "      <td>11854.953333</td>\n",
       "      <td>13414.714286</td>\n",
       "      <td>...</td>\n",
       "      <td>7916.021571</td>\n",
       "      <td>6612.036250</td>\n",
       "      <td>7560.220311</td>\n",
       "      <td>7792.068333</td>\n",
       "      <td>7223.536222</td>\n",
       "      <td>9888.220000</td>\n",
       "      <td>8030.231872</td>\n",
       "      <td>7594.615577</td>\n",
       "      <td>6789.610769</td>\n",
       "      <td>9873.196250</td>\n",
       "    </tr>\n",
       "    <tr>\n",
       "      <td>3</td>\n",
       "      <td>ave_medicare_2011</td>\n",
       "      <td>6413.780000</td>\n",
       "      <td>20555.255000</td>\n",
       "      <td>11140.963333</td>\n",
       "      <td>8258.427500</td>\n",
       "      <td>5942.060000</td>\n",
       "      <td>7460.65000</td>\n",
       "      <td>15395.450000</td>\n",
       "      <td>10847.556667</td>\n",
       "      <td>12098.165714</td>\n",
       "      <td>...</td>\n",
       "      <td>6597.558810</td>\n",
       "      <td>5535.923958</td>\n",
       "      <td>6333.127486</td>\n",
       "      <td>6163.990714</td>\n",
       "      <td>5938.415373</td>\n",
       "      <td>8684.030000</td>\n",
       "      <td>6670.433453</td>\n",
       "      <td>6105.764259</td>\n",
       "      <td>5772.969091</td>\n",
       "      <td>8403.470625</td>\n",
       "    </tr>\n",
       "    <tr>\n",
       "      <td>4</td>\n",
       "      <td>charge_over_med_2011</td>\n",
       "      <td>4.426617</td>\n",
       "      <td>1.065351</td>\n",
       "      <td>1.928775</td>\n",
       "      <td>2.129327</td>\n",
       "      <td>2.896979</td>\n",
       "      <td>3.78144</td>\n",
       "      <td>2.976801</td>\n",
       "      <td>3.161038</td>\n",
       "      <td>1.741712</td>\n",
       "      <td>...</td>\n",
       "      <td>2.412167</td>\n",
       "      <td>3.303860</td>\n",
       "      <td>4.320847</td>\n",
       "      <td>2.192585</td>\n",
       "      <td>3.001546</td>\n",
       "      <td>0.927788</td>\n",
       "      <td>2.919880</td>\n",
       "      <td>2.274726</td>\n",
       "      <td>1.821586</td>\n",
       "      <td>1.979725</td>\n",
       "    </tr>\n",
       "  </tbody>\n",
       "</table>\n",
       "<p>5 rows × 4520 columns</p>\n",
       "</div>"
      ],
      "text/plain": [
       "STdiag              ave_data         AK039         AK064         AK065  \\\n",
       "0        ave_discharged_2011     23.000000     22.500000     25.333333   \n",
       "1           ave_charged_2011  34805.130000  42453.810000  32629.370000   \n",
       "2              ave_paid_2011   8401.950000  21608.010000  12555.548333   \n",
       "3          ave_medicare_2011   6413.780000  20555.255000  11140.963333   \n",
       "4       charge_over_med_2011      4.426617      1.065351      1.928775   \n",
       "\n",
       "STdiag         AK066         AK101        AK176         AK177         AK189  \\\n",
       "0          21.000000     19.500000     26.00000     14.500000     24.000000   \n",
       "1       25843.322500  23156.085000  35672.65000  61224.635000  45137.093333   \n",
       "2        9275.867500   7682.735000  10349.50000  16333.210000  11854.953333   \n",
       "3        8258.427500   5942.060000   7460.65000  15395.450000  10847.556667   \n",
       "4           2.129327      2.896979      3.78144      2.976801      3.161038   \n",
       "\n",
       "STdiag         AK190  ...         SDall         TNall         TXall  \\\n",
       "0          23.285714  ...     27.583333     33.758621     29.789474   \n",
       "1       33169.691429  ...  24257.994667  22918.886066  32769.518395   \n",
       "2       13414.714286  ...   7916.021571   6612.036250   7560.220311   \n",
       "3       12098.165714  ...   6597.558810   5535.923958   6333.127486   \n",
       "4           1.741712  ...      2.412167      3.303860      4.320847   \n",
       "\n",
       "STdiag         UTall         VAall         VTall         WAall         WIall  \\\n",
       "0          22.000000     30.321429     29.500000     25.833333     25.259259   \n",
       "1       19871.853636  22399.921905  16199.150000  24974.775171  20396.486364   \n",
       "2        7792.068333   7223.536222   9888.220000   8030.231872   7594.615577   \n",
       "3        6163.990714   5938.415373   8684.030000   6670.433453   6105.764259   \n",
       "4           2.192585      3.001546      0.927788      2.919880      2.274726   \n",
       "\n",
       "STdiag         WVall         WYall  \n",
       "0          29.052632     22.000000  \n",
       "1       15737.700714  23809.538750  \n",
       "2        6789.610769   9873.196250  \n",
       "3        5772.969091   8403.470625  \n",
       "4           1.821586      1.979725  \n",
       "\n",
       "[5 rows x 4520 columns]"
      ]
     },
     "execution_count": 7,
     "metadata": {},
     "output_type": "execute_result"
    }
   ],
   "source": [
    "#create new col representing BOTH STATE and diagnosis\n",
    "merge6['STdiag']=merge6.state+merge6.diagnosis\n",
    "merge6.drop(columns = ['state', 'diagnosis'],inplace= True)\n",
    "merge6 = merge6.set_index('STdiag')\n",
    "#drop old cols and make new col the index\n",
    "\n",
    "#Transpose so data resembles a time series\n",
    "data = merge6.T\n",
    "data=data.reset_index()\n",
    "data.rename(columns = {'index':'ave_data'}, inplace = True)\n",
    "\n",
    "# Create a new COL which creates the median for all states and all procedures\n",
    "data['USall'] = data.median(axis=1)\n",
    "\n",
    "#create new cols for STATE median for all 93 procedures\n",
    "my_states = ['AK','AL','AR','AZ','CA','CO','CT','DE','FL','GA','HI','IA','ID',\n",
    "             'IL','IN','KS','KY','LA','MA','MD','ME','MI','MN','MO','MS',\n",
    "             'MT','NC','ND','NE','NH','NJ','NM','NV','NY','OH','OK','OR','PA',\n",
    "             'RI','SC','SD','TN','TX','UT','VA','VT','WA','WI','WV','WY']\n",
    "for st in my_states:\n",
    "    data[f'{st}all']= data.filter(like= st).median(axis=1)\n",
    "\n",
    "   \n",
    "data.head()"
   ]
  },
  {
   "cell_type": "code",
   "execution_count": 8,
   "metadata": {},
   "outputs": [
    {
     "data": {
      "image/png": "[encoded data removed]",
      "text/plain": [
       "<Figure size 1152x576 with 1 Axes>"
      ]
     },
     "metadata": {
      "needs_background": "light"
     },
     "output_type": "display_data"
    }
   ],
   "source": [
    "# Let's look at how US healthcare costs look over time, 93 common diagnoses\n",
    "# This is amount charged over time, for all of US\n",
    "\n",
    "y1 = data[data['ave_data'].str.contains(\"ave_charged\")]['USall']\n",
    "y2 = data[data['ave_data'].str.contains(\"ave_paid\")]['USall']\n",
    "y3 = data[data['ave_data'].str.contains(\"ave_medicare\")]['USall']\n",
    "\n",
    "plt.figure(figsize=(16,8))\n",
    "plt.title('Average charges over time, all US, all 93 diagnoses', fontsize = 25)\n",
    "plt.plot(my_years, y1, label = 'Median charged by hospitals, 50 states, 93 diagnoses')\n",
    "plt.plot(my_years, y2, label = 'Median paid by all')\n",
    "plt.plot(my_years, y3, label = 'Median paid by Medicare')\n",
    "plt.xlabel('Year',fontsize=20)\n",
    "plt.ylabel('Median charged by hospitals $',fontsize=20)\n",
    "plt.xticks(my_years,fontsize=15, rotation = 45)\n",
    "plt.yticks(fontsize=15)\n",
    "plt.legend(loc='best');\n"
   ]
  },
  {
   "cell_type": "code",
   "execution_count": 9,
   "metadata": {},
   "outputs": [
    {
     "data": {
      "application/vnd.jupyter.widget-view+json": {
       "model_id": "832a9ca50c324acf8f163580239e7fcb",
       "version_major": 2,
       "version_minor": 0
      },
      "text/plain": [
       "interactive(children=(SelectionSlider(description='State:', options=('AK', 'AL', 'AR', 'AZ', 'CA', 'CO', 'CT',…"
      ]
     },
     "metadata": {},
     "output_type": "display_data"
    },
    {
     "data": {
      "text/plain": [
       "<function __main__.my_statecost1(state1)>"
      ]
     },
     "execution_count": 9,
     "metadata": {},
     "output_type": "execute_result"
    }
   ],
   "source": [
    "# Lets look at charges and payments for individual states\n",
    "def my_statecost1(state1):\n",
    "    \n",
    "    y = data[data['ave_data'].str.contains(\"ave_paid\")][f'{state1}all']\n",
    "    y2 = data[data['ave_data'].str.contains(\"ave_medicare\")][f'{state1}all']\n",
    "    y3 = data[data['ave_data'].str.contains(\"ave_charged\")][f'{state1}all']\n",
    "    \n",
    "    plt.figure(figsize=(16,8))\n",
    "    plt.title(f'Hospital charges and payments in {state1} (median of 93 diagnoses)', fontsize=25)\n",
    "    plt.plot(my_years, y3,label = 'Median charge for diagnoses')\n",
    "    plt.plot(my_years, y, label = 'Median payment by all')\n",
    "    plt.plot(my_years, y2,label = 'Median payment by Medicare')\n",
    "    plt.xlabel('Year',fontsize=20)\n",
    "    plt.ylabel('Charged by/ Paid to hospitals($)',fontsize=20)\n",
    "    plt.xticks(fontsize=15)\n",
    "    plt.yticks(fontsize=15)\n",
    "    plt.legend(loc='best');\n",
    "    \n",
    "\n",
    "state_slider1 = widget.SelectionSlider(\n",
    "    options=my_states,\n",
    "    value='AK',\n",
    "    description='State:',\n",
    "    orientation='horizontal'\n",
    "    )\n",
    "\n",
    "\n",
    "widget.interact(my_statecost1 , state1=state_slider1)        "
   ]
  },
  {
   "cell_type": "code",
   "execution_count": 10,
   "metadata": {},
   "outputs": [
    {
     "data": {
      "application/vnd.jupyter.widget-view+json": {
       "model_id": "1b6787138088482a818bb23208d9f3b6",
       "version_major": 2,
       "version_minor": 0
      },
      "text/plain": [
       "interactive(children=(SelectionSlider(continuous_update=False, description='State:', index=5, options=('AK', '…"
      ]
     },
     "metadata": {},
     "output_type": "display_data"
    },
    {
     "data": {
      "text/plain": [
       "<function __main__.my_statecost2(state2, diagnosis_choice)>"
      ]
     },
     "execution_count": 10,
     "metadata": {},
     "output_type": "execute_result"
    }
   ],
   "source": [
    "def my_statecost2(state2,diagnosis_choice):\n",
    "    plt.figure(figsize=(16,8))\n",
    "    plt.title(f'How much hospitals in {state2} charge for procedure {diagnosis_choice}', fontsize=25)\n",
    "    \n",
    "    y = data[data['ave_data'].str.contains(\"ave_charged\")][f'{state2}{diagnosis_choice}']\n",
    "    y2 = data[data['ave_data'].str.contains(\"ave_paid\")][f'{state2}{diagnosis_choice}']\n",
    "    y3 = data[data['ave_data'].str.contains(\"ave_medicare\")][f'{state2}{diagnosis_choice}']\n",
    "    \n",
    "    plt.plot(my_years, y, label = 'Median charged by hospital ')\n",
    "    plt.plot(my_years, y2,label = 'Median payment by all')\n",
    "    plt.plot(my_years, y3,label = 'Median payment by Medicare')  \n",
    "    plt.xlabel('Year',fontsize=20)\n",
    "    plt.ylabel('Charged by/ Paid to hospitals($)',fontsize=20)\n",
    "    plt.xticks(fontsize=15)\n",
    "    plt.yticks(fontsize=15)\n",
    "    plt.legend(loc='best');\n",
    "    \n",
    "state_slider2 = widget.SelectionSlider(\n",
    "    options=my_states,\n",
    "    value='CO',\n",
    "    description='State:',\n",
    "    disabled=False,\n",
    "    continuous_update=False,\n",
    "    orientation='horizontal',\n",
    "    readout=True\n",
    "    )\n",
    "\n",
    "diagnosis_slider = widget.SelectionSlider(\n",
    "    options=common_diagnoses,\n",
    "    value='039',\n",
    "    description='Diagnosis code:',\n",
    "    disabled=False,\n",
    "    continuous_update=False,\n",
    "    orientation='horizontal',\n",
    "    readout=True\n",
    "    )\n",
    "\n",
    "widget.interact(my_statecost2, state2=state_slider2, diagnosis_choice=diagnosis_slider)        \n"
   ]
  },
  {
   "cell_type": "code",
   "execution_count": 11,
   "metadata": {},
   "outputs": [
    {
     "data": {
      "application/vnd.jupyter.widget-view+json": {
       "model_id": "5f91311a15dd4bb5b0ab4060134e078b",
       "version_major": 2,
       "version_minor": 0
      },
      "text/plain": [
       "interactive(children=(Select(description='State1:', index=1, options=('AK', 'AL', 'AR', 'AZ', 'CA', 'CO', 'CT'…"
      ]
     },
     "metadata": {},
     "output_type": "display_data"
    },
    {
     "data": {
      "text/plain": [
       "<function __main__.my_statcosts3(state3, state4)>"
      ]
     },
     "execution_count": 11,
     "metadata": {},
     "output_type": "execute_result"
    }
   ],
   "source": [
    "def my_statcosts3(state3,state4):\n",
    "    plt.figure(figsize=(16,8))\n",
    "    plt.title(f'Comparing hospital charges and payments in {state3} and {state4} (93 diagnoses)', fontsize=25)\n",
    " \n",
    "    y1= data[data['ave_data'].str.contains(\"ave_charged\")][f'{state3}all']\n",
    "    y2 = data[data['ave_data'].str.contains(\"ave_paid\")][f'{state3}all']\n",
    "    y3 = data[data['ave_data'].str.contains(\"ave_medicare\")][f'{state3}all']\n",
    "    \n",
    "    y4 = data[data['ave_data'].str.contains(\"ave_charged\")][f'{state4}all']\n",
    "    y5 = data[data['ave_data'].str.contains(\"ave_paid\")][f'{state4}all']\n",
    "    y6 = data[data['ave_data'].str.contains(\"ave_medicare\")][f'{state4}all']    \n",
    "    \n",
    "    plt.plot(my_years, y1,\n",
    "             color = 'lightgreen',\n",
    "             linestyle = 'dotted',\n",
    "             marker = 'o',\n",
    "             label = f'{state3} Median charge for diagnosis')\n",
    "    plt.plot(my_years, y2,\n",
    "             color = 'green',\n",
    "             linestyle = 'dashed',\n",
    "             marker = '^',\n",
    "             label = f'{state3} Median payment by all')\n",
    "    plt.plot(my_years, y3,\n",
    "             color = 'darkgreen',\n",
    "             linestyle = 'solid',\n",
    "             marker = 's',\n",
    "             label = f'{state3} Median payment by Medicare')\n",
    "    \n",
    "    plt.plot(my_years, y4,\n",
    "             color = 'orange',\n",
    "             linestyle = 'dotted',\n",
    "             marker = 'o',             \n",
    "             label = f'{state4} Median charge for diagnosis')\n",
    "    plt.plot(my_years, y5,\n",
    "             color = 'red',\n",
    "             linestyle = 'dashed',\n",
    "             marker = '^',\n",
    "             label = f'{state4} Median payment by all')\n",
    "    plt.plot(my_years, y6,\n",
    "             color = 'darkred',\n",
    "             linestyle = 'solid',\n",
    "             marker = 's',\n",
    "             label = f'{state4} Median payment by Medicare')     \n",
    "                                                                                                                            \n",
    "    plt.xlabel('Year',fontsize=20)\n",
    "    plt.ylabel('Paid to hospitals',fontsize=20)\n",
    "    plt.xticks(fontsize=15)\n",
    "    plt.yticks(fontsize=15)\n",
    "    plt.legend(loc='best');\n",
    "    \n",
    "state_select3 = widget.Select(\n",
    "    options=my_states,\n",
    "    value='AL',\n",
    "    description='State1:'\n",
    "    )\n",
    "    \n",
    "state_select4 = widget.Select(\n",
    "    options=my_states,\n",
    "    value='CT',\n",
    "    description='State2:'\n",
    "    )    \n",
    "\n",
    "widget.interact(my_statcosts3, state3=state_select3, state4= state_select4)   "
   ]
  },
  {
   "cell_type": "code",
   "execution_count": 12,
   "metadata": {
    "scrolled": false
   },
   "outputs": [
    {
     "data": {
      "image/png": "[encoded data removed]",
      "text/plain": [
       "<Figure size 1152x576 with 1 Axes>"
      ]
     },
     "metadata": {
      "needs_background": "light"
     },
     "output_type": "display_data"
    }
   ],
   "source": [
    "# PLOT which states charge the most\n",
    "\n",
    "x1=[]\n",
    "for st in my_states:\n",
    "    x1.append([st , data[data['ave_data'].str.contains(\"ave_charged\")][f'{st}all'].mean()])\n",
    "   \n",
    "x1= pd.DataFrame(x1)\n",
    "x1.sort_values(by = [1], inplace = True)\n",
    "\n",
    "plt.figure(figsize=(16,8))\n",
    "plt.title('Median of what hospitals charge, per state, 93 diagnoses', fontsize = 25)\n",
    "plt.bar( x1[0], x1[1], label = 'Median of what hospitals charge')\n",
    "plt.xlabel('State',fontsize=20)\n",
    "plt.ylabel('$',fontsize=20)\n",
    "plt.xticks(fontsize=15, rotation = 90)\n",
    "plt.yticks(fontsize=15)\n",
    "plt.legend(loc='best');\n"
   ]
  },
  {
   "cell_type": "code",
   "execution_count": 13,
   "metadata": {},
   "outputs": [
    {
     "data": {
      "image/png": "[encoded data removed]",
      "text/plain": [
       "<Figure size 1152x576 with 1 Axes>"
      ]
     },
     "metadata": {
      "needs_background": "light"
     },
     "output_type": "display_data"
    }
   ],
   "source": [
    "# PLOT which states get paid the \n",
    "\n",
    "x2 = []\n",
    "for st in my_states:\n",
    "    x2.append([st , data[data['ave_data'].str.contains(\"ave_paid\")][f'{st}all'].mean()])\n",
    "   \n",
    "x3 =[]\n",
    "for st in my_states:\n",
    "    x3.append([st , data[data['ave_data'].str.contains(\"ave_medicare\")][f'{st}all'].mean()])\n",
    "   \n",
    "x2 = pd.DataFrame(x2)\n",
    "x3 = pd.DataFrame(x3)\n",
    "\n",
    "x4 = x2.merge(x3, on = 0)\n",
    "x4.sort_values(by = ['1_x'], inplace = True)\n",
    "\n",
    "plt.figure(figsize=(16,8))\n",
    "plt.title('Median of what hospitals get paid by all, per state, 93 diagnoses', fontsize = 25)\n",
    "plt.bar( x4[0], x4['1_x'], label = 'Median of what hospitals get paid by all')\n",
    "plt.bar( x4[0], x4['1_y'], label = 'Median of what hospitals get paid by Medicare')\n",
    "plt.xlabel('State',fontsize=20)\n",
    "plt.ylabel('$',fontsize=20)\n",
    "plt.xticks(fontsize=15, rotation = 90)\n",
    "plt.yticks(fontsize=15)\n",
    "plt.legend(loc='best');\n"
   ]
  },
  {
   "cell_type": "code",
   "execution_count": 14,
   "metadata": {},
   "outputs": [
    {
     "data": {
      "text/plain": [
       "(0.346708747027121, 0.44613798155651485)"
      ]
     },
     "execution_count": 14,
     "metadata": {},
     "output_type": "execute_result"
    }
   ],
   "source": [
    "##########\n",
    "# Correlation of Medicare payments vs all payments\n",
    "\n",
    "x = data[data['ave_data'].str.contains(\"ave_paid\")]['USall']\n",
    "y = data[data['ave_data'].str.contains(\"ave_medicare\")]['USall']\n",
    "scipy.stats.pearsonr(x, y)\n"
   ]
  },
  {
   "cell_type": "code",
   "execution_count": 15,
   "metadata": {},
   "outputs": [
    {
     "data": {
      "image/png": "[encoded data removed]",
      "text/plain": [
       "<Figure size 1152x576 with 1 Axes>"
      ]
     },
     "metadata": {
      "needs_background": "light"
     },
     "output_type": "display_data"
    }
   ],
   "source": [
    "# calculate Pearson correlation\n",
    "pc = {}\n",
    "pp = {}\n",
    "for state in my_states:\n",
    "    x = data[data['ave_data'].str.contains(\"ave_paid\")][f'{state}all']\n",
    "    y = data[data['ave_data'].str.contains(\"ave_medicare\")][f'{state}all']\n",
    "    pc[state] = scipy.stats.pearsonr(x, y)[0]\n",
    "    pp[state] = scipy.stats.pearsonr(x, y)[1]\n",
    "    \n",
    "p_corr = pd.DataFrame([pc,pp]).T\n",
    "p_corr.rename(columns ={0:'corr', 1:'pvalue'}, inplace=True)\n",
    "p_corr.sort_values(by=['corr'], inplace=True)\n",
    "\n",
    "# PLOT correlation\n",
    "plt.figure(figsize=(16,8))\n",
    "plt.title('Correlation of total paid and amount paid by Medicare', fontsize = 25)\n",
    "plt.plot(p_corr['corr'], label = 'Pearson correlation')\n",
    "plt.plot(p_corr.pvalue, label = 'p value')\n",
    "plt.xlabel('State',fontsize=20)\n",
    "plt.ylabel('Correlation',fontsize=20)\n",
    "plt.xticks(fontsize=15, rotation = 90)\n",
    "plt.yticks(fontsize=15)\n",
    "plt.legend(loc='best');\n"
   ]
  },
  {
   "cell_type": "markdown",
   "metadata": {},
   "source": [
    "# calculate Spearman correlation\n",
    "sc = {}\n",
    "sp = {}\n",
    "for state in my_states:\n",
    "    x = data[data['ave_data'].str.contains(\"ave_paid\")][f'{state}all']\n",
    "    y = data[data['ave_data'].str.contains(\"ave_medicare\")][f'{state}all']\n",
    "    sc[state] = scipy.stats.spearmanr(x, y)[0]\n",
    "    sp[state] = scipy.stats.spearmanr(x, y)[1]\n",
    "    \n",
    "sp_corr = pd.DataFrame([sc,sp]).T\n",
    "sp_corr.rename(columns ={0:'corr', 1:'pvalue'}, inplace=True)\n",
    "sp_corr.sort_values(by=['corr'], inplace=True)\n",
    "\n",
    "# PLOT correlation\n",
    "plt.figure(figsize=(16,8))\n",
    "plt.title('Correlation of total paid and amount paid by Medicare', fontsize = 25)\n",
    "plt.plot(sp_corr['corr'], label = 'Spearman correlation')\n",
    "plt.plot(sp_corr.pvalue, label = 'p value')\n",
    "plt.xlabel('State',fontsize=20)\n",
    "plt.ylabel('Correlation',fontsize=20)\n",
    "plt.xticks(fontsize=15, rotation = 90)\n",
    "plt.yticks(fontsize=15)\n",
    "plt.legend(loc='best');"
   ]
  },
  {
   "cell_type": "markdown",
   "metadata": {},
   "source": [
    "# calculate Pearson correlation for diagnoses\n",
    "pcd = {}\n",
    "ppd = {}\n",
    "for diagnosis in common_daignoses:\n",
    "    x = data[data['ave_data'].str.contains(\"ave_paid\")][f'{state}all']\n",
    "    y = data[data['ave_data'].str.contains(\"ave_medicare\")][f'{state}all']\n",
    "    pc[state] = scipy.stats.pearsonr(x, y)[0]\n",
    "    pp[state] = scipy.stats.pearsonr(x, y)[1]\n",
    "    \n",
    "p_corr = pd.DataFrame([pc,pp]).T\n",
    "p_corr.rename(columns ={0:'corr', 1:'pvalue'}, inplace=True)\n",
    "p_corr.sort_values(by=['corr'], inplace=True)\n",
    "\n",
    "# PLOT correlation\n",
    "plt.figure(figsize=(16,8))\n",
    "plt.title('Correlation of total paid and amount paid by Medicare', fontsize = 25)\n",
    "plt.plot(p_corr['corr'], label = 'Pearson correlation')\n",
    "plt.plot(p_corr.pvalue, label = 'p value')\n",
    "plt.xlabel('State',fontsize=20)\n",
    "plt.ylabel('Correlation',fontsize=20)\n",
    "plt.xticks(fontsize=15, rotation = 90)\n",
    "plt.yticks(fontsize=15)\n",
    "plt.legend(loc='best');\n"
   ]
  },
  {
   "cell_type": "code",
   "execution_count": null,
   "metadata": {},
   "outputs": [],
   "source": []
  },
  {
   "cell_type": "markdown",
   "metadata": {},
   "source": [
    "## 2. Clean and explore lobbying data"
   ]
  },
  {
   "cell_type": "markdown",
   "metadata": {},
   "source": [
    "### Read in US population data, from 2010 Census"
   ]
  },
  {
   "cell_type": "code",
   "execution_count": 16,
   "metadata": {},
   "outputs": [
    {
     "data": {
      "text/html": [
       "<div>\n",
       "<style scoped>\n",
       "    .dataframe tbody tr th:only-of-type {\n",
       "        vertical-align: middle;\n",
       "    }\n",
       "\n",
       "    .dataframe tbody tr th {\n",
       "        vertical-align: top;\n",
       "    }\n",
       "\n",
       "    .dataframe thead th {\n",
       "        text-align: right;\n",
       "    }\n",
       "</style>\n",
       "<table border=\"1\" class=\"dataframe\">\n",
       "  <thead>\n",
       "    <tr style=\"text-align: right;\">\n",
       "      <th></th>\n",
       "      <th>state</th>\n",
       "      <th>population</th>\n",
       "    </tr>\n",
       "  </thead>\n",
       "  <tbody>\n",
       "    <tr>\n",
       "      <td>0</td>\n",
       "      <td>AL</td>\n",
       "      <td>4779736</td>\n",
       "    </tr>\n",
       "    <tr>\n",
       "      <td>1</td>\n",
       "      <td>AK</td>\n",
       "      <td>710231</td>\n",
       "    </tr>\n",
       "    <tr>\n",
       "      <td>2</td>\n",
       "      <td>AZ</td>\n",
       "      <td>6392017</td>\n",
       "    </tr>\n",
       "    <tr>\n",
       "      <td>3</td>\n",
       "      <td>AR</td>\n",
       "      <td>2915918</td>\n",
       "    </tr>\n",
       "    <tr>\n",
       "      <td>4</td>\n",
       "      <td>CA</td>\n",
       "      <td>37253956</td>\n",
       "    </tr>\n",
       "  </tbody>\n",
       "</table>\n",
       "</div>"
      ],
      "text/plain": [
       "  state  population\n",
       "0    AL     4779736\n",
       "1    AK      710231\n",
       "2    AZ     6392017\n",
       "3    AR     2915918\n",
       "4    CA    37253956"
      ]
     },
     "execution_count": 16,
     "metadata": {},
     "output_type": "execute_result"
    }
   ],
   "source": [
    "# No additional cleaning needed\n",
    "pop=pd.read_csv('./data/states/population.csv')\n",
    "pop.head()"
   ]
  },
  {
   "cell_type": "markdown",
   "metadata": {},
   "source": [
    "### Read in and clean Lobby Disclosure Act reports"
   ]
  },
  {
   "cell_type": "code",
   "execution_count": 17,
   "metadata": {},
   "outputs": [],
   "source": [
    "# Import my data into 's' states dictionary of dataframes, keyed for each state\n",
    "s={}\n",
    "for st in my_states:\n",
    "    s[st] = pd.read_csv(f'./data/states/{st}.csv')"
   ]
  },
  {
   "cell_type": "code",
   "execution_count": 18,
   "metadata": {},
   "outputs": [
    {
     "data": {
      "text/html": [
       "<div>\n",
       "<style scoped>\n",
       "    .dataframe tbody tr th:only-of-type {\n",
       "        vertical-align: middle;\n",
       "    }\n",
       "\n",
       "    .dataframe tbody tr th {\n",
       "        vertical-align: top;\n",
       "    }\n",
       "\n",
       "    .dataframe thead th {\n",
       "        text-align: right;\n",
       "    }\n",
       "</style>\n",
       "<table border=\"1\" class=\"dataframe\">\n",
       "  <thead>\n",
       "    <tr style=\"text-align: right;\">\n",
       "      <th></th>\n",
       "      <th>State</th>\n",
       "      <th>Registrant Name</th>\n",
       "      <th>Client Name</th>\n",
       "      <th>Filing Type</th>\n",
       "      <th>Amount Reported</th>\n",
       "      <th>Date Posted</th>\n",
       "      <th>Filing Year</th>\n",
       "    </tr>\n",
       "  </thead>\n",
       "  <tbody>\n",
       "    <tr>\n",
       "      <td>0</td>\n",
       "      <td>AL</td>\n",
       "      <td>Acadian Advantage, LLC</td>\n",
       "      <td>Bob Riley and Associates on behalf of HPC Spec...</td>\n",
       "      <td>FOURTH QUARTER REPORT</td>\n",
       "      <td>$10,000.00</td>\n",
       "      <td>1/17/2020</td>\n",
       "      <td>2019</td>\n",
       "    </tr>\n",
       "    <tr>\n",
       "      <td>1</td>\n",
       "      <td>AL</td>\n",
       "      <td>Acadian Advantage, LLC</td>\n",
       "      <td>Bob Riley and Associates on behalf of HPC Spec...</td>\n",
       "      <td>FOURTH QUARTER REPORT</td>\n",
       "      <td>$15,000.00</td>\n",
       "      <td>1/30/2019</td>\n",
       "      <td>2018</td>\n",
       "    </tr>\n",
       "    <tr>\n",
       "      <td>2</td>\n",
       "      <td>AL</td>\n",
       "      <td>Acadian Advantage, LLC</td>\n",
       "      <td>Bob Riley and Associates on behalf of HPC Spec...</td>\n",
       "      <td>FIRST QUARTER REPORT</td>\n",
       "      <td>$15,000.00</td>\n",
       "      <td>4/17/2019</td>\n",
       "      <td>2019</td>\n",
       "    </tr>\n",
       "    <tr>\n",
       "      <td>3</td>\n",
       "      <td>AL</td>\n",
       "      <td>Acadian Advantage, LLC</td>\n",
       "      <td>Bob Riley and Associates on behalf of HPC Spec...</td>\n",
       "      <td>SECOND QUARTER REPORT</td>\n",
       "      <td>$15,000.00</td>\n",
       "      <td>7/18/2019</td>\n",
       "      <td>2019</td>\n",
       "    </tr>\n",
       "    <tr>\n",
       "      <td>4</td>\n",
       "      <td>AL</td>\n",
       "      <td>Acadian Advantage, LLC</td>\n",
       "      <td>Bob Riley and Associates on behalf of HPC Spec...</td>\n",
       "      <td>THIRD QUARTER AMENDMENT</td>\n",
       "      <td>$15,000.00</td>\n",
       "      <td>10/23/2018</td>\n",
       "      <td>2018</td>\n",
       "    </tr>\n",
       "  </tbody>\n",
       "</table>\n",
       "</div>"
      ],
      "text/plain": [
       "  State         Registrant Name  \\\n",
       "0    AL  Acadian Advantage, LLC   \n",
       "1    AL  Acadian Advantage, LLC   \n",
       "2    AL  Acadian Advantage, LLC   \n",
       "3    AL  Acadian Advantage, LLC   \n",
       "4    AL  Acadian Advantage, LLC   \n",
       "\n",
       "                                         Client Name              Filing Type  \\\n",
       "0  Bob Riley and Associates on behalf of HPC Spec...    FOURTH QUARTER REPORT   \n",
       "1  Bob Riley and Associates on behalf of HPC Spec...    FOURTH QUARTER REPORT   \n",
       "2  Bob Riley and Associates on behalf of HPC Spec...     FIRST QUARTER REPORT   \n",
       "3  Bob Riley and Associates on behalf of HPC Spec...    SECOND QUARTER REPORT   \n",
       "4  Bob Riley and Associates on behalf of HPC Spec...  THIRD QUARTER AMENDMENT   \n",
       "\n",
       "  Amount Reported Date Posted  Filing Year  \n",
       "0      $10,000.00   1/17/2020         2019  \n",
       "1      $15,000.00   1/30/2019         2018  \n",
       "2      $15,000.00   4/17/2019         2019  \n",
       "3      $15,000.00   7/18/2019         2019  \n",
       "4      $15,000.00  10/23/2018         2018  "
      ]
     },
     "execution_count": 18,
     "metadata": {},
     "output_type": "execute_result"
    }
   ],
   "source": [
    "s['AL'].head(5)"
   ]
  },
  {
   "cell_type": "code",
   "execution_count": 19,
   "metadata": {},
   "outputs": [],
   "source": [
    "for st in my_states:\n",
    "    # for every df in my dictionary, change the col names\n",
    "    s[st].columns = ['state', 'lobbyist', 'client','report','amount','date','year']\n",
    "    \n",
    "    # if there is an AMENDMENT report, keep the latest AMENDMENT and discard the previous REPORT\n",
    "    # to do this we have to create a new col to help with identifying duplicates\n",
    "    s[st]['date'] = pd.to_datetime(s[st]['date'])\n",
    "    s[st].sort_values(by=['date'], inplace = True)\n",
    "    s[st]['period'] = (s[st]['report'].str.split().str[:-1])\n",
    "    s[st]['period'] = s[st]['period'].map(lambda val: ' '.join(val))\n",
    "    s[st] = s[st].drop_duplicates(subset = ['state','client', 'year', 'period'],keep = 'last')    \n",
    "        \n",
    "    # remove all the nuls\n",
    "    # this removes all 'REGISTRATION', 'TERMINATION', other reports with no reported amounts\n",
    "    s[st].dropna(inplace=True)    \n",
    "\n",
    "    # drop cols I won't be using\n",
    "    s[st].drop(columns = ['lobbyist', 'date','period'],inplace= True)\n",
    "\n",
    "    # convert money to float\n",
    "    s[st].amount = s[st].amount.str.replace('$','')\n",
    "    s[st].amount = s[st].amount.str.replace(',','')\n",
    "    s[st].amount = s[st].amount.str.replace(' ','')\n",
    "    s[st].amount = s[st].amount.astype(float)    \n",
    " \n",
    "    # sum amount by state and year\n",
    "    s[st]=s[st].groupby(['year'],as_index=False).sum()\n",
    "\n",
    "    # divide by population\n",
    "    s[st]['per_cap']= s[st].amount/ (pop[pop.state == st]['population'].values[0] ) \n",
    "    \n",
    "    s[st].rename(columns = {'amount': f'{st}amount', 'per_cap' : f'{st}per_cap'}, inplace=True)\n",
    "  "
   ]
  },
  {
   "cell_type": "code",
   "execution_count": 20,
   "metadata": {},
   "outputs": [
    {
     "data": {
      "text/html": [
       "<div>\n",
       "<style scoped>\n",
       "    .dataframe tbody tr th:only-of-type {\n",
       "        vertical-align: middle;\n",
       "    }\n",
       "\n",
       "    .dataframe tbody tr th {\n",
       "        vertical-align: top;\n",
       "    }\n",
       "\n",
       "    .dataframe thead th {\n",
       "        text-align: right;\n",
       "    }\n",
       "</style>\n",
       "<table border=\"1\" class=\"dataframe\">\n",
       "  <thead>\n",
       "    <tr style=\"text-align: right;\">\n",
       "      <th></th>\n",
       "      <th>year</th>\n",
       "      <th>AKamount</th>\n",
       "      <th>AKper_cap</th>\n",
       "    </tr>\n",
       "  </thead>\n",
       "  <tbody>\n",
       "    <tr>\n",
       "      <td>0</td>\n",
       "      <td>2000</td>\n",
       "      <td>40000.0</td>\n",
       "      <td>0.05632</td>\n",
       "    </tr>\n",
       "    <tr>\n",
       "      <td>1</td>\n",
       "      <td>2001</td>\n",
       "      <td>40000.0</td>\n",
       "      <td>0.05632</td>\n",
       "    </tr>\n",
       "  </tbody>\n",
       "</table>\n",
       "</div>"
      ],
      "text/plain": [
       "   year  AKamount  AKper_cap\n",
       "0  2000   40000.0    0.05632\n",
       "1  2001   40000.0    0.05632"
      ]
     },
     "execution_count": 20,
     "metadata": {},
     "output_type": "execute_result"
    }
   ],
   "source": [
    "s[\"AK\"].head(2)"
   ]
  },
  {
   "cell_type": "code",
   "execution_count": 21,
   "metadata": {},
   "outputs": [],
   "source": [
    "# Many of the US states do not have any registered lobbying activities for certain years.\n",
    "# Let's assign $0 to these missing values\n",
    "my_years2 = list(range(1999,2020))\n",
    "\n",
    "for st in my_states:\n",
    "    for yr in my_years2:\n",
    "        if yr not in s[st].year.unique():\n",
    "            s[st] = s[st].append(pd.Series([yr,0,0], index=s[st].columns ),ignore_index=True)\n",
    "    s[st].sort_values(by=['year'], inplace = True)   "
   ]
  },
  {
   "cell_type": "code",
   "execution_count": 23,
   "metadata": {},
   "outputs": [],
   "source": [
    "data1 = s['AK'].merge(s['AL'], on=['year'])\n",
    "\n",
    "for i in range(2,50):\n",
    "    data2 = data1.merge(s[my_states[i]], on = ['year'])\n",
    "    data1 = data2\n"
   ]
  },
  {
   "cell_type": "code",
   "execution_count": 24,
   "metadata": {},
   "outputs": [],
   "source": [
    "data2['Total_amount'] = data2.filter(like = 'amount').sum(axis = 1)\n",
    "data2['US_amount'] = data2.filter(like= 'amount').median(axis=1)"
   ]
  },
  {
   "cell_type": "code",
   "execution_count": 25,
   "metadata": {},
   "outputs": [
    {
     "data": {
      "text/html": [
       "<div>\n",
       "<style scoped>\n",
       "    .dataframe tbody tr th:only-of-type {\n",
       "        vertical-align: middle;\n",
       "    }\n",
       "\n",
       "    .dataframe tbody tr th {\n",
       "        vertical-align: top;\n",
       "    }\n",
       "\n",
       "    .dataframe thead th {\n",
       "        text-align: right;\n",
       "    }\n",
       "</style>\n",
       "<table border=\"1\" class=\"dataframe\">\n",
       "  <thead>\n",
       "    <tr style=\"text-align: right;\">\n",
       "      <th></th>\n",
       "      <th>year</th>\n",
       "      <th>AKamount</th>\n",
       "      <th>AKper_cap</th>\n",
       "      <th>ALamount</th>\n",
       "      <th>ALper_cap</th>\n",
       "      <th>ARamount</th>\n",
       "      <th>ARper_cap</th>\n",
       "      <th>AZamount</th>\n",
       "      <th>AZper_cap</th>\n",
       "      <th>CAamount</th>\n",
       "      <th>...</th>\n",
       "      <th>WAamount</th>\n",
       "      <th>WAper_cap</th>\n",
       "      <th>WIamount</th>\n",
       "      <th>WIper_cap</th>\n",
       "      <th>WVamount</th>\n",
       "      <th>WVper_cap</th>\n",
       "      <th>WYamount</th>\n",
       "      <th>WYper_cap</th>\n",
       "      <th>Total_amount</th>\n",
       "      <th>US_amount</th>\n",
       "    </tr>\n",
       "  </thead>\n",
       "  <tbody>\n",
       "    <tr>\n",
       "      <td>0</td>\n",
       "      <td>1999</td>\n",
       "      <td>0.0</td>\n",
       "      <td>0.00000</td>\n",
       "      <td>280000.0</td>\n",
       "      <td>0.058581</td>\n",
       "      <td>380000.0</td>\n",
       "      <td>0.130319</td>\n",
       "      <td>855000.0</td>\n",
       "      <td>0.133761</td>\n",
       "      <td>9159700.0</td>\n",
       "      <td>...</td>\n",
       "      <td>1331318.0</td>\n",
       "      <td>0.197979</td>\n",
       "      <td>1212700.0</td>\n",
       "      <td>0.213241</td>\n",
       "      <td>70000.0</td>\n",
       "      <td>0.037777</td>\n",
       "      <td>0.0</td>\n",
       "      <td>0.0</td>\n",
       "      <td>124443310.0</td>\n",
       "      <td>433500.0</td>\n",
       "    </tr>\n",
       "    <tr>\n",
       "      <td>1</td>\n",
       "      <td>2000</td>\n",
       "      <td>40000.0</td>\n",
       "      <td>0.05632</td>\n",
       "      <td>500000.0</td>\n",
       "      <td>0.104608</td>\n",
       "      <td>1230000.0</td>\n",
       "      <td>0.421823</td>\n",
       "      <td>200000.0</td>\n",
       "      <td>0.031289</td>\n",
       "      <td>9569400.0</td>\n",
       "      <td>...</td>\n",
       "      <td>2390689.0</td>\n",
       "      <td>0.355517</td>\n",
       "      <td>932734.0</td>\n",
       "      <td>0.164012</td>\n",
       "      <td>130000.0</td>\n",
       "      <td>0.070157</td>\n",
       "      <td>0.0</td>\n",
       "      <td>0.0</td>\n",
       "      <td>145841258.0</td>\n",
       "      <td>880000.0</td>\n",
       "    </tr>\n",
       "  </tbody>\n",
       "</table>\n",
       "<p>2 rows × 103 columns</p>\n",
       "</div>"
      ],
      "text/plain": [
       "   year  AKamount  AKper_cap  ALamount  ALper_cap   ARamount  ARper_cap  \\\n",
       "0  1999       0.0    0.00000  280000.0   0.058581   380000.0   0.130319   \n",
       "1  2000   40000.0    0.05632  500000.0   0.104608  1230000.0   0.421823   \n",
       "\n",
       "   AZamount  AZper_cap   CAamount  ...   WAamount  WAper_cap   WIamount  \\\n",
       "0  855000.0   0.133761  9159700.0  ...  1331318.0   0.197979  1212700.0   \n",
       "1  200000.0   0.031289  9569400.0  ...  2390689.0   0.355517   932734.0   \n",
       "\n",
       "   WIper_cap  WVamount  WVper_cap  WYamount  WYper_cap  Total_amount  \\\n",
       "0   0.213241   70000.0   0.037777       0.0        0.0   124443310.0   \n",
       "1   0.164012  130000.0   0.070157       0.0        0.0   145841258.0   \n",
       "\n",
       "   US_amount  \n",
       "0   433500.0  \n",
       "1   880000.0  \n",
       "\n",
       "[2 rows x 103 columns]"
      ]
     },
     "execution_count": 25,
     "metadata": {},
     "output_type": "execute_result"
    }
   ],
   "source": [
    "data2.head(2)"
   ]
  },
  {
   "cell_type": "code",
   "execution_count": 26,
   "metadata": {
    "scrolled": false
   },
   "outputs": [
    {
     "data": {
      "image/png": "[encoded data removed]",
      "text/plain": [
       "<Figure size 1152x576 with 1 Axes>"
      ]
     },
     "metadata": {
      "needs_background": "light"
     },
     "output_type": "display_data"
    }
   ],
   "source": [
    "\n",
    "plt.figure(figsize=(16,8))\n",
    "plt.title('Total amount of lobbying for Health Issues for all US', fontsize = 25)\n",
    "plt.plot(data2.year,data2['Total_amount'], label = 'Total lobbying for US')\n",
    "plt.xlabel('Year',fontsize=20)\n",
    "plt.ylabel('$100M',fontsize=20)\n",
    "plt.xticks(data2.year,fontsize=15, rotation = 45)\n",
    "plt.yticks(fontsize=15)\n",
    "plt.legend(loc='best');\n"
   ]
  },
  {
   "cell_type": "code",
   "execution_count": 27,
   "metadata": {},
   "outputs": [
    {
     "data": {
      "text/plain": [
       "(0.7577422665439904, 0.048453539473213396)"
      ]
     },
     "execution_count": 27,
     "metadata": {},
     "output_type": "execute_result"
    }
   ],
   "source": [
    "#########\n",
    "# Correlation of Lobbying vs hearlthcare charges\n",
    "\n",
    "x = data[data['ave_data'].str.contains(\"ave_charged\")]['USall']\n",
    "y = data2[data2['year'].between(2011, 2017)]['US_amount']\n",
    "scipy.stats.pearsonr(x, y)\n"
   ]
  },
  {
   "cell_type": "code",
   "execution_count": 28,
   "metadata": {},
   "outputs": [
    {
     "data": {
      "application/vnd.jupyter.widget-view+json": {
       "model_id": "1e8d96cec0d04788a142980293dadb2f",
       "version_major": 2,
       "version_minor": 0
      },
      "text/plain": [
       "interactive(children=(Select(description='State1:', index=1, options=('AK', 'AL', 'AR', 'AZ', 'CA', 'CO', 'CT'…"
      ]
     },
     "metadata": {},
     "output_type": "display_data"
    },
    {
     "data": {
      "text/plain": [
       "<function __main__.my_statelobby1(state5, state6)>"
      ]
     },
     "execution_count": 28,
     "metadata": {},
     "output_type": "execute_result"
    }
   ],
   "source": [
    "def my_statelobby1(state5,state6):\n",
    "    plt.figure(figsize=(16,8))\n",
    "    plt.title(f'Comparing healthcare lobbying for {state5} and {state6} (US Senate)', fontsize=25)\n",
    "    plt.plot(data2.year, data2[f'{state5}amount'],\n",
    "             color = 'lightgreen',\n",
    "             linestyle = 'dotted',\n",
    "             marker = 'o',\n",
    "             label = f'{state5} total lobbying')\n",
    "\n",
    "    plt.plot(data2.year, data2[f'{state6}amount'],\n",
    "             color = 'orange',\n",
    "             linestyle = 'dotted',\n",
    "             marker = 'o',\n",
    "             label = f'{state6} total lobbying')\n",
    "                                          \n",
    "    plt.xlabel('Year',fontsize=20)\n",
    "    plt.ylabel('Paid to lobbyists ($10M)',fontsize=20)\n",
    "    plt.xticks(fontsize=15)\n",
    "    plt.yticks(fontsize=15)\n",
    "    plt.legend(loc='best');\n",
    "    \n",
    "state_select5 = widget.Select(\n",
    "    options=my_states,\n",
    "    value='AL',\n",
    "    description='State1:',\n",
    "    )\n",
    "    \n",
    "state_select6 = widget.Select(\n",
    "    options=my_states,\n",
    "    value='CT',\n",
    "    description='State2:',\n",
    "    )    \n",
    "\n",
    "widget.interact(my_statelobby1, state5=state_select5, state6= state_select6)   "
   ]
  },
  {
   "cell_type": "code",
   "execution_count": 29,
   "metadata": {},
   "outputs": [
    {
     "data": {
      "application/vnd.jupyter.widget-view+json": {
       "model_id": "f54073f3c9e849a5ba9e9a08336c59f9",
       "version_major": 2,
       "version_minor": 0
      },
      "text/plain": [
       "interactive(children=(Select(description='State1:', index=1, options=('AK', 'AL', 'AR', 'AZ', 'CA', 'CO', 'CT'…"
      ]
     },
     "metadata": {},
     "output_type": "display_data"
    },
    {
     "data": {
      "text/plain": [
       "<function __main__.my_statelobby2(state7, state8)>"
      ]
     },
     "execution_count": 29,
     "metadata": {},
     "output_type": "execute_result"
    }
   ],
   "source": [
    "def my_statelobby2(state7,state8):\n",
    "    plt.figure(figsize=(16,8))\n",
    "    plt.title(f'Comparing healthcare lobbying per capita for {state7} and {state8} (US Senate)', fontsize=25)\n",
    " \n",
    "    plt.plot(data2.year, data2[f'{state7}per_cap'],\n",
    "             color = 'lightgreen',\n",
    "             linestyle = 'dotted',\n",
    "             marker = 'o',\n",
    "             label = f'{state7} per capita lobbying')\n",
    "\n",
    "    plt.plot(data2.year, data2[f'{state8}per_cap'],\n",
    "             color = 'orange',\n",
    "             linestyle = 'dotted',\n",
    "             marker = 'o',\n",
    "             label = f'{state8} per capita lobbying')\n",
    "                                          \n",
    "    plt.xlabel('Year',fontsize=20)\n",
    "    plt.ylabel('Paid to lobbyists ($ percapita)',fontsize=20)\n",
    "    plt.xticks(fontsize=15)\n",
    "    plt.yticks(fontsize=15)\n",
    "    plt.legend(loc='best');\n",
    "    \n",
    "state_select7 = widget.Select(\n",
    "    options=my_states,\n",
    "    value='AL',\n",
    "    description='State1:',\n",
    "    )\n",
    "    \n",
    "state_select8 = widget.Select(\n",
    "    options=my_states,\n",
    "    value='CT',\n",
    "    description='State2:',\n",
    "    )    \n",
    "\n",
    "widget.interact(my_statelobby2, state7=state_select7, state8= state_select8)   "
   ]
  }
 ],
 "metadata": {
  "kernelspec": {
   "display_name": "Python 3",
   "language": "python",
   "name": "python3"
  },
  "language_info": {
   "codemirror_mode": {
    "name": "ipython",
    "version": 3
   },
   "file_extension": ".py",
   "mimetype": "text/x-python",
   "name": "python",
   "nbconvert_exporter": "python",
   "pygments_lexer": "ipython3",
   "version": "3.7.4"
  }
 },
 "nbformat": 4,
 "nbformat_minor": 2
}
