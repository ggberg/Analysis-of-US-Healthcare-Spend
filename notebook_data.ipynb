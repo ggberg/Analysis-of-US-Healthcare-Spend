{
 "cells": [
  {
   "cell_type": "markdown",
   "metadata": {},
   "source": [
    "# Exploration of US healthcare spend -- Data cleaning\n",
    "\n",
    "###   \n",
    "## Data Sources:\n",
    "\n",
    "### 1. Inpatient charge data\n",
    "\n",
    "Source: https://www.cms.gov/Research-Statistics-Data-and-Systems/Statistics-Trends-and-Reports/Medicare-Provider-Charge-Data/Inpatient2017\n",
    "\n",
    "This data set provides the charges and payments of healthcare procedures for the years 2011-2017 for more than 3,000 U.S. hospitals.  Charges are for 100 common diagnoses in years 2011-2013 and for 560+ common diagnoses for years 2014-2017.  Each year consisted of 160k-200k rows of data.\n",
    "\n",
    "### 2. United States Senate Lobby Disclosure Act reports\n",
    "\n",
    "Source: https://www.senate.gov/legislative/Public_Disclosure/LDA_reports.htm\n",
    "\n",
    "This data set was collected from the US Senate Lobby Disclosure Act (LDA) database.  The LDA database was queried on 'Health Issues' and individual US states.  The data provides lobbyist funding for 50 states from 1999-2019.  Data for each US state ranged from 1000 to 13,000 entries.\n",
    "\n",
    "### 3. United States census data\n",
    "\n",
    "Source: https://www.census.gov/data/tables/time-series/demo/popest/2010s-state-total.html\n",
    "\n",
    "Provides population of 50 states from the 2010 census."
   ]
  },
  {
   "cell_type": "markdown",
   "metadata": {},
   "source": [
    "### Import tools "
   ]
  },
  {
   "cell_type": "code",
   "execution_count": 1,
   "metadata": {},
   "outputs": [],
   "source": [
    "import requests\n",
    "import numpy as np\n",
    "import pandas as pd\n",
    "import scipy.stats\n",
    "import matplotlib.pyplot as plt\n",
    "import seaborn as sns\n",
    "import time\n",
    "import ipywidgets as widget\n",
    "import string"
   ]
  },
  {
   "cell_type": "markdown",
   "metadata": {},
   "source": [
    "##  \n",
    "## 1. Clean inpatient charge data"
   ]
  },
  {
   "cell_type": "code",
   "execution_count": 2,
   "metadata": {},
   "outputs": [],
   "source": [
    "# Import annual healtchare cost data into a costs dictionary 'c', each dtaframe is keyed for each year\n",
    "\n",
    "c={}\n",
    "my_years1 = [2011, 2012, 2013, 2014, 2015, 2016, 2017]\n",
    "for yr in my_years1:\n",
    "    c[yr] = pd.read_csv(f'./data/costs/costs_{yr}.csv')"
   ]
  },
  {
   "cell_type": "code",
   "execution_count": 3,
   "metadata": {},
   "outputs": [
    {
     "data": {
      "text/html": [
       "<div>\n",
       "<style scoped>\n",
       "    .dataframe tbody tr th:only-of-type {\n",
       "        vertical-align: middle;\n",
       "    }\n",
       "\n",
       "    .dataframe tbody tr th {\n",
       "        vertical-align: top;\n",
       "    }\n",
       "\n",
       "    .dataframe thead th {\n",
       "        text-align: right;\n",
       "    }\n",
       "</style>\n",
       "<table border=\"1\" class=\"dataframe\">\n",
       "  <thead>\n",
       "    <tr style=\"text-align: right;\">\n",
       "      <th></th>\n",
       "      <th>DRG Definition</th>\n",
       "      <th>Provider Id</th>\n",
       "      <th>Provider Name</th>\n",
       "      <th>Provider Street Address</th>\n",
       "      <th>Provider City</th>\n",
       "      <th>Provider State</th>\n",
       "      <th>Provider Zip Code</th>\n",
       "      <th>Hospital Referral Region Description</th>\n",
       "      <th>Total Discharges</th>\n",
       "      <th>Average Covered Charges</th>\n",
       "      <th>Average Total Payments</th>\n",
       "      <th>Average Medicare Payments</th>\n",
       "    </tr>\n",
       "  </thead>\n",
       "  <tbody>\n",
       "    <tr>\n",
       "      <td>0</td>\n",
       "      <td>039 - EXTRACRANIAL PROCEDURES W/O CC/MCC</td>\n",
       "      <td>10001</td>\n",
       "      <td>SOUTHEAST ALABAMA MEDICAL CENTER</td>\n",
       "      <td>1108 ROSS CLARK CIRCLE</td>\n",
       "      <td>DOTHAN</td>\n",
       "      <td>AL</td>\n",
       "      <td>36301</td>\n",
       "      <td>AL - Dothan</td>\n",
       "      <td>91</td>\n",
       "      <td>32963.07</td>\n",
       "      <td>5777.24</td>\n",
       "      <td>4763.73</td>\n",
       "    </tr>\n",
       "    <tr>\n",
       "      <td>1</td>\n",
       "      <td>039 - EXTRACRANIAL PROCEDURES W/O CC/MCC</td>\n",
       "      <td>10005</td>\n",
       "      <td>MARSHALL MEDICAL CENTER SOUTH</td>\n",
       "      <td>2505 U S HIGHWAY 431 NORTH</td>\n",
       "      <td>BOAZ</td>\n",
       "      <td>AL</td>\n",
       "      <td>35957</td>\n",
       "      <td>AL - Birmingham</td>\n",
       "      <td>14</td>\n",
       "      <td>15131.85</td>\n",
       "      <td>5787.57</td>\n",
       "      <td>4976.71</td>\n",
       "    </tr>\n",
       "  </tbody>\n",
       "</table>\n",
       "</div>"
      ],
      "text/plain": [
       "                             DRG Definition  Provider Id  \\\n",
       "0  039 - EXTRACRANIAL PROCEDURES W/O CC/MCC        10001   \n",
       "1  039 - EXTRACRANIAL PROCEDURES W/O CC/MCC        10005   \n",
       "\n",
       "                      Provider Name     Provider Street Address Provider City  \\\n",
       "0  SOUTHEAST ALABAMA MEDICAL CENTER      1108 ROSS CLARK CIRCLE        DOTHAN   \n",
       "1     MARSHALL MEDICAL CENTER SOUTH  2505 U S HIGHWAY 431 NORTH          BOAZ   \n",
       "\n",
       "  Provider State  Provider Zip Code Hospital Referral Region Description  \\\n",
       "0             AL              36301                          AL - Dothan   \n",
       "1             AL              35957                      AL - Birmingham   \n",
       "\n",
       "    Total Discharges    Average Covered Charges    Average Total Payments   \\\n",
       "0                  91                   32963.07                   5777.24   \n",
       "1                  14                   15131.85                   5787.57   \n",
       "\n",
       "   Average Medicare Payments  \n",
       "0                    4763.73  \n",
       "1                    4976.71  "
      ]
     },
     "execution_count": 3,
     "metadata": {},
     "output_type": "execute_result"
    }
   ],
   "source": [
    "c[2011].head(2)"
   ]
  },
  {
   "cell_type": "code",
   "execution_count": 4,
   "metadata": {},
   "outputs": [
    {
     "name": "stdout",
     "output_type": "stream",
     "text": [
      "YR=2011, SHAPE=(4925, 7), STATES=50,  DIAGNOSES=100\n",
      "YR=2012, SHAPE=(4939, 7), STATES=50,  DIAGNOSES=100\n",
      "YR=2013, SHAPE=(4937, 7), STATES=50,  DIAGNOSES=100\n",
      "YR=2014, SHAPE=(14809, 7), STATES=50,  DIAGNOSES=564\n",
      "YR=2015, SHAPE=(15024, 7), STATES=50,  DIAGNOSES=563\n",
      "YR=2016, SHAPE=(15239, 7), STATES=50,  DIAGNOSES=573\n",
      "YR=2017, SHAPE=(15223, 7), STATES=50,  DIAGNOSES=563\n",
      "Summy of dictionary with yearly healthcare charge and payment data\n"
     ]
    }
   ],
   "source": [
    "# CLEAN cost data, for every df/ year in my costs dictionary ...\n",
    "\n",
    "for yr in my_years1:\n",
    "    # change COL names, annotate the years\n",
    "    c[yr].columns = ['diagnosis', 'id', 'name','address','city','state','zip','region',\n",
    "       f'discharged_{yr}', f'charged_{yr}', f'paid_byall_{yr}', f'paid_bymed_{yr}']\n",
    "    \n",
    "    # drop COLS I won't be using\n",
    "    c[yr].drop(columns = ['id', 'name', 'address', 'city', 'zip', 'region',f'discharged_{yr}'],inplace= True)\n",
    "    \n",
    "    # truncate Diagnosis Related Group (DRG) description to 3 digit string\n",
    "    c[yr].diagnosis = c[yr].diagnosis.str[0:3]\n",
    "    \n",
    "    # drop DC as a state\n",
    "    c[yr].drop(c[yr][c[yr]['state'] == 'DC'].index, inplace=True)    \n",
    " \n",
    "    # consolidate all the state data by diagnosis, and get the median of what each state charges/ is paid\n",
    "    c[yr]=c[yr].groupby(['state','diagnosis'],as_index=False).median()\n",
    "\n",
    "\n",
    "    # NEW COL = this col compares the cost of a procedure vs what medicare pays\n",
    "    c[yr][f'charge_over_med_{yr}'] = (c[yr][f'charged_{yr}'] - c[yr][f'paid_bymed_{yr}']\n",
    "                                     ) / c[yr][f'paid_bymed_{yr}']\n",
    "\n",
    "    # NEW COL = this col compares the average amount paid for a procedure vs what medicare pays\n",
    "    c[yr][f'paid_over_med_{yr}'] = (c[yr][f'paid_byall_{yr}'] - c[yr][f'paid_bymed_{yr}']\n",
    "                                     ) / c[yr][f'paid_bymed_{yr}']             \n",
    "    \n",
    "    # mark the progress\n",
    "    print(f'YR={yr}, SHAPE={c[yr].shape}, STATES={len(c[yr].state.unique())},  DIAGNOSES={len(c[yr].diagnosis.unique())}')\n",
    "    \n",
    "print('Summy of dictionary with yearly healthcare charge and payment data')"
   ]
  },
  {
   "cell_type": "code",
   "execution_count": 5,
   "metadata": {},
   "outputs": [
    {
     "name": "stdout",
     "output_type": "stream",
     "text": [
      "(4819, 12)\n",
      "(4659, 17)\n",
      "(4641, 22)\n",
      "(4582, 27)\n",
      "(4494, 32)\n",
      "(4468, 37)\n"
     ]
    }
   ],
   "source": [
    "# MERGE all the years into one dataframe\n",
    "# Data is merged on the State and the (DRG) diagnosis, mark our progress\n",
    "\n",
    "merge1 = c[2011].merge(c[2012], on=['state','diagnosis'])\n",
    "print(merge1.shape)\n",
    "\n",
    "merge2 = merge1.merge(c[2013], on=['state','diagnosis'])\n",
    "print(merge2.shape)\n",
    "\n",
    "merge3 = merge2.merge(c[2014], on=['state','diagnosis'])\n",
    "print(merge3.shape)\n",
    "\n",
    "merge4 = merge3.merge(c[2015], on=['state','diagnosis'])\n",
    "print(merge4.shape)\n",
    "\n",
    "merge5 = merge4.merge(c[2016], on=['state','diagnosis'])\n",
    "print(merge5.shape)\n",
    "\n",
    "merge6 = merge5.merge(c[2017], on=['state','diagnosis'])\n",
    "print(merge6.shape)\n"
   ]
  },
  {
   "cell_type": "code",
   "execution_count": 6,
   "metadata": {},
   "outputs": [
    {
     "data": {
      "text/html": [
       "<div>\n",
       "<style scoped>\n",
       "    .dataframe tbody tr th:only-of-type {\n",
       "        vertical-align: middle;\n",
       "    }\n",
       "\n",
       "    .dataframe tbody tr th {\n",
       "        vertical-align: top;\n",
       "    }\n",
       "\n",
       "    .dataframe thead th {\n",
       "        text-align: right;\n",
       "    }\n",
       "</style>\n",
       "<table border=\"1\" class=\"dataframe\">\n",
       "  <thead>\n",
       "    <tr style=\"text-align: right;\">\n",
       "      <th></th>\n",
       "      <th>state</th>\n",
       "      <th>diagnosis</th>\n",
       "      <th>charged_2011</th>\n",
       "      <th>paid_byall_2011</th>\n",
       "      <th>paid_bymed_2011</th>\n",
       "      <th>charge_over_med_2011</th>\n",
       "      <th>paid_over_med_2011</th>\n",
       "      <th>charged_2012</th>\n",
       "      <th>paid_byall_2012</th>\n",
       "      <th>paid_bymed_2012</th>\n",
       "      <th>...</th>\n",
       "      <th>charged_2016</th>\n",
       "      <th>paid_byall_2016</th>\n",
       "      <th>paid_bymed_2016</th>\n",
       "      <th>charge_over_med_2016</th>\n",
       "      <th>paid_over_med_2016</th>\n",
       "      <th>charged_2017</th>\n",
       "      <th>paid_byall_2017</th>\n",
       "      <th>paid_bymed_2017</th>\n",
       "      <th>charge_over_med_2017</th>\n",
       "      <th>paid_over_med_2017</th>\n",
       "    </tr>\n",
       "  </thead>\n",
       "  <tbody>\n",
       "    <tr>\n",
       "      <td>0</td>\n",
       "      <td>AK</td>\n",
       "      <td>039</td>\n",
       "      <td>34805.13</td>\n",
       "      <td>8401.95</td>\n",
       "      <td>6413.780</td>\n",
       "      <td>4.426617</td>\n",
       "      <td>0.309984</td>\n",
       "      <td>37220.290</td>\n",
       "      <td>8605.27</td>\n",
       "      <td>6768.050</td>\n",
       "      <td>...</td>\n",
       "      <td>59124.40</td>\n",
       "      <td>9939.755</td>\n",
       "      <td>7997.96</td>\n",
       "      <td>6.392435</td>\n",
       "      <td>0.242786</td>\n",
       "      <td>57731.59</td>\n",
       "      <td>11848.420</td>\n",
       "      <td>8924.59</td>\n",
       "      <td>5.468823</td>\n",
       "      <td>0.327615</td>\n",
       "    </tr>\n",
       "    <tr>\n",
       "      <td>1</td>\n",
       "      <td>AK</td>\n",
       "      <td>064</td>\n",
       "      <td>42453.81</td>\n",
       "      <td>21608.01</td>\n",
       "      <td>20555.255</td>\n",
       "      <td>1.065351</td>\n",
       "      <td>0.051216</td>\n",
       "      <td>63529.835</td>\n",
       "      <td>16235.91</td>\n",
       "      <td>15236.815</td>\n",
       "      <td>...</td>\n",
       "      <td>76259.78</td>\n",
       "      <td>20347.880</td>\n",
       "      <td>14427.33</td>\n",
       "      <td>4.285786</td>\n",
       "      <td>0.410370</td>\n",
       "      <td>91303.77</td>\n",
       "      <td>19342.045</td>\n",
       "      <td>17997.88</td>\n",
       "      <td>4.073029</td>\n",
       "      <td>0.074685</td>\n",
       "    </tr>\n",
       "  </tbody>\n",
       "</table>\n",
       "<p>2 rows × 37 columns</p>\n",
       "</div>"
      ],
      "text/plain": [
       "  state diagnosis  charged_2011  paid_byall_2011  paid_bymed_2011  \\\n",
       "0    AK       039      34805.13          8401.95         6413.780   \n",
       "1    AK       064      42453.81         21608.01        20555.255   \n",
       "\n",
       "   charge_over_med_2011  paid_over_med_2011  charged_2012  paid_byall_2012  \\\n",
       "0              4.426617            0.309984     37220.290          8605.27   \n",
       "1              1.065351            0.051216     63529.835         16235.91   \n",
       "\n",
       "   paid_bymed_2012  ...  charged_2016  paid_byall_2016  paid_bymed_2016  \\\n",
       "0         6768.050  ...      59124.40         9939.755          7997.96   \n",
       "1        15236.815  ...      76259.78        20347.880         14427.33   \n",
       "\n",
       "   charge_over_med_2016  paid_over_med_2016  charged_2017  paid_byall_2017  \\\n",
       "0              6.392435            0.242786      57731.59        11848.420   \n",
       "1              4.285786            0.410370      91303.77        19342.045   \n",
       "\n",
       "   paid_bymed_2017  charge_over_med_2017  paid_over_med_2017  \n",
       "0          8924.59              5.468823            0.327615  \n",
       "1         17997.88              4.073029            0.074685  \n",
       "\n",
       "[2 rows x 37 columns]"
      ]
     },
     "execution_count": 6,
     "metadata": {},
     "output_type": "execute_result"
    }
   ],
   "source": [
    "# LOOK at data\n",
    "merge6.head(2)"
   ]
  },
  {
   "cell_type": "code",
   "execution_count": 7,
   "metadata": {},
   "outputs": [
    {
     "data": {
      "text/plain": [
       "(93, 50)"
      ]
     },
     "execution_count": 7,
     "metadata": {},
     "output_type": "execute_result"
    }
   ],
   "source": [
    "# CREATE a list of  US states and list of diagnoses common to all 50 states and all 7 years of data\n",
    "\n",
    "my_states = (np.unique(merge6.state))\n",
    "common_diagnoses=(np.unique(merge6.diagnosis))\n",
    "\n",
    "len(common_diagnoses), len(my_states)\n",
    "\n",
    "# We have 93 diagnoses common to all 50 states and 7 years in our data."
   ]
  },
  {
   "cell_type": "code",
   "execution_count": 8,
   "metadata": {
    "scrolled": true
   },
   "outputs": [
    {
     "data": {
      "text/html": [
       "<div>\n",
       "<style scoped>\n",
       "    .dataframe tbody tr th:only-of-type {\n",
       "        vertical-align: middle;\n",
       "    }\n",
       "\n",
       "    .dataframe tbody tr th {\n",
       "        vertical-align: top;\n",
       "    }\n",
       "\n",
       "    .dataframe thead th {\n",
       "        text-align: right;\n",
       "    }\n",
       "</style>\n",
       "<table border=\"1\" class=\"dataframe\">\n",
       "  <thead>\n",
       "    <tr style=\"text-align: right;\">\n",
       "      <th>STdiag</th>\n",
       "      <th>year</th>\n",
       "      <th>AK039</th>\n",
       "      <th>AK064</th>\n",
       "      <th>AK065</th>\n",
       "      <th>AK066</th>\n",
       "      <th>AK101</th>\n",
       "      <th>AK176</th>\n",
       "      <th>AK177</th>\n",
       "      <th>AK189</th>\n",
       "      <th>AK190</th>\n",
       "      <th>...</th>\n",
       "      <th>812_alls</th>\n",
       "      <th>853_alls</th>\n",
       "      <th>870_alls</th>\n",
       "      <th>871_alls</th>\n",
       "      <th>872_alls</th>\n",
       "      <th>885_alls</th>\n",
       "      <th>897_alls</th>\n",
       "      <th>917_alls</th>\n",
       "      <th>918_alls</th>\n",
       "      <th>948_alls</th>\n",
       "    </tr>\n",
       "  </thead>\n",
       "  <tbody>\n",
       "    <tr>\n",
       "      <td>0</td>\n",
       "      <td>charged_2011</td>\n",
       "      <td>34805.130000</td>\n",
       "      <td>42453.810000</td>\n",
       "      <td>32821.000000</td>\n",
       "      <td>25238.105000</td>\n",
       "      <td>23156.085000</td>\n",
       "      <td>35672.650000</td>\n",
       "      <td>61224.635000</td>\n",
       "      <td>46478.270000</td>\n",
       "      <td>38283.970000</td>\n",
       "      <td>...</td>\n",
       "      <td>15453.660000</td>\n",
       "      <td>109708.325000</td>\n",
       "      <td>127612.695000</td>\n",
       "      <td>33980.337500</td>\n",
       "      <td>21764.870000</td>\n",
       "      <td>15811.635000</td>\n",
       "      <td>13784.107500</td>\n",
       "      <td>30302.720000</td>\n",
       "      <td>13517.330000</td>\n",
       "      <td>14452.810000</td>\n",
       "    </tr>\n",
       "    <tr>\n",
       "      <td>1</td>\n",
       "      <td>paid_byall_2011</td>\n",
       "      <td>8401.950000</td>\n",
       "      <td>21608.010000</td>\n",
       "      <td>12437.045000</td>\n",
       "      <td>9320.250000</td>\n",
       "      <td>7682.735000</td>\n",
       "      <td>10349.500000</td>\n",
       "      <td>16333.210000</td>\n",
       "      <td>12566.070000</td>\n",
       "      <td>13617.720000</td>\n",
       "      <td>...</td>\n",
       "      <td>4974.510000</td>\n",
       "      <td>36500.275000</td>\n",
       "      <td>39247.940000</td>\n",
       "      <td>12235.187500</td>\n",
       "      <td>7223.357500</td>\n",
       "      <td>6229.850000</td>\n",
       "      <td>4363.870000</td>\n",
       "      <td>10034.565000</td>\n",
       "      <td>4037.550000</td>\n",
       "      <td>4396.050000</td>\n",
       "    </tr>\n",
       "    <tr>\n",
       "      <td>2</td>\n",
       "      <td>paid_bymed_2011</td>\n",
       "      <td>6413.780000</td>\n",
       "      <td>20555.255000</td>\n",
       "      <td>10495.340000</td>\n",
       "      <td>8372.925000</td>\n",
       "      <td>5942.060000</td>\n",
       "      <td>7460.650000</td>\n",
       "      <td>15395.450000</td>\n",
       "      <td>11521.070000</td>\n",
       "      <td>12691.540000</td>\n",
       "      <td>...</td>\n",
       "      <td>4086.900000</td>\n",
       "      <td>33812.400000</td>\n",
       "      <td>36628.660000</td>\n",
       "      <td>11018.880000</td>\n",
       "      <td>6161.610000</td>\n",
       "      <td>5259.040000</td>\n",
       "      <td>3347.610000</td>\n",
       "      <td>8783.230000</td>\n",
       "      <td>3136.640000</td>\n",
       "      <td>3449.405000</td>\n",
       "    </tr>\n",
       "    <tr>\n",
       "      <td>3</td>\n",
       "      <td>charge_over_med_2011</td>\n",
       "      <td>4.426617</td>\n",
       "      <td>1.065351</td>\n",
       "      <td>2.127197</td>\n",
       "      <td>2.014252</td>\n",
       "      <td>2.896979</td>\n",
       "      <td>3.781440</td>\n",
       "      <td>2.976801</td>\n",
       "      <td>3.034197</td>\n",
       "      <td>2.016495</td>\n",
       "      <td>...</td>\n",
       "      <td>2.581216</td>\n",
       "      <td>1.965730</td>\n",
       "      <td>2.437502</td>\n",
       "      <td>2.011371</td>\n",
       "      <td>2.423447</td>\n",
       "      <td>2.049432</td>\n",
       "      <td>3.194144</td>\n",
       "      <td>2.448256</td>\n",
       "      <td>3.384101</td>\n",
       "      <td>3.014760</td>\n",
       "    </tr>\n",
       "    <tr>\n",
       "      <td>4</td>\n",
       "      <td>paid_over_med_2011</td>\n",
       "      <td>0.309984</td>\n",
       "      <td>0.051216</td>\n",
       "      <td>0.185006</td>\n",
       "      <td>0.113141</td>\n",
       "      <td>0.292941</td>\n",
       "      <td>0.387212</td>\n",
       "      <td>0.060912</td>\n",
       "      <td>0.090703</td>\n",
       "      <td>0.072976</td>\n",
       "      <td>...</td>\n",
       "      <td>0.216619</td>\n",
       "      <td>0.057637</td>\n",
       "      <td>0.049760</td>\n",
       "      <td>0.091780</td>\n",
       "      <td>0.162563</td>\n",
       "      <td>0.191325</td>\n",
       "      <td>0.251309</td>\n",
       "      <td>0.115008</td>\n",
       "      <td>0.302659</td>\n",
       "      <td>0.247864</td>\n",
       "    </tr>\n",
       "  </tbody>\n",
       "</table>\n",
       "<p>5 rows × 4613 columns</p>\n",
       "</div>"
      ],
      "text/plain": [
       "STdiag                  year         AK039         AK064         AK065  \\\n",
       "0               charged_2011  34805.130000  42453.810000  32821.000000   \n",
       "1            paid_byall_2011   8401.950000  21608.010000  12437.045000   \n",
       "2            paid_bymed_2011   6413.780000  20555.255000  10495.340000   \n",
       "3       charge_over_med_2011      4.426617      1.065351      2.127197   \n",
       "4         paid_over_med_2011      0.309984      0.051216      0.185006   \n",
       "\n",
       "STdiag         AK066         AK101         AK176         AK177         AK189  \\\n",
       "0       25238.105000  23156.085000  35672.650000  61224.635000  46478.270000   \n",
       "1        9320.250000   7682.735000  10349.500000  16333.210000  12566.070000   \n",
       "2        8372.925000   5942.060000   7460.650000  15395.450000  11521.070000   \n",
       "3           2.014252      2.896979      3.781440      2.976801      3.034197   \n",
       "4           0.113141      0.292941      0.387212      0.060912      0.090703   \n",
       "\n",
       "STdiag         AK190  ...      812_alls       853_alls       870_alls  \\\n",
       "0       38283.970000  ...  15453.660000  109708.325000  127612.695000   \n",
       "1       13617.720000  ...   4974.510000   36500.275000   39247.940000   \n",
       "2       12691.540000  ...   4086.900000   33812.400000   36628.660000   \n",
       "3           2.016495  ...      2.581216       1.965730       2.437502   \n",
       "4           0.072976  ...      0.216619       0.057637       0.049760   \n",
       "\n",
       "STdiag      871_alls      872_alls      885_alls      897_alls      917_alls  \\\n",
       "0       33980.337500  21764.870000  15811.635000  13784.107500  30302.720000   \n",
       "1       12235.187500   7223.357500   6229.850000   4363.870000  10034.565000   \n",
       "2       11018.880000   6161.610000   5259.040000   3347.610000   8783.230000   \n",
       "3           2.011371      2.423447      2.049432      3.194144      2.448256   \n",
       "4           0.091780      0.162563      0.191325      0.251309      0.115008   \n",
       "\n",
       "STdiag      918_alls      948_alls  \n",
       "0       13517.330000  14452.810000  \n",
       "1        4037.550000   4396.050000  \n",
       "2        3136.640000   3449.405000  \n",
       "3           3.384101      3.014760  \n",
       "4           0.302659      0.247864  \n",
       "\n",
       "[5 rows x 4613 columns]"
      ]
     },
     "execution_count": 8,
     "metadata": {},
     "output_type": "execute_result"
    }
   ],
   "source": [
    "# TRANSFORM our data to resemble time series\n",
    "\n",
    "# create new COL representing BOTH STATE and diagnosis\n",
    "merge6['STdiag']=merge6.state+merge6.diagnosis\n",
    "\n",
    "# drop old COLS and make new COL the index\n",
    "merge6.drop(columns = ['state', 'diagnosis'],inplace= True)\n",
    "merge6 = merge6.set_index('STdiag')\n",
    "\n",
    "# Transpose so data resembles a time series\n",
    "# c_data = cost data\n",
    "c_data = merge6.T\n",
    "c_data = c_data.reset_index()\n",
    "c_data.rename(columns = {'index':'year'}, inplace = True)\n",
    "\n",
    "# Create a NEW COL for the median for all US states and all procedures\n",
    "c_data['USall'] = c_data.median(axis=1)\n",
    "\n",
    "# Create new COLS for STATE median for all 93 diagnoses\n",
    "for st in my_states:\n",
    "    c_data[f'{st}_alld']= c_data.filter(like = st).median(axis=1)\n",
    "\n",
    "# Create new COLS for DIAGNOSIS median for all states\n",
    "for di in common_diagnoses:\n",
    "    c_data[f'{di}_alls']= c_data.filter(like= di).median(axis=1)    \n",
    "    \n",
    "c_data.head()"
   ]
  },
  {
   "cell_type": "code",
   "execution_count": 9,
   "metadata": {},
   "outputs": [],
   "source": [
    "# SAVE the cleaned cost data\n",
    "\n",
    "c_data.to_csv('./data/cleaned/cost_data.csv', index=False)"
   ]
  },
  {
   "cell_type": "markdown",
   "metadata": {},
   "source": [
    "##   \n",
    "## 2. HIgh level exploration of inpatient charge data"
   ]
  },
  {
   "cell_type": "code",
   "execution_count": 10,
   "metadata": {},
   "outputs": [
    {
     "data": {
      "image/png": "[encoded data removed]",
      "text/plain": [
       "<Figure size 1152x576 with 1 Axes>"
      ]
     },
     "metadata": {
      "needs_background": "light"
     },
     "output_type": "display_data"
    }
   ],
   "source": [
    "# PLOT US healthcare charges/payments over time, 50 states, 93 diagnoses\n",
    "\n",
    "y1 = c_data[c_data.year.str.contains(\"charged\")]['USall']\n",
    "y2 = c_data[c_data.year.str.contains(\"byall\")]['USall']\n",
    "y3 = c_data[c_data.year.str.contains(\"bymed\")]['USall']\n",
    "\n",
    "plt.figure(figsize=(16,8))\n",
    "plt.title('Median charges over time, all US, all 93 diagnoses', fontsize = 25)\n",
    "plt.plot(my_years1, y1, label = 'Median charged by hospitals, 50 states, 93 diagnoses')\n",
    "plt.plot(my_years1, y2, label = 'Median paid by all')\n",
    "plt.plot(my_years1, y3, label = 'Median paid by Medicare')\n",
    "plt.xlabel('Year',fontsize=20)\n",
    "plt.ylabel('Median charged by hospitals $',fontsize=20)\n",
    "plt.xticks(my_years1,fontsize=15, rotation = 45)\n",
    "plt.yticks(fontsize=15)\n",
    "plt.legend(loc='best');\n"
   ]
  },
  {
   "cell_type": "code",
   "execution_count": 11,
   "metadata": {},
   "outputs": [
    {
     "data": {
      "application/vnd.jupyter.widget-view+json": {
       "model_id": "b80fc07d25b64765886a84c6e1cd8fb8",
       "version_major": 2,
       "version_minor": 0
      },
      "text/plain": [
       "interactive(children=(SelectionSlider(description='State:', options=('AK', 'AL', 'AR', 'AZ', 'CA', 'CO', 'CT',…"
      ]
     },
     "metadata": {},
     "output_type": "display_data"
    },
    {
     "data": {
      "text/plain": [
       "<function __main__.my_statecost1(state1)>"
      ]
     },
     "execution_count": 11,
     "metadata": {},
     "output_type": "execute_result"
    }
   ],
   "source": [
    "# INTERACTIVE PLOT to explore costs/ payments in each state.\n",
    "\n",
    "# FUNCTION\n",
    "def my_statecost1(state1):\n",
    "    \n",
    "    y1 = c_data[c_data.year.str.contains(\"charged\")][f'{state1}_alld']    \n",
    "    y2 = c_data[c_data.year.str.contains(\"byall\")][f'{state1}_alld']\n",
    "    y3 = c_data[c_data.year.str.contains(\"bymed\")][f'{state1}_alld']\n",
    "    \n",
    "    plt.figure(figsize=(16,8))\n",
    "    plt.title(f'Hospital payments in {state1}, median of 93 diagnoses', fontsize=25)\n",
    "    #plt.plot(my_years1, y1,label = 'Median charge for diagnoses')\n",
    "    plt.plot(my_years1, y2, label = 'Median payment by all')\n",
    "    plt.plot(my_years1, y3, label = 'Median payment by Medicare')\n",
    "    plt.xlabel('Year',fontsize=20)\n",
    "    plt.ylabel('Charged by/ Paid to hospitals($)',fontsize=20)\n",
    "    plt.xticks(fontsize=15)\n",
    "    plt.yticks(fontsize=15)\n",
    "    plt.legend(loc='best');\n",
    "\n",
    "# WIDGET\n",
    "state_slider1 = widget.SelectionSlider(\n",
    "    options=my_states,\n",
    "    value='AK',\n",
    "    description='State:',\n",
    "    orientation='horizontal')\n",
    "\n",
    "# INTERACT widget with function\n",
    "widget.interact(my_statecost1 , state1=state_slider1)        "
   ]
  },
  {
   "cell_type": "code",
   "execution_count": 12,
   "metadata": {},
   "outputs": [
    {
     "data": {
      "application/vnd.jupyter.widget-view+json": {
       "model_id": "4059bbd154b2497d96d3ae7e415e61eb",
       "version_major": 2,
       "version_minor": 0
      },
      "text/plain": [
       "interactive(children=(SelectionSlider(description='State:', index=5, options=('AK', 'AL', 'AR', 'AZ', 'CA', 'C…"
      ]
     },
     "metadata": {},
     "output_type": "display_data"
    },
    {
     "data": {
      "text/plain": [
       "<function __main__.my_statecost2(state2, diag1)>"
      ]
     },
     "execution_count": 12,
     "metadata": {},
     "output_type": "execute_result"
    }
   ],
   "source": [
    "# INTERACTIVE PLOT to explore costs / payments by diagnosis\n",
    "\n",
    "#FUNCTION\n",
    "def my_statecost2(state2,diag1):\n",
    "    \n",
    "    y1 = c_data[c_data.year.str.contains(\"charged\")][f'{state2}{diag1}']\n",
    "    y2 = c_data[c_data.year.str.contains(\"byall\")][f'{state2}{diag1}']\n",
    "    y3 = c_data[c_data.year.str.contains(\"bymed\")][f'{state2}{diag1}']\n",
    "\n",
    "    plt.figure(figsize=(16,8))\n",
    "    plt.title(f'How much hospitals in {state2} charge / get paid for diagnosis {diag1}', fontsize=25)    \n",
    "    plt.plot(my_years1, y1, label = 'Median charged by hospital ')\n",
    "    plt.plot(my_years1, y2, label = 'Median payment by all')\n",
    "    plt.plot(my_years1, y3, label = 'Median payment by Medicare')  \n",
    "    plt.xlabel('Year',fontsize=20)\n",
    "    plt.ylabel('Charged by/ paid to hospitals($)',fontsize=20)\n",
    "    plt.xticks(fontsize=15)\n",
    "    plt.yticks(fontsize=15)\n",
    "    plt.legend(loc='best');\n",
    "\n",
    "# WIDGETS\n",
    "state_slider2 = widget.SelectionSlider(\n",
    "    options=my_states,\n",
    "    value='CO',\n",
    "    description='State:',\n",
    "    orientation='horizontal' )\n",
    "diagnosis_slider = widget.SelectionSlider(\n",
    "    options=common_diagnoses,\n",
    "    value='039',\n",
    "    description='Diagnosis code:',\n",
    "    orientation='horizontal'  )\n",
    "widget.interact(my_statecost2, state2=state_slider2, diag1=diagnosis_slider)        "
   ]
  },
  {
   "cell_type": "code",
   "execution_count": 13,
   "metadata": {},
   "outputs": [
    {
     "data": {
      "application/vnd.jupyter.widget-view+json": {
       "model_id": "581a1ea823b74dd290662cd3b8ba5df8",
       "version_major": 2,
       "version_minor": 0
      },
      "text/plain": [
       "interactive(children=(Select(description='State1:', index=1, options=('AK', 'AL', 'AR', 'AZ', 'CA', 'CO', 'CT'…"
      ]
     },
     "metadata": {},
     "output_type": "display_data"
    },
    {
     "data": {
      "text/plain": [
       "<function __main__.my_statcosts3(state3, state4)>"
      ]
     },
     "execution_count": 13,
     "metadata": {},
     "output_type": "execute_result"
    }
   ],
   "source": [
    "# INTERACTIVE PLOT to compare 2 US states\n",
    "\n",
    "# FUNCTION\n",
    "def my_statcosts3(state3,state4):\n",
    "    # one US state\n",
    "    y1 = c_data[c_data.year.str.contains(\"charged\")][f'{state3}_alld']\n",
    "    y2 = c_data[c_data.year.str.contains(\"byall\")][f'{state3}_alld']\n",
    "    y3 = c_data[c_data.year.str.contains(\"bymed\")][f'{state3}_alld']\n",
    "    # other US state\n",
    "    y4 = c_data[c_data.year.str.contains(\"charged\")][f'{state4}_alld']\n",
    "    y5 = c_data[c_data.year.str.contains(\"byall\")][f'{state4}_alld']\n",
    "    y6 = c_data[c_data.year.str.contains(\"bymed\")][f'{state4}_alld']    \n",
    "    \n",
    "    plt.figure(figsize=(16,8))\n",
    "    plt.title(f'Comparing hospital charges and payments in {state3} and {state4} (93 diagnoses)', fontsize=25)   \n",
    "    plt.plot(my_years1, y1,\n",
    "             color = 'lightgreen',\n",
    "             linestyle = 'dotted',\n",
    "             marker = 'o',\n",
    "             label = f'{state3} Median charge for diagnosis')\n",
    "    plt.plot(my_years1, y2,\n",
    "             color = 'green',\n",
    "             linestyle = 'dashed',\n",
    "             marker = '^',\n",
    "             label = f'{state3} Median payment by all')\n",
    "    plt.plot(my_years1, y3,\n",
    "             color = 'darkgreen',\n",
    "             linestyle = 'solid',\n",
    "             marker = 's',\n",
    "             label = f'{state3} Median payment by Medicare')\n",
    "    \n",
    "    plt.plot(my_years1, y4,\n",
    "             color = 'orange',\n",
    "             linestyle = 'dotted',\n",
    "             marker = 'o',             \n",
    "             label = f'{state4} Median charge for diagnosis')\n",
    "    plt.plot(my_years1, y5,\n",
    "             color = 'red',\n",
    "             linestyle = 'dashed',\n",
    "             marker = '^',\n",
    "             label = f'{state4} Median payment by all')\n",
    "    plt.plot(my_years1, y6,\n",
    "             color = 'darkred',\n",
    "             linestyle = 'solid',\n",
    "             marker = 's',\n",
    "             label = f'{state4} Median payment by Medicare')     \n",
    "                                                                                                                            \n",
    "    plt.xlabel('Year',fontsize=20)\n",
    "    plt.ylabel('Charged by/ paid to hospitals',fontsize=20)\n",
    "    plt.xticks(fontsize=15)\n",
    "    plt.yticks(fontsize=15)\n",
    "    plt.legend(loc='best');\n",
    "\n",
    "# WIDGETS\n",
    "state_select3 = widget.Select(\n",
    "    options=my_states,\n",
    "    value='AL',\n",
    "    description='State1:'  )\n",
    "    \n",
    "state_select4 = widget.Select(\n",
    "    options=my_states,\n",
    "    value='CT',\n",
    "    description='State2:'  )    \n",
    "\n",
    "widget.interact(my_statcosts3, state3=state_select3, state4= state_select4)   "
   ]
  },
  {
   "cell_type": "markdown",
   "metadata": {},
   "source": [
    "##    \n",
    "## 3. Clean the lobbying data"
   ]
  },
  {
   "cell_type": "markdown",
   "metadata": {},
   "source": [
    "### Read in US population data, from 2010 Census"
   ]
  },
  {
   "cell_type": "code",
   "execution_count": 14,
   "metadata": {},
   "outputs": [
    {
     "data": {
      "text/html": [
       "<div>\n",
       "<style scoped>\n",
       "    .dataframe tbody tr th:only-of-type {\n",
       "        vertical-align: middle;\n",
       "    }\n",
       "\n",
       "    .dataframe tbody tr th {\n",
       "        vertical-align: top;\n",
       "    }\n",
       "\n",
       "    .dataframe thead th {\n",
       "        text-align: right;\n",
       "    }\n",
       "</style>\n",
       "<table border=\"1\" class=\"dataframe\">\n",
       "  <thead>\n",
       "    <tr style=\"text-align: right;\">\n",
       "      <th></th>\n",
       "      <th>state</th>\n",
       "      <th>population</th>\n",
       "    </tr>\n",
       "  </thead>\n",
       "  <tbody>\n",
       "    <tr>\n",
       "      <td>0</td>\n",
       "      <td>AL</td>\n",
       "      <td>4779736</td>\n",
       "    </tr>\n",
       "    <tr>\n",
       "      <td>1</td>\n",
       "      <td>AK</td>\n",
       "      <td>710231</td>\n",
       "    </tr>\n",
       "  </tbody>\n",
       "</table>\n",
       "</div>"
      ],
      "text/plain": [
       "  state  population\n",
       "0    AL     4779736\n",
       "1    AK      710231"
      ]
     },
     "execution_count": 14,
     "metadata": {},
     "output_type": "execute_result"
    }
   ],
   "source": [
    "# READ in data\n",
    "pop=pd.read_csv('./data/states/population.csv')\n",
    "pop.head(2)\n",
    "# No additional cleaning needed"
   ]
  },
  {
   "cell_type": "markdown",
   "metadata": {},
   "source": [
    "### Read in and clean Lobby Disclosure Act (LDA) reports"
   ]
  },
  {
   "cell_type": "code",
   "execution_count": 15,
   "metadata": {},
   "outputs": [
    {
     "data": {
      "text/html": [
       "<div>\n",
       "<style scoped>\n",
       "    .dataframe tbody tr th:only-of-type {\n",
       "        vertical-align: middle;\n",
       "    }\n",
       "\n",
       "    .dataframe tbody tr th {\n",
       "        vertical-align: top;\n",
       "    }\n",
       "\n",
       "    .dataframe thead th {\n",
       "        text-align: right;\n",
       "    }\n",
       "</style>\n",
       "<table border=\"1\" class=\"dataframe\">\n",
       "  <thead>\n",
       "    <tr style=\"text-align: right;\">\n",
       "      <th></th>\n",
       "      <th>State</th>\n",
       "      <th>Registrant Name</th>\n",
       "      <th>Client Name</th>\n",
       "      <th>Filing Type</th>\n",
       "      <th>Amount Reported</th>\n",
       "      <th>Date Posted</th>\n",
       "      <th>Filing Year</th>\n",
       "    </tr>\n",
       "  </thead>\n",
       "  <tbody>\n",
       "    <tr>\n",
       "      <td>0</td>\n",
       "      <td>AL</td>\n",
       "      <td>Acadian Advantage, LLC</td>\n",
       "      <td>Bob Riley and Associates on behalf of HPC Spec...</td>\n",
       "      <td>FOURTH QUARTER REPORT</td>\n",
       "      <td>$10,000.00</td>\n",
       "      <td>1/17/2020</td>\n",
       "      <td>2019</td>\n",
       "    </tr>\n",
       "    <tr>\n",
       "      <td>1</td>\n",
       "      <td>AL</td>\n",
       "      <td>Acadian Advantage, LLC</td>\n",
       "      <td>Bob Riley and Associates on behalf of HPC Spec...</td>\n",
       "      <td>FOURTH QUARTER REPORT</td>\n",
       "      <td>$15,000.00</td>\n",
       "      <td>1/30/2019</td>\n",
       "      <td>2018</td>\n",
       "    </tr>\n",
       "    <tr>\n",
       "      <td>2</td>\n",
       "      <td>AL</td>\n",
       "      <td>Acadian Advantage, LLC</td>\n",
       "      <td>Bob Riley and Associates on behalf of HPC Spec...</td>\n",
       "      <td>FIRST QUARTER REPORT</td>\n",
       "      <td>$15,000.00</td>\n",
       "      <td>4/17/2019</td>\n",
       "      <td>2019</td>\n",
       "    </tr>\n",
       "    <tr>\n",
       "      <td>3</td>\n",
       "      <td>AL</td>\n",
       "      <td>Acadian Advantage, LLC</td>\n",
       "      <td>Bob Riley and Associates on behalf of HPC Spec...</td>\n",
       "      <td>SECOND QUARTER REPORT</td>\n",
       "      <td>$15,000.00</td>\n",
       "      <td>7/18/2019</td>\n",
       "      <td>2019</td>\n",
       "    </tr>\n",
       "    <tr>\n",
       "      <td>4</td>\n",
       "      <td>AL</td>\n",
       "      <td>Acadian Advantage, LLC</td>\n",
       "      <td>Bob Riley and Associates on behalf of HPC Spec...</td>\n",
       "      <td>THIRD QUARTER AMENDMENT</td>\n",
       "      <td>$15,000.00</td>\n",
       "      <td>10/23/2018</td>\n",
       "      <td>2018</td>\n",
       "    </tr>\n",
       "  </tbody>\n",
       "</table>\n",
       "</div>"
      ],
      "text/plain": [
       "  State         Registrant Name  \\\n",
       "0    AL  Acadian Advantage, LLC   \n",
       "1    AL  Acadian Advantage, LLC   \n",
       "2    AL  Acadian Advantage, LLC   \n",
       "3    AL  Acadian Advantage, LLC   \n",
       "4    AL  Acadian Advantage, LLC   \n",
       "\n",
       "                                         Client Name              Filing Type  \\\n",
       "0  Bob Riley and Associates on behalf of HPC Spec...    FOURTH QUARTER REPORT   \n",
       "1  Bob Riley and Associates on behalf of HPC Spec...    FOURTH QUARTER REPORT   \n",
       "2  Bob Riley and Associates on behalf of HPC Spec...     FIRST QUARTER REPORT   \n",
       "3  Bob Riley and Associates on behalf of HPC Spec...    SECOND QUARTER REPORT   \n",
       "4  Bob Riley and Associates on behalf of HPC Spec...  THIRD QUARTER AMENDMENT   \n",
       "\n",
       "  Amount Reported Date Posted  Filing Year  \n",
       "0      $10,000.00   1/17/2020         2019  \n",
       "1      $15,000.00   1/30/2019         2018  \n",
       "2      $15,000.00   4/17/2019         2019  \n",
       "3      $15,000.00   7/18/2019         2019  \n",
       "4      $15,000.00  10/23/2018         2018  "
      ]
     },
     "execution_count": 15,
     "metadata": {},
     "output_type": "execute_result"
    }
   ],
   "source": [
    "# READ in LDA data into dictionary of states 's' , each dataframe keyed for each state\n",
    "s={}\n",
    "for st in my_states:\n",
    "    s[st] = pd.read_csv(f'./data/states/{st}.csv')\n",
    "    \n",
    "s['AL'].head(5)"
   ]
  },
  {
   "cell_type": "code",
   "execution_count": 16,
   "metadata": {},
   "outputs": [],
   "source": [
    "# CLEAN LDA data. For every state ...\n",
    "\n",
    "for st in my_states:\n",
    "    # change the col names\n",
    "    s[st].columns = ['state', 'lobbyist', 'client','report','amount','date','year']\n",
    "    \n",
    "    # SORT on datetime\n",
    "    s[st]['date'] = pd.to_datetime(s[st]['date'])\n",
    "    s[st].sort_values(by=['date'], inplace = True)\n",
    "    \n",
    "    # if there is an AMENDMENT report, keep the latest AMENDMENT and discard the previous REPORT\n",
    "    # CREATE new COL 'period' by splitting the 'report' COL ex: [THIRD, QUARTER]\n",
    "    s[st]['period'] = (s[st]['report'].str.split().str[:-1])\n",
    "    # new COL has to be joined to form one string\n",
    "    s[st]['period'] = s[st]['period'].map(lambda val: ' '.join(val))\n",
    "    # REMOVE duplicates based on the following columns\n",
    "    s[st] = s[st].drop_duplicates(subset = ['state','client', 'year', 'period'],keep = 'last')    \n",
    "        \n",
    "    # remove all the nuls, removes all 'REGISTRATION', 'TERMINATION', other reports with no reported amounts\n",
    "    s[st].dropna(inplace=True)    \n",
    "\n",
    "    # drop cols I won't be using\n",
    "    s[st].drop(columns = ['lobbyist', 'date','period'],inplace= True)\n",
    "\n",
    "    # convert money to float\n",
    "    s[st].amount = s[st].amount.str.replace('$','')\n",
    "    s[st].amount = s[st].amount.str.replace(',','')\n",
    "    s[st].amount = s[st].amount.str.replace(' ','')\n",
    "    s[st].amount = s[st].amount.astype(float)    \n",
    " \n",
    "    # sum amount by state and year\n",
    "    s[st]=s[st].groupby(['year'],as_index=False).sum()\n",
    "\n",
    "    # NEW COL divide sum amount  by population for per capita\n",
    "    s[st]['per_cap']= s[st].amount/ (pop[pop.state == st]['population'].values[0] ) \n",
    "    s[st].rename(columns = {'amount': f'{st}amount', 'per_cap' : f'{st}per_cap'}, inplace=True)\n",
    "  "
   ]
  },
  {
   "cell_type": "code",
   "execution_count": 17,
   "metadata": {},
   "outputs": [
    {
     "data": {
      "text/html": [
       "<div>\n",
       "<style scoped>\n",
       "    .dataframe tbody tr th:only-of-type {\n",
       "        vertical-align: middle;\n",
       "    }\n",
       "\n",
       "    .dataframe tbody tr th {\n",
       "        vertical-align: top;\n",
       "    }\n",
       "\n",
       "    .dataframe thead th {\n",
       "        text-align: right;\n",
       "    }\n",
       "</style>\n",
       "<table border=\"1\" class=\"dataframe\">\n",
       "  <thead>\n",
       "    <tr style=\"text-align: right;\">\n",
       "      <th></th>\n",
       "      <th>year</th>\n",
       "      <th>AKamount</th>\n",
       "      <th>AKper_cap</th>\n",
       "    </tr>\n",
       "  </thead>\n",
       "  <tbody>\n",
       "    <tr>\n",
       "      <td>0</td>\n",
       "      <td>2000</td>\n",
       "      <td>40000.0</td>\n",
       "      <td>0.05632</td>\n",
       "    </tr>\n",
       "    <tr>\n",
       "      <td>1</td>\n",
       "      <td>2001</td>\n",
       "      <td>40000.0</td>\n",
       "      <td>0.05632</td>\n",
       "    </tr>\n",
       "  </tbody>\n",
       "</table>\n",
       "</div>"
      ],
      "text/plain": [
       "   year  AKamount  AKper_cap\n",
       "0  2000   40000.0    0.05632\n",
       "1  2001   40000.0    0.05632"
      ]
     },
     "execution_count": 17,
     "metadata": {},
     "output_type": "execute_result"
    }
   ],
   "source": [
    "# LOOK at data\n",
    "s[\"AK\"].head(2)"
   ]
  },
  {
   "cell_type": "code",
   "execution_count": 18,
   "metadata": {},
   "outputs": [],
   "source": [
    "# Many of the US states do not have any registered lobbying $ activities for certain years.\n",
    "# ASSIGN $0 to these missing years\n",
    "\n",
    "my_years2 = list(range(1999,2020))\n",
    "\n",
    "for st in my_states:\n",
    "    for yr in my_years2:\n",
    "        if yr not in s[st].year.unique():\n",
    "            s[st] = s[st].append(pd.Series([yr,0,0], index=s[st].columns ),ignore_index=True)\n",
    "    s[st].sort_values(by=['year'], inplace = True)   "
   ]
  },
  {
   "cell_type": "code",
   "execution_count": 19,
   "metadata": {},
   "outputs": [
    {
     "data": {
      "text/html": [
       "<div>\n",
       "<style scoped>\n",
       "    .dataframe tbody tr th:only-of-type {\n",
       "        vertical-align: middle;\n",
       "    }\n",
       "\n",
       "    .dataframe tbody tr th {\n",
       "        vertical-align: top;\n",
       "    }\n",
       "\n",
       "    .dataframe thead th {\n",
       "        text-align: right;\n",
       "    }\n",
       "</style>\n",
       "<table border=\"1\" class=\"dataframe\">\n",
       "  <thead>\n",
       "    <tr style=\"text-align: right;\">\n",
       "      <th></th>\n",
       "      <th>year</th>\n",
       "      <th>AKamount</th>\n",
       "      <th>AKper_cap</th>\n",
       "      <th>ALamount</th>\n",
       "      <th>ALper_cap</th>\n",
       "      <th>ARamount</th>\n",
       "      <th>ARper_cap</th>\n",
       "      <th>AZamount</th>\n",
       "      <th>AZper_cap</th>\n",
       "      <th>CAamount</th>\n",
       "      <th>...</th>\n",
       "      <th>WAper_cap</th>\n",
       "      <th>WIamount</th>\n",
       "      <th>WIper_cap</th>\n",
       "      <th>WVamount</th>\n",
       "      <th>WVper_cap</th>\n",
       "      <th>WYamount</th>\n",
       "      <th>WYper_cap</th>\n",
       "      <th>US_total$lobbied</th>\n",
       "      <th>US_median$bystate</th>\n",
       "      <th>US_median$percap</th>\n",
       "    </tr>\n",
       "  </thead>\n",
       "  <tbody>\n",
       "    <tr>\n",
       "      <td>0</td>\n",
       "      <td>1999</td>\n",
       "      <td>0.0</td>\n",
       "      <td>0.00000</td>\n",
       "      <td>280000.0</td>\n",
       "      <td>0.058581</td>\n",
       "      <td>380000.0</td>\n",
       "      <td>0.130319</td>\n",
       "      <td>855000.0</td>\n",
       "      <td>0.133761</td>\n",
       "      <td>9159700.0</td>\n",
       "      <td>...</td>\n",
       "      <td>0.197979</td>\n",
       "      <td>1212700.0</td>\n",
       "      <td>0.213241</td>\n",
       "      <td>70000.0</td>\n",
       "      <td>0.037777</td>\n",
       "      <td>0.0</td>\n",
       "      <td>0.0</td>\n",
       "      <td>124443310.0</td>\n",
       "      <td>416750.0</td>\n",
       "      <td>0.134505</td>\n",
       "    </tr>\n",
       "    <tr>\n",
       "      <td>1</td>\n",
       "      <td>2000</td>\n",
       "      <td>40000.0</td>\n",
       "      <td>0.05632</td>\n",
       "      <td>500000.0</td>\n",
       "      <td>0.104608</td>\n",
       "      <td>1230000.0</td>\n",
       "      <td>0.421823</td>\n",
       "      <td>200000.0</td>\n",
       "      <td>0.031289</td>\n",
       "      <td>9569400.0</td>\n",
       "      <td>...</td>\n",
       "      <td>0.355517</td>\n",
       "      <td>932734.0</td>\n",
       "      <td>0.164012</td>\n",
       "      <td>130000.0</td>\n",
       "      <td>0.070157</td>\n",
       "      <td>0.0</td>\n",
       "      <td>0.0</td>\n",
       "      <td>145841258.0</td>\n",
       "      <td>735000.0</td>\n",
       "      <td>0.174237</td>\n",
       "    </tr>\n",
       "  </tbody>\n",
       "</table>\n",
       "<p>2 rows × 104 columns</p>\n",
       "</div>"
      ],
      "text/plain": [
       "   year  AKamount  AKper_cap  ALamount  ALper_cap   ARamount  ARper_cap  \\\n",
       "0  1999       0.0    0.00000  280000.0   0.058581   380000.0   0.130319   \n",
       "1  2000   40000.0    0.05632  500000.0   0.104608  1230000.0   0.421823   \n",
       "\n",
       "   AZamount  AZper_cap   CAamount  ...  WAper_cap   WIamount  WIper_cap  \\\n",
       "0  855000.0   0.133761  9159700.0  ...   0.197979  1212700.0   0.213241   \n",
       "1  200000.0   0.031289  9569400.0  ...   0.355517   932734.0   0.164012   \n",
       "\n",
       "   WVamount  WVper_cap  WYamount  WYper_cap  US_total$lobbied  \\\n",
       "0   70000.0   0.037777       0.0        0.0       124443310.0   \n",
       "1  130000.0   0.070157       0.0        0.0       145841258.0   \n",
       "\n",
       "   US_median$bystate  US_median$percap  \n",
       "0           416750.0          0.134505  \n",
       "1           735000.0          0.174237  \n",
       "\n",
       "[2 rows x 104 columns]"
      ]
     },
     "execution_count": 19,
     "metadata": {},
     "output_type": "execute_result"
    }
   ],
   "source": [
    "# MERGE lobbying dictionaries into one lobby_data df\n",
    "\n",
    "l_data = s['AK'].merge(s['AL'], on=['year'])\n",
    "for i in range(2,50):\n",
    "    temp_data = l_data.merge(s[my_states[i]], on = ['year'])\n",
    "    l_data = temp_data\n",
    "\n",
    "# CREATE COLS for national data\n",
    "l_data['US_total$lobbied'] = l_data.filter(like = 'amount').sum(axis = 1)\n",
    "l_data['US_median$bystate'] = l_data.filter(like= 'amount').median(axis=1) \n",
    "l_data['US_median$percap'] = l_data.filter(like= 'per_cap').median(axis=1)\n",
    "\n",
    "l_data.head(2)"
   ]
  },
  {
   "cell_type": "code",
   "execution_count": 20,
   "metadata": {},
   "outputs": [],
   "source": [
    "# SAVE the CLEANED lobby data\n",
    "\n",
    "l_data.to_csv('./data/cleaned/lobby_data.csv', index=False)"
   ]
  },
  {
   "cell_type": "markdown",
   "metadata": {},
   "source": [
    "##   \n",
    "## 4. High level exploration of lobby data"
   ]
  },
  {
   "cell_type": "code",
   "execution_count": 21,
   "metadata": {
    "scrolled": false
   },
   "outputs": [
    {
     "data": {
      "image/png": "[encoded data removed]",
      "text/plain": [
       "<Figure size 1152x576 with 1 Axes>"
      ]
     },
     "metadata": {
      "needs_background": "light"
     },
     "output_type": "display_data"
    }
   ],
   "source": [
    "# PLOT total amount of lobbying for Health Issues for 50 states (no DC)\n",
    "\n",
    "plt.figure(figsize=(16,8))\n",
    "plt.title('Total amount of lobbying for Health Issues for 50 states (no DC)', fontsize = 25)\n",
    "plt.plot(l_data.year,l_data['US_total$lobbied'], label = 'Total $ lobbied in US')\n",
    "plt.xlabel('Year',fontsize=20)\n",
    "plt.ylabel('$ 100 M',fontsize=20)\n",
    "plt.xticks(l_data.year,fontsize=15, rotation = 45)\n",
    "plt.yticks(fontsize=15)\n",
    "plt.legend(loc='best');\n",
    "\n",
    "# Comment - big spike in 2009 and 2010 probably due to reaction to Obamacare"
   ]
  },
  {
   "cell_type": "code",
   "execution_count": 22,
   "metadata": {},
   "outputs": [
    {
     "data": {
      "application/vnd.jupyter.widget-view+json": {
       "model_id": "0a71b50f19814fa7950e6e9a68337f3e",
       "version_major": 2,
       "version_minor": 0
      },
      "text/plain": [
       "interactive(children=(Select(description='State1:', index=1, options=('AK', 'AL', 'AR', 'AZ', 'CA', 'CO', 'CT'…"
      ]
     },
     "metadata": {},
     "output_type": "display_data"
    },
    {
     "data": {
      "text/plain": [
       "<function __main__.my_statelobby1(state5, state6)>"
      ]
     },
     "execution_count": 22,
     "metadata": {},
     "output_type": "execute_result"
    }
   ],
   "source": [
    "# INTERACTIVE PLOT - compare total healthcare lobbying between two states\n",
    "\n",
    "def my_statelobby1(state5,state6):\n",
    "    plt.figure(figsize=(16,8))\n",
    "    plt.title(f'Comparing healthcare lobbying for {state5} and {state6} (US Senate)', fontsize=25)\n",
    "    plt.plot(l_data.year, l_data[f'{state5}amount'],\n",
    "             color = 'lightgreen',\n",
    "             linestyle = 'dotted',\n",
    "             marker = 'o',\n",
    "             label = f'{state5} total lobbying')\n",
    "\n",
    "    plt.plot(l_data.year, l_data[f'{state6}amount'],\n",
    "             color = 'orange',\n",
    "             linestyle = 'dotted',\n",
    "             marker = 'o',\n",
    "             label = f'{state6} total lobbying')\n",
    "                                          \n",
    "    plt.xlabel('Year',fontsize=20)\n",
    "    plt.ylabel('Paid to lobbyists ($10M)',fontsize=20)\n",
    "    plt.xticks(fontsize=15)\n",
    "    plt.yticks(fontsize=15)\n",
    "    plt.legend(loc='best');\n",
    "    \n",
    "state_select5 = widget.Select(\n",
    "    options=my_states,\n",
    "    value='AL',\n",
    "    description='State1:',\n",
    "    )\n",
    "    \n",
    "state_select6 = widget.Select(\n",
    "    options=my_states,\n",
    "    value='CT',\n",
    "    description='State2:',\n",
    "    )    \n",
    "\n",
    "widget.interact(my_statelobby1, state5=state_select5, state6= state_select6)   "
   ]
  },
  {
   "cell_type": "code",
   "execution_count": 23,
   "metadata": {},
   "outputs": [
    {
     "data": {
      "application/vnd.jupyter.widget-view+json": {
       "model_id": "c2af2aa51bbf454eb4ad543fd07dfc6d",
       "version_major": 2,
       "version_minor": 0
      },
      "text/plain": [
       "interactive(children=(Select(description='State1:', index=1, options=('AK', 'AL', 'AR', 'AZ', 'CA', 'CO', 'CT'…"
      ]
     },
     "metadata": {},
     "output_type": "display_data"
    },
    {
     "data": {
      "text/plain": [
       "<function __main__.my_statelobby2(state7, state8)>"
      ]
     },
     "execution_count": 23,
     "metadata": {},
     "output_type": "execute_result"
    }
   ],
   "source": [
    "# INTERACTIVE PLOT - cmpare lobbying per capita for two states\n",
    "\n",
    "#FUNCTION\n",
    "def my_statelobby2(state7,state8):\n",
    "    plt.figure(figsize=(16,8))\n",
    "    plt.title(f'Comparing healthcare lobbying per capita for {state7} and {state8} (US Senate)', fontsize=25)\n",
    " \n",
    "    plt.plot(l_data.year, l_data[f'{state7}per_cap'],\n",
    "             color = 'lightgreen',\n",
    "             linestyle = 'dotted',\n",
    "             marker = 'o',\n",
    "             label = f'{state7} per capita lobbying')\n",
    "\n",
    "    plt.plot(l_data.year, l_data[f'{state8}per_cap'],\n",
    "             color = 'orange',\n",
    "             linestyle = 'dotted',\n",
    "             marker = 'o',\n",
    "             label = f'{state8} per capita lobbying')\n",
    "                                          \n",
    "    plt.xlabel('Year',fontsize=20)\n",
    "    plt.ylabel('Paid to lobbyists ($ percapita)',fontsize=20)\n",
    "    plt.xticks(fontsize=15)\n",
    "    plt.yticks(fontsize=15)\n",
    "    plt.legend(loc='best');\n",
    "    \n",
    "# WIDGETS\n",
    "state_select7 = widget.Select(\n",
    "    options=my_states,\n",
    "    value='AL',\n",
    "    description='State1:')\n",
    "state_select8 = widget.Select(\n",
    "    options=my_states,\n",
    "    value='CT',\n",
    "    description='State2:')    \n",
    "widget.interact(my_statelobby2, state7=state_select7, state8= state_select8)   "
   ]
  },
  {
   "cell_type": "markdown",
   "metadata": {},
   "source": [
    "##  \n",
    "## End of Data notebook, please continue with EDA notebook"
   ]
  }
 ],
 "metadata": {
  "kernelspec": {
   "display_name": "Python 3",
   "language": "python",
   "name": "python3"
  },
  "language_info": {
   "codemirror_mode": {
    "name": "ipython",
    "version": 3
   },
   "file_extension": ".py",
   "mimetype": "text/x-python",
   "name": "python",
   "nbconvert_exporter": "python",
   "pygments_lexer": "ipython3",
   "version": "3.7.4"
  }
 },
 "nbformat": 4,
 "nbformat_minor": 2
}
