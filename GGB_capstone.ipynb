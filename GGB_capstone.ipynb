{
 "cells": [
  {
   "cell_type": "code",
   "execution_count": null,
   "metadata": {},
   "outputs": [],
   "source": []
  },
  {
   "cell_type": "markdown",
   "metadata": {},
   "source": [
    "# Capstone Project -XX\n",
    "\n",
    "---\n",
    "## Raw data\n",
    "\n",
    "xxx \n",
    "https://www.senate.gov/legislative/Public_Disclosure/LDA_reports.htm\n",
    "\n",
    "\n",
    "https://factfinder.census.gov/faces/nav/jsf/pages/guided_search.xhtml\n",
    "\n",
    "---\n",
    "\n",
    "## Cleaning data\n",
    "\n",
    "xxx  \n",
    "\n",
    "\n",
    "---"
   ]
  },
  {
   "cell_type": "markdown",
   "metadata": {},
   "source": [
    "## 1. Importing tools "
   ]
  },
  {
   "cell_type": "code",
   "execution_count": 1,
   "metadata": {},
   "outputs": [],
   "source": [
    "import requests\n",
    "import numpy as np\n",
    "import pandas as pd\n",
    "import matplotlib.pyplot as plt\n",
    "import seaborn as sns\n",
    "import time\n",
    "import ipywidgets as widget\n",
    "import string"
   ]
  },
  {
   "cell_type": "markdown",
   "metadata": {},
   "source": [
    "## 2. Clean Data"
   ]
  },
  {
   "cell_type": "code",
   "execution_count": 5,
   "metadata": {},
   "outputs": [],
   "source": [
    "# Import my data into a 'c' costs dictionary of dataframes, keyed for each year\n",
    "c={}\n",
    "my_years = [2011, 2012, 2013, 2014, 2015, 2016, 2017]\n",
    "for yr in my_years:\n",
    "    c[yr] = pd.read_csv(f'./data/costs/costs_{yr}.csv')"
   ]
  },
  {
   "cell_type": "code",
   "execution_count": 6,
   "metadata": {},
   "outputs": [
    {
     "name": "stdout",
     "output_type": "stream",
     "text": [
      "YR=2011, SHAPE=(4725, 8), STATES=48,  DIAGNOSES=100\n",
      "YR=2012, SHAPE=(4739, 8), STATES=48,  DIAGNOSES=100\n",
      "YR=2013, SHAPE=(4737, 8), STATES=48,  DIAGNOSES=100\n",
      "YR=2014, SHAPE=(14081, 8), STATES=48,  DIAGNOSES=560\n",
      "YR=2015, SHAPE=(14287, 8), STATES=48,  DIAGNOSES=560\n",
      "YR=2016, SHAPE=(14495, 8), STATES=48,  DIAGNOSES=568\n",
      "YR=2017, SHAPE=(14485, 8), STATES=48,  DIAGNOSES=556\n",
      "Summy of dictionary with yearly cost data\n"
     ]
    }
   ],
   "source": [
    "for yr in my_years:\n",
    "    # for every df in my dictionary, change the col names, annotate the years\n",
    "    c[yr].columns = ['diagnosis', 'id', 'name','address','city','state','zip','region',\n",
    "       f'ave_discharged_{yr}', f'ave_charged_{yr}', f'ave_paid_{yr}', f'ave_medicare_{yr}']\n",
    "    \n",
    "    # drop cols I won't be using\n",
    "    c[yr].drop(columns = ['id', 'name', 'address', 'city', 'zip', 'region'],inplace= True)\n",
    "    \n",
    "    # truncate our Diagnosis Related Group description to 3 digit string\n",
    "    c[yr].diagnosis = c[yr].diagnosis.str[0:3]\n",
    "    \n",
    "    # Due to lobbyist overrepresentation in the VA/MD/DC area, we will not include these states in our analysis\n",
    "    c[yr].drop(c[yr][c[yr]['state'] == 'VA'].index, inplace=True)\n",
    "    c[yr].drop(c[yr][c[yr]['state'] == 'MD'].index, inplace=True)  \n",
    "    c[yr].drop(c[yr][c[yr]['state'] == 'DC'].index, inplace=True)    \n",
    " \n",
    "    # Let's consolidate all the state data by diagnosis, and get the mean of what each state charges/ is paid\n",
    "    c[yr]=c[yr].groupby(['state','diagnosis'],as_index=False).mean()\n",
    "\n",
    "\n",
    "    # Engineer/ add feature = this col compares the cost of a procedure vs what medicare pays\n",
    "    c[yr][f'charge_over_med_{yr}'] = (c[yr][f'ave_charged_{yr}'] - c[yr][f'ave_medicare_{yr}']\n",
    "                                     ) / c[yr][f'ave_medicare_{yr}']\n",
    "\n",
    "    # this col compares the average amount paid for a procedure vs what medicare pays\n",
    "    c[yr][f'paid_over_med_{yr}'] = (c[yr][f'ave_paid_{yr}'] - c[yr][f'ave_medicare_{yr}']\n",
    "                                     ) / c[yr][f'ave_medicare_{yr}']             \n",
    "    \n",
    "    # Interesting ovservation - number of recorded DRGs wen up from 100 to 560+\n",
    "    print(f'YR={yr}, SHAPE={c[yr].shape}, STATES={len(c[yr].state.unique())},  DIAGNOSES={len(c[yr].diagnosis.unique())}')\n",
    "    \n",
    "print('Summy of dictionary with yearly cost data')"
   ]
  },
  {
   "cell_type": "code",
   "execution_count": 7,
   "metadata": {},
   "outputs": [
    {
     "data": {
      "text/html": [
       "<div>\n",
       "<style scoped>\n",
       "    .dataframe tbody tr th:only-of-type {\n",
       "        vertical-align: middle;\n",
       "    }\n",
       "\n",
       "    .dataframe tbody tr th {\n",
       "        vertical-align: top;\n",
       "    }\n",
       "\n",
       "    .dataframe thead th {\n",
       "        text-align: right;\n",
       "    }\n",
       "</style>\n",
       "<table border=\"1\" class=\"dataframe\">\n",
       "  <thead>\n",
       "    <tr style=\"text-align: right;\">\n",
       "      <th></th>\n",
       "      <th>state</th>\n",
       "      <th>diagnosis</th>\n",
       "      <th>ave_discharged_2012</th>\n",
       "      <th>ave_charged_2012</th>\n",
       "      <th>ave_paid_2012</th>\n",
       "      <th>ave_medicare_2012</th>\n",
       "      <th>charge_over_med_2012</th>\n",
       "      <th>paid_over_med_2012</th>\n",
       "    </tr>\n",
       "  </thead>\n",
       "  <tbody>\n",
       "    <tr>\n",
       "      <td>0</td>\n",
       "      <td>AK</td>\n",
       "      <td>039</td>\n",
       "      <td>41.0</td>\n",
       "      <td>37220.29</td>\n",
       "      <td>8605.27</td>\n",
       "      <td>6768.05</td>\n",
       "      <td>4.499411</td>\n",
       "      <td>0.271455</td>\n",
       "    </tr>\n",
       "    <tr>\n",
       "      <td>1</td>\n",
       "      <td>AK</td>\n",
       "      <td>057</td>\n",
       "      <td>11.0</td>\n",
       "      <td>43032.73</td>\n",
       "      <td>18681.73</td>\n",
       "      <td>17746.82</td>\n",
       "      <td>1.424814</td>\n",
       "      <td>0.052680</td>\n",
       "    </tr>\n",
       "  </tbody>\n",
       "</table>\n",
       "</div>"
      ],
      "text/plain": [
       "  state diagnosis  ave_discharged_2012  ave_charged_2012  ave_paid_2012  \\\n",
       "0    AK       039                 41.0          37220.29        8605.27   \n",
       "1    AK       057                 11.0          43032.73       18681.73   \n",
       "\n",
       "   ave_medicare_2012  charge_over_med_2012  paid_over_med_2012  \n",
       "0            6768.05              4.499411            0.271455  \n",
       "1           17746.82              1.424814            0.052680  "
      ]
     },
     "execution_count": 7,
     "metadata": {},
     "output_type": "execute_result"
    }
   ],
   "source": [
    "# confirmed\n",
    "c[2012].head(2)"
   ]
  },
  {
   "cell_type": "code",
   "execution_count": 37,
   "metadata": {},
   "outputs": [
    {
     "name": "stdout",
     "output_type": "stream",
     "text": [
      "(4623, 14)\n",
      "(4469, 20)\n",
      "(4451, 26)\n",
      "(4394, 32)\n",
      "(4309, 38)\n",
      "(4283, 44)\n"
     ]
    }
   ],
   "source": [
    "merge1 = c[2011].merge(c[2012], on=['state','diagnosis'])\n",
    "print(merge1.shape)\n",
    "\n",
    "merge2 = merge1.merge(c[2013], on=['state','diagnosis'])\n",
    "print(merge2.shape)\n",
    "\n",
    "merge3 = merge2.merge(c[2014], on=['state','diagnosis'])\n",
    "print(merge3.shape)\n",
    "\n",
    "merge4 = merge3.merge(c[2015], on=['state','diagnosis'])\n",
    "print(merge4.shape)\n",
    "\n",
    "merge5 = merge4.merge(c[2016], on=['state','diagnosis'])\n",
    "print(merge5.shape)\n",
    "\n",
    "merge6 = merge5.merge(c[2017], on=['state','diagnosis'])\n",
    "print(merge6.shape)\n"
   ]
  },
  {
   "cell_type": "code",
   "execution_count": 38,
   "metadata": {},
   "outputs": [
    {
     "data": {
      "text/html": [
       "<div>\n",
       "<style scoped>\n",
       "    .dataframe tbody tr th:only-of-type {\n",
       "        vertical-align: middle;\n",
       "    }\n",
       "\n",
       "    .dataframe tbody tr th {\n",
       "        vertical-align: top;\n",
       "    }\n",
       "\n",
       "    .dataframe thead th {\n",
       "        text-align: right;\n",
       "    }\n",
       "</style>\n",
       "<table border=\"1\" class=\"dataframe\">\n",
       "  <thead>\n",
       "    <tr style=\"text-align: right;\">\n",
       "      <th></th>\n",
       "      <th>state</th>\n",
       "      <th>diagnosis</th>\n",
       "      <th>ave_discharged_2011</th>\n",
       "      <th>ave_charged_2011</th>\n",
       "      <th>ave_paid_2011</th>\n",
       "      <th>ave_medicare_2011</th>\n",
       "      <th>charge_over_med_2011</th>\n",
       "      <th>paid_over_med_2011</th>\n",
       "      <th>ave_discharged_2012</th>\n",
       "      <th>ave_charged_2012</th>\n",
       "      <th>...</th>\n",
       "      <th>ave_paid_2016</th>\n",
       "      <th>ave_medicare_2016</th>\n",
       "      <th>charge_over_med_2016</th>\n",
       "      <th>paid_over_med_2016</th>\n",
       "      <th>ave_discharged_2017</th>\n",
       "      <th>ave_charged_2017</th>\n",
       "      <th>ave_paid_2017</th>\n",
       "      <th>ave_medicare_2017</th>\n",
       "      <th>charge_over_med_2017</th>\n",
       "      <th>paid_over_med_2017</th>\n",
       "    </tr>\n",
       "  </thead>\n",
       "  <tbody>\n",
       "    <tr>\n",
       "      <td>0</td>\n",
       "      <td>AK</td>\n",
       "      <td>039</td>\n",
       "      <td>23.000000</td>\n",
       "      <td>34805.1300</td>\n",
       "      <td>8401.950000</td>\n",
       "      <td>6413.780000</td>\n",
       "      <td>4.426617</td>\n",
       "      <td>0.309984</td>\n",
       "      <td>41.0</td>\n",
       "      <td>37220.290000</td>\n",
       "      <td>...</td>\n",
       "      <td>9939.755000</td>\n",
       "      <td>7997.960</td>\n",
       "      <td>6.392435</td>\n",
       "      <td>0.242786</td>\n",
       "      <td>22.666667</td>\n",
       "      <td>55837.040000</td>\n",
       "      <td>12853.513333</td>\n",
       "      <td>10533.016667</td>\n",
       "      <td>4.301144</td>\n",
       "      <td>0.220307</td>\n",
       "    </tr>\n",
       "    <tr>\n",
       "      <td>1</td>\n",
       "      <td>AK</td>\n",
       "      <td>064</td>\n",
       "      <td>22.500000</td>\n",
       "      <td>42453.8100</td>\n",
       "      <td>21608.010000</td>\n",
       "      <td>20555.255000</td>\n",
       "      <td>1.065351</td>\n",
       "      <td>0.051216</td>\n",
       "      <td>23.0</td>\n",
       "      <td>63529.835000</td>\n",
       "      <td>...</td>\n",
       "      <td>19665.853333</td>\n",
       "      <td>14950.970</td>\n",
       "      <td>4.205635</td>\n",
       "      <td>0.315356</td>\n",
       "      <td>30.750000</td>\n",
       "      <td>91448.107500</td>\n",
       "      <td>18993.405000</td>\n",
       "      <td>17374.057500</td>\n",
       "      <td>4.263486</td>\n",
       "      <td>0.093205</td>\n",
       "    </tr>\n",
       "    <tr>\n",
       "      <td>2</td>\n",
       "      <td>AK</td>\n",
       "      <td>065</td>\n",
       "      <td>25.333333</td>\n",
       "      <td>32629.3700</td>\n",
       "      <td>12555.548333</td>\n",
       "      <td>11140.963333</td>\n",
       "      <td>1.928775</td>\n",
       "      <td>0.126972</td>\n",
       "      <td>24.5</td>\n",
       "      <td>35582.838333</td>\n",
       "      <td>...</td>\n",
       "      <td>12096.284000</td>\n",
       "      <td>10674.520</td>\n",
       "      <td>3.896483</td>\n",
       "      <td>0.133192</td>\n",
       "      <td>30.142857</td>\n",
       "      <td>56630.808571</td>\n",
       "      <td>14759.177143</td>\n",
       "      <td>12923.045714</td>\n",
       "      <td>3.382156</td>\n",
       "      <td>0.142082</td>\n",
       "    </tr>\n",
       "    <tr>\n",
       "      <td>3</td>\n",
       "      <td>AK</td>\n",
       "      <td>066</td>\n",
       "      <td>21.000000</td>\n",
       "      <td>25843.3225</td>\n",
       "      <td>9275.867500</td>\n",
       "      <td>8258.427500</td>\n",
       "      <td>2.129327</td>\n",
       "      <td>0.123200</td>\n",
       "      <td>17.0</td>\n",
       "      <td>29064.272500</td>\n",
       "      <td>...</td>\n",
       "      <td>7433.960000</td>\n",
       "      <td>5849.440</td>\n",
       "      <td>5.844026</td>\n",
       "      <td>0.270884</td>\n",
       "      <td>21.000000</td>\n",
       "      <td>37341.190000</td>\n",
       "      <td>7981.100000</td>\n",
       "      <td>5800.480000</td>\n",
       "      <td>5.437603</td>\n",
       "      <td>0.375938</td>\n",
       "    </tr>\n",
       "    <tr>\n",
       "      <td>4</td>\n",
       "      <td>AK</td>\n",
       "      <td>101</td>\n",
       "      <td>19.500000</td>\n",
       "      <td>23156.0850</td>\n",
       "      <td>7682.735000</td>\n",
       "      <td>5942.060000</td>\n",
       "      <td>2.896979</td>\n",
       "      <td>0.292941</td>\n",
       "      <td>16.5</td>\n",
       "      <td>34187.500000</td>\n",
       "      <td>...</td>\n",
       "      <td>8721.080000</td>\n",
       "      <td>6569.365</td>\n",
       "      <td>5.233827</td>\n",
       "      <td>0.327538</td>\n",
       "      <td>13.000000</td>\n",
       "      <td>41694.065000</td>\n",
       "      <td>9877.455000</td>\n",
       "      <td>6879.460000</td>\n",
       "      <td>5.060660</td>\n",
       "      <td>0.435789</td>\n",
       "    </tr>\n",
       "  </tbody>\n",
       "</table>\n",
       "<p>5 rows × 44 columns</p>\n",
       "</div>"
      ],
      "text/plain": [
       "  state diagnosis  ave_discharged_2011  ave_charged_2011  ave_paid_2011  \\\n",
       "0    AK       039            23.000000        34805.1300    8401.950000   \n",
       "1    AK       064            22.500000        42453.8100   21608.010000   \n",
       "2    AK       065            25.333333        32629.3700   12555.548333   \n",
       "3    AK       066            21.000000        25843.3225    9275.867500   \n",
       "4    AK       101            19.500000        23156.0850    7682.735000   \n",
       "\n",
       "   ave_medicare_2011  charge_over_med_2011  paid_over_med_2011  \\\n",
       "0        6413.780000              4.426617            0.309984   \n",
       "1       20555.255000              1.065351            0.051216   \n",
       "2       11140.963333              1.928775            0.126972   \n",
       "3        8258.427500              2.129327            0.123200   \n",
       "4        5942.060000              2.896979            0.292941   \n",
       "\n",
       "   ave_discharged_2012  ave_charged_2012  ...  ave_paid_2016  \\\n",
       "0                 41.0      37220.290000  ...    9939.755000   \n",
       "1                 23.0      63529.835000  ...   19665.853333   \n",
       "2                 24.5      35582.838333  ...   12096.284000   \n",
       "3                 17.0      29064.272500  ...    7433.960000   \n",
       "4                 16.5      34187.500000  ...    8721.080000   \n",
       "\n",
       "   ave_medicare_2016  charge_over_med_2016  paid_over_med_2016  \\\n",
       "0           7997.960              6.392435            0.242786   \n",
       "1          14950.970              4.205635            0.315356   \n",
       "2          10674.520              3.896483            0.133192   \n",
       "3           5849.440              5.844026            0.270884   \n",
       "4           6569.365              5.233827            0.327538   \n",
       "\n",
       "   ave_discharged_2017  ave_charged_2017  ave_paid_2017  ave_medicare_2017  \\\n",
       "0            22.666667      55837.040000   12853.513333       10533.016667   \n",
       "1            30.750000      91448.107500   18993.405000       17374.057500   \n",
       "2            30.142857      56630.808571   14759.177143       12923.045714   \n",
       "3            21.000000      37341.190000    7981.100000        5800.480000   \n",
       "4            13.000000      41694.065000    9877.455000        6879.460000   \n",
       "\n",
       "   charge_over_med_2017  paid_over_med_2017  \n",
       "0              4.301144            0.220307  \n",
       "1              4.263486            0.093205  \n",
       "2              3.382156            0.142082  \n",
       "3              5.437603            0.375938  \n",
       "4              5.060660            0.435789  \n",
       "\n",
       "[5 rows x 44 columns]"
      ]
     },
     "execution_count": 38,
     "metadata": {},
     "output_type": "execute_result"
    }
   ],
   "source": [
    "merge6.head()"
   ]
  },
  {
   "cell_type": "code",
   "execution_count": 41,
   "metadata": {},
   "outputs": [
    {
     "data": {
      "text/plain": [
       "93"
      ]
     },
     "execution_count": 41,
     "metadata": {},
     "output_type": "execute_result"
    }
   ],
   "source": [
    "common_diagnoses = np.unique(merge6.diagnosis)\n",
    "len(common_diagnoses)"
   ]
  },
  {
   "cell_type": "code",
   "execution_count": 10,
   "metadata": {},
   "outputs": [],
   "source": [
    "#create new col representing BOTH STATE and diagnosis\n",
    "merge6['STdiag']=merge6.state+merge6.diagnosis\n",
    "merge6.drop(columns = ['state', 'diagnosis'],inplace= True)\n",
    "merge6 = merge6.set_index('STdiag')\n",
    "#drop old cols and make new col the index"
   ]
  },
  {
   "cell_type": "code",
   "execution_count": 11,
   "metadata": {},
   "outputs": [
    {
     "data": {
      "text/html": [
       "<div>\n",
       "<style scoped>\n",
       "    .dataframe tbody tr th:only-of-type {\n",
       "        vertical-align: middle;\n",
       "    }\n",
       "\n",
       "    .dataframe tbody tr th {\n",
       "        vertical-align: top;\n",
       "    }\n",
       "\n",
       "    .dataframe thead th {\n",
       "        text-align: right;\n",
       "    }\n",
       "</style>\n",
       "<table border=\"1\" class=\"dataframe\">\n",
       "  <thead>\n",
       "    <tr style=\"text-align: right;\">\n",
       "      <th>STdiag</th>\n",
       "      <th>ave_data</th>\n",
       "      <th>AK039</th>\n",
       "      <th>AK064</th>\n",
       "      <th>AK065</th>\n",
       "      <th>AK066</th>\n",
       "      <th>AK101</th>\n",
       "      <th>AK176</th>\n",
       "      <th>AK177</th>\n",
       "      <th>AK189</th>\n",
       "      <th>AK190</th>\n",
       "      <th>...</th>\n",
       "      <th>WY682</th>\n",
       "      <th>WY683</th>\n",
       "      <th>WY689</th>\n",
       "      <th>WY690</th>\n",
       "      <th>WY812</th>\n",
       "      <th>WY853</th>\n",
       "      <th>WY871</th>\n",
       "      <th>WY872</th>\n",
       "      <th>WY897</th>\n",
       "      <th>WY948</th>\n",
       "    </tr>\n",
       "  </thead>\n",
       "  <tbody>\n",
       "    <tr>\n",
       "      <td>0</td>\n",
       "      <td>ave_discharged_2011</td>\n",
       "      <td>23.00</td>\n",
       "      <td>22.50</td>\n",
       "      <td>25.333333</td>\n",
       "      <td>21.0000</td>\n",
       "      <td>19.500</td>\n",
       "      <td>26.00</td>\n",
       "      <td>14.500</td>\n",
       "      <td>24.000000</td>\n",
       "      <td>23.285714</td>\n",
       "      <td>...</td>\n",
       "      <td>18.000</td>\n",
       "      <td>33.666667</td>\n",
       "      <td>14.50</td>\n",
       "      <td>27.87500</td>\n",
       "      <td>19.666667</td>\n",
       "      <td>19.00</td>\n",
       "      <td>52.7500</td>\n",
       "      <td>44.000</td>\n",
       "      <td>14.00</td>\n",
       "      <td>15.333333</td>\n",
       "    </tr>\n",
       "    <tr>\n",
       "      <td>1</td>\n",
       "      <td>ave_charged_2011</td>\n",
       "      <td>34805.13</td>\n",
       "      <td>42453.81</td>\n",
       "      <td>32629.370000</td>\n",
       "      <td>25843.3225</td>\n",
       "      <td>23156.085</td>\n",
       "      <td>35672.65</td>\n",
       "      <td>61224.635</td>\n",
       "      <td>45137.093333</td>\n",
       "      <td>33169.691429</td>\n",
       "      <td>...</td>\n",
       "      <td>40129.865</td>\n",
       "      <td>18626.013333</td>\n",
       "      <td>24824.97</td>\n",
       "      <td>15579.22875</td>\n",
       "      <td>15862.536667</td>\n",
       "      <td>131640.84</td>\n",
       "      <td>33379.6775</td>\n",
       "      <td>24063.995</td>\n",
       "      <td>16873.64</td>\n",
       "      <td>12963.593333</td>\n",
       "    </tr>\n",
       "  </tbody>\n",
       "</table>\n",
       "<p>2 rows × 4284 columns</p>\n",
       "</div>"
      ],
      "text/plain": [
       "STdiag             ave_data     AK039     AK064         AK065       AK066  \\\n",
       "0       ave_discharged_2011     23.00     22.50     25.333333     21.0000   \n",
       "1          ave_charged_2011  34805.13  42453.81  32629.370000  25843.3225   \n",
       "\n",
       "STdiag      AK101     AK176      AK177         AK189         AK190  ...  \\\n",
       "0          19.500     26.00     14.500     24.000000     23.285714  ...   \n",
       "1       23156.085  35672.65  61224.635  45137.093333  33169.691429  ...   \n",
       "\n",
       "STdiag      WY682         WY683     WY689        WY690         WY812  \\\n",
       "0          18.000     33.666667     14.50     27.87500     19.666667   \n",
       "1       40129.865  18626.013333  24824.97  15579.22875  15862.536667   \n",
       "\n",
       "STdiag      WY853       WY871      WY872     WY897         WY948  \n",
       "0           19.00     52.7500     44.000     14.00     15.333333  \n",
       "1       131640.84  33379.6775  24063.995  16873.64  12963.593333  \n",
       "\n",
       "[2 rows x 4284 columns]"
      ]
     },
     "execution_count": 11,
     "metadata": {},
     "output_type": "execute_result"
    }
   ],
   "source": [
    "#Transpose!\n",
    "data = merge6.T\n",
    "data=data.reset_index()\n",
    "data.rename(columns = {'index':'ave_data'}, inplace = True)\n",
    "data.head(2)"
   ]
  },
  {
   "cell_type": "code",
   "execution_count": 12,
   "metadata": {},
   "outputs": [],
   "source": [
    "my_states = ['AL','AK','AZ','AR','CA','CO','CT','DE','FL','GA','HI','ID',\n",
    "             'IL','IN','IA','KS','KY','LA','ME','MA','MI','MN','MS','MO',\n",
    "             'MT','NE','NV','NH','NJ','NM','NY','NC','ND','OH','OK','OR','PA',\n",
    "             'RI','SC','SD','TN','TX','UT','VT','WA','WV','WI','WY']"
   ]
  },
  {
   "cell_type": "code",
   "execution_count": 13,
   "metadata": {},
   "outputs": [],
   "source": [
    "#create new cols for STATE averages for all 100 procedures\n",
    "for st in my_states:\n",
    "    data[f'{st}all']= data.filter(like= st).mean(axis=1)"
   ]
  },
  {
   "cell_type": "code",
   "execution_count": 14,
   "metadata": {
    "scrolled": true
   },
   "outputs": [
    {
     "data": {
      "text/html": [
       "<div>\n",
       "<style scoped>\n",
       "    .dataframe tbody tr th:only-of-type {\n",
       "        vertical-align: middle;\n",
       "    }\n",
       "\n",
       "    .dataframe tbody tr th {\n",
       "        vertical-align: top;\n",
       "    }\n",
       "\n",
       "    .dataframe thead th {\n",
       "        text-align: right;\n",
       "    }\n",
       "</style>\n",
       "<table border=\"1\" class=\"dataframe\">\n",
       "  <thead>\n",
       "    <tr style=\"text-align: right;\">\n",
       "      <th>STdiag</th>\n",
       "      <th>ave_data</th>\n",
       "      <th>AK039</th>\n",
       "      <th>AK064</th>\n",
       "      <th>AK065</th>\n",
       "      <th>AK066</th>\n",
       "      <th>AK101</th>\n",
       "      <th>AK176</th>\n",
       "      <th>AK177</th>\n",
       "      <th>AK189</th>\n",
       "      <th>AK190</th>\n",
       "      <th>...</th>\n",
       "      <th>SCall</th>\n",
       "      <th>SDall</th>\n",
       "      <th>TNall</th>\n",
       "      <th>TXall</th>\n",
       "      <th>UTall</th>\n",
       "      <th>VTall</th>\n",
       "      <th>WAall</th>\n",
       "      <th>WVall</th>\n",
       "      <th>WIall</th>\n",
       "      <th>WYall</th>\n",
       "    </tr>\n",
       "  </thead>\n",
       "  <tbody>\n",
       "    <tr>\n",
       "      <td>0</td>\n",
       "      <td>ave_discharged_2011</td>\n",
       "      <td>23.00</td>\n",
       "      <td>22.50</td>\n",
       "      <td>25.333333</td>\n",
       "      <td>21.0000</td>\n",
       "      <td>19.500</td>\n",
       "      <td>26.00</td>\n",
       "      <td>14.500</td>\n",
       "      <td>24.000000</td>\n",
       "      <td>23.285714</td>\n",
       "      <td>...</td>\n",
       "      <td>38.147861</td>\n",
       "      <td>40.449808</td>\n",
       "      <td>41.410140</td>\n",
       "      <td>36.408059</td>\n",
       "      <td>25.742691</td>\n",
       "      <td>35.461044</td>\n",
       "      <td>34.007267</td>\n",
       "      <td>35.422455</td>\n",
       "      <td>30.712215</td>\n",
       "      <td>25.511262</td>\n",
       "    </tr>\n",
       "    <tr>\n",
       "      <td>1</td>\n",
       "      <td>ave_charged_2011</td>\n",
       "      <td>34805.13</td>\n",
       "      <td>42453.81</td>\n",
       "      <td>32629.370000</td>\n",
       "      <td>25843.3225</td>\n",
       "      <td>23156.085</td>\n",
       "      <td>35672.65</td>\n",
       "      <td>61224.635</td>\n",
       "      <td>45137.093333</td>\n",
       "      <td>33169.691429</td>\n",
       "      <td>...</td>\n",
       "      <td>39923.887371</td>\n",
       "      <td>31603.850257</td>\n",
       "      <td>33074.118494</td>\n",
       "      <td>45155.849624</td>\n",
       "      <td>26237.698301</td>\n",
       "      <td>21887.172480</td>\n",
       "      <td>36958.386834</td>\n",
       "      <td>22519.009946</td>\n",
       "      <td>29508.684123</td>\n",
       "      <td>32971.456055</td>\n",
       "    </tr>\n",
       "  </tbody>\n",
       "</table>\n",
       "<p>2 rows × 4332 columns</p>\n",
       "</div>"
      ],
      "text/plain": [
       "STdiag             ave_data     AK039     AK064         AK065       AK066  \\\n",
       "0       ave_discharged_2011     23.00     22.50     25.333333     21.0000   \n",
       "1          ave_charged_2011  34805.13  42453.81  32629.370000  25843.3225   \n",
       "\n",
       "STdiag      AK101     AK176      AK177         AK189         AK190  ...  \\\n",
       "0          19.500     26.00     14.500     24.000000     23.285714  ...   \n",
       "1       23156.085  35672.65  61224.635  45137.093333  33169.691429  ...   \n",
       "\n",
       "STdiag         SCall         SDall         TNall         TXall         UTall  \\\n",
       "0          38.147861     40.449808     41.410140     36.408059     25.742691   \n",
       "1       39923.887371  31603.850257  33074.118494  45155.849624  26237.698301   \n",
       "\n",
       "STdiag         VTall         WAall         WVall         WIall         WYall  \n",
       "0          35.461044     34.007267     35.422455     30.712215     25.511262  \n",
       "1       21887.172480  36958.386834  22519.009946  29508.684123  32971.456055  \n",
       "\n",
       "[2 rows x 4332 columns]"
      ]
     },
     "execution_count": 14,
     "metadata": {},
     "output_type": "execute_result"
    }
   ],
   "source": [
    "data.head(2)"
   ]
  },
  {
   "cell_type": "code",
   "execution_count": 28,
   "metadata": {},
   "outputs": [
    {
     "data": {
      "application/vnd.jupyter.widget-view+json": {
       "model_id": "f4279f2f1b1f4c1680b5167da49df0bf",
       "version_major": 2,
       "version_minor": 0
      },
      "text/plain": [
       "interactive(children=(SelectionSlider(continuous_update=False, description='State:', index=1, options=('AL', '…"
      ]
     },
     "metadata": {},
     "output_type": "display_data"
    },
    {
     "data": {
      "text/plain": [
       "<function __main__.my_stateplot1(state_choice1)>"
      ]
     },
     "execution_count": 28,
     "metadata": {},
     "output_type": "execute_result"
    }
   ],
   "source": [
    "def my_stateplot1(state_choice1):\n",
    "    plt.figure(figsize=(16,8))\n",
    "    plt.title(f'How much hospitals get paid in {state_choice1} (ave 93 procedures)', fontsize=25)\n",
    "    \n",
    "    y = data[data['ave_data'].str.contains(\"ave_paid\")][f'{state_choice1}all']\n",
    "    y2 = data[data['ave_data'].str.contains(\"ave_medicare\")][f'{state_choice1}all']\n",
    "    plt.plot(my_years, y, label = 'Ave payment by all')\n",
    "    plt.plot(my_years, y2,label = 'Ave payment by Medicare')\n",
    "    \n",
    "    plt.xlabel('Year',fontsize=20)\n",
    "    plt.ylabel('Paid to hospitals',fontsize=20)\n",
    "    plt.ylim(6000, 18000)\n",
    "    plt.xticks(fontsize=15)\n",
    "    plt.yticks(fontsize=15)\n",
    "    plt.legend(loc='best');\n",
    "    \n",
    "\n",
    "state_slider1 = widget.SelectionSlider(\n",
    "    options=my_states,\n",
    "    value='AK',\n",
    "    description='State:',\n",
    "    disabled=False,\n",
    "    continuous_update=False,\n",
    "    orientation='horizontal',\n",
    "    readout=True\n",
    "    #layout ={'width':'1000px'}\n",
    "    )\n",
    "\n",
    "\n",
    "widget.interact(my_stateplot1 , state_choice1=state_slider1)        "
   ]
  },
  {
   "cell_type": "code",
   "execution_count": 27,
   "metadata": {},
   "outputs": [
    {
     "data": {
      "application/vnd.jupyter.widget-view+json": {
       "model_id": "6f7bef3fd2b948f6a11e7d41184e4581",
       "version_major": 2,
       "version_minor": 0
      },
      "text/plain": [
       "interactive(children=(SelectionSlider(continuous_update=False, description='State:', index=1, options=('AL', '…"
      ]
     },
     "metadata": {},
     "output_type": "display_data"
    },
    {
     "data": {
      "text/plain": [
       "<function __main__.my_stateplot2(state_choice2)>"
      ]
     },
     "execution_count": 27,
     "metadata": {},
     "output_type": "execute_result"
    }
   ],
   "source": [
    "def my_stateplot2(state_choice2):\n",
    "    plt.figure(figsize=(16,8))\n",
    "    plt.title(f'How much hospitals charge in {state_choice2} (ave 93 procedures)', fontsize=25)\n",
    "    \n",
    "    y = data[data['ave_data'].str.contains(\"ave_charged\")][f'{state_choice2}all']\n",
    "    y2 = data[data['ave_data'].str.contains(\"ave_medicare\")][f'{state_choice2}all']\n",
    "    plt.plot(my_years, y, label = 'Hospital charge ')\n",
    "    plt.plot(my_years, y2,label = 'Ave payment by Medicare')\n",
    "    \n",
    "    plt.xlabel('Year',fontsize=20)\n",
    "    plt.ylabel('Paid to hospitals',fontsize=20)\n",
    "    #lt.ylim(6000, 18000)\n",
    "    plt.xticks(fontsize=15)\n",
    "    plt.yticks(fontsize=15)\n",
    "    plt.legend(loc='best');\n",
    "    \n",
    "state_slider2 = widget.SelectionSlider(\n",
    "    options=my_states,\n",
    "    value='AK',\n",
    "    description='State:',\n",
    "    disabled=False,\n",
    "    continuous_update=False,\n",
    "    orientation='horizontal',\n",
    "    readout=True\n",
    "    #layout ={'width':'1000px'}\n",
    "    )\n",
    "\n",
    "widget.interact(my_stateplot2, state_choice2=state_slider2)    "
   ]
  },
  {
   "cell_type": "code",
   "execution_count": 50,
   "metadata": {},
   "outputs": [
    {
     "data": {
      "application/vnd.jupyter.widget-view+json": {
       "model_id": "ea8c1e43bbf5468bbb80d780c2bcece3",
       "version_major": 2,
       "version_minor": 0
      },
      "text/plain": [
       "interactive(children=(SelectionSlider(continuous_update=False, description='State:', options=('AK', 'AL', 'AR'…"
      ]
     },
     "metadata": {},
     "output_type": "display_data"
    },
    {
     "data": {
      "text/plain": [
       "<function __main__.my_stateplot3(state_choice3, state_choice4)>"
      ]
     },
     "execution_count": 50,
     "metadata": {},
     "output_type": "execute_result"
    }
   ],
   "source": [
    "def my_stateplot3(state_choice3,state_choice4):\n",
    "    plt.figure(figsize=(16,8))\n",
    "    plt.title(f'Comparing hospital charges in {state_choice3} and {state_choice4} (ave 93 proc)', fontsize=25)\n",
    "    \n",
    "    y = data[data['ave_data'].str.contains(\"ave_charged\")][f'{state_choice3}all']\n",
    "    y2 = data[data['ave_data'].str.contains(\"ave_medicare\")][f'{state_choice3}all']\n",
    "    y3 = data[data['ave_data'].str.contains(\"ave_charged\")][f'{state_choice4}all']\n",
    "    y4 = data[data['ave_data'].str.contains(\"ave_medicare\")][f'{state_choice4}all']    \n",
    "    \n",
    "    plt.plot(my_years, y, label = f'Hospital charges in {state_choice3}')\n",
    "    plt.plot(my_years, y2,label = f'Ave payment by Medicare in {state_choice3}')\n",
    "    plt.plot(my_years, y3,label = f'Hospital charges in {state_choice4} ')\n",
    "    plt.plot(my_years, y4,label = f'Ave payment by Medicare in {state_choice4}')    \n",
    "    \n",
    "    plt.xlabel('Year',fontsize=20)\n",
    "    plt.ylabel('Paid to hospitals',fontsize=20)\n",
    "    #lt.ylim(6000, 18000)\n",
    "    plt.xticks(fontsize=15)\n",
    "    plt.yticks(fontsize=15)\n",
    "    plt.legend(loc='best');\n",
    "    \n",
    "state_slider3 = widget.SelectionSlider(\n",
    "    options=my_states,\n",
    "    value='AK',\n",
    "    description='State:',\n",
    "    disabled=False,\n",
    "    continuous_update=False,\n",
    "    orientation='horizontal',\n",
    "    readout=True\n",
    "    #layout ={'width':'1000px'}\n",
    "    )\n",
    "\n",
    "state_slider4 = widget.SelectionSlider(\n",
    "    options=my_states,\n",
    "    value='AK',\n",
    "    description='State:',\n",
    "    disabled=False,\n",
    "    continuous_update=False,\n",
    "    orientation='horizontal',\n",
    "    readout=True\n",
    "    #layout ={'width':'1000px'}\n",
    "    )\n",
    "\n",
    "\n",
    "widget.interact(my_stateplot3, state_choice3=state_slider3, state_choice4= state_slider4)   "
   ]
  },
  {
   "cell_type": "code",
   "execution_count": 47,
   "metadata": {},
   "outputs": [
    {
     "data": {
      "application/vnd.jupyter.widget-view+json": {
       "model_id": "bb518a61ca5349d18d0eba916708724d",
       "version_major": 2,
       "version_minor": 0
      },
      "text/plain": [
       "interactive(children=(SelectionSlider(continuous_update=False, description='State:', options=('AK', 'AL', 'AR'…"
      ]
     },
     "metadata": {},
     "output_type": "display_data"
    },
    {
     "data": {
      "text/plain": [
       "<function __main__.my_stateplot3(state_choice3, diagnosis_choice)>"
      ]
     },
     "execution_count": 47,
     "metadata": {},
     "output_type": "execute_result"
    }
   ],
   "source": [
    "def my_stateplot3(state_choice3,diagnosis_choice):\n",
    "    plt.figure(figsize=(16,8))\n",
    "    plt.title(f'How much hospitals charge in {state_choice3} for procedure {diagnosis_choice}', fontsize=25)\n",
    "    \n",
    "    y = data[data['ave_data'].str.contains(\"ave_charged\")][f'{state_choice3}{diagnosis_choice}']\n",
    "    y2 = data[data['ave_data'].str.contains(\"ave_medicare\")][f'{state_choice3}{diagnosis_choice}']\n",
    "    plt.plot(my_years, y, label = 'Hospital charge ')\n",
    "    plt.plot(my_years, y2,label = 'Ave payment by Medicare')\n",
    "    \n",
    "    plt.xlabel('Year',fontsize=20)\n",
    "    plt.ylabel('Paid to hospitals',fontsize=20)\n",
    "    #lt.ylim(6000, 18000)\n",
    "    plt.xticks(fontsize=15)\n",
    "    plt.yticks(fontsize=15)\n",
    "    plt.legend(loc='best');\n",
    "    \n",
    "state_slider3 = widget.SelectionSlider(\n",
    "    options=my_states,\n",
    "    value='AK',\n",
    "    description='State:',\n",
    "    disabled=False,\n",
    "    continuous_update=False,\n",
    "    orientation='horizontal',\n",
    "    readout=True\n",
    "    #layout ={'width':'1000px'}\n",
    "    )\n",
    "\n",
    "diagnosis_slider = widget.SelectionSlider(\n",
    "    options=common_diagnoses,\n",
    "    value='039',\n",
    "    description='Diagnosis code:',\n",
    "    disabled=False,\n",
    "    continuous_update=False,\n",
    "    orientation='horizontal',\n",
    "    readout=True\n",
    "    #layout ={'width':'1000px'}\n",
    "    )\n",
    "\n",
    "widget.interact(my_stateplot3, state_choice3=state_slider3, diagnosis_choice=diagnosis_slider)        \n"
   ]
  },
  {
   "cell_type": "code",
   "execution_count": 60,
   "metadata": {},
   "outputs": [
    {
     "data": {
      "application/vnd.jupyter.widget-view+json": {
       "model_id": "e512d0414ef144ee9d8690e3a6a29994",
       "version_major": 2,
       "version_minor": 0
      },
      "text/plain": [
       "Select(description='State:', options=('AK', 'AL', 'AR', 'AZ', 'CA', 'CO', 'CT', 'DE', 'FL', 'GA', 'HI', 'ID', …"
      ]
     },
     "metadata": {},
     "output_type": "display_data"
    }
   ],
   "source": [
    "widget.Select(\n",
    "    options=my_states,\n",
    "    value='AK',\n",
    "    #rows=10,\n",
    "    description='State:',\n",
    "    disabled=False\n",
    ")"
   ]
  },
  {
   "cell_type": "code",
   "execution_count": null,
   "metadata": {},
   "outputs": [],
   "source": []
  },
  {
   "cell_type": "code",
   "execution_count": null,
   "metadata": {},
   "outputs": [],
   "source": []
  },
  {
   "cell_type": "code",
   "execution_count": null,
   "metadata": {},
   "outputs": [],
   "source": []
  },
  {
   "cell_type": "code",
   "execution_count": null,
   "metadata": {},
   "outputs": [],
   "source": []
  },
  {
   "cell_type": "code",
   "execution_count": 124,
   "metadata": {},
   "outputs": [],
   "source": [
    "pop=pd.read_csv('./data/states/population.csv')"
   ]
  },
  {
   "cell_type": "code",
   "execution_count": 131,
   "metadata": {},
   "outputs": [
    {
     "data": {
      "text/html": [
       "<div>\n",
       "<style scoped>\n",
       "    .dataframe tbody tr th:only-of-type {\n",
       "        vertical-align: middle;\n",
       "    }\n",
       "\n",
       "    .dataframe tbody tr th {\n",
       "        vertical-align: top;\n",
       "    }\n",
       "\n",
       "    .dataframe thead th {\n",
       "        text-align: right;\n",
       "    }\n",
       "</style>\n",
       "<table border=\"1\" class=\"dataframe\">\n",
       "  <thead>\n",
       "    <tr style=\"text-align: right;\">\n",
       "      <th></th>\n",
       "      <th>AVE</th>\n",
       "    </tr>\n",
       "  </thead>\n",
       "  <tbody>\n",
       "    <tr>\n",
       "      <td>2</td>\n",
       "      <td>6722776</td>\n",
       "    </tr>\n",
       "  </tbody>\n",
       "</table>\n",
       "</div>"
      ],
      "text/plain": [
       "       AVE\n",
       "2  6722776"
      ]
     },
     "execution_count": 131,
     "metadata": {},
     "output_type": "execute_result"
    }
   ],
   "source": [
    "grr= 'AZ'\n",
    "pop.loc[pop.State == grr,['AVE']]"
   ]
  },
  {
   "cell_type": "code",
   "execution_count": 94,
   "metadata": {},
   "outputs": [],
   "source": [
    "#VA,MD,DC removed\n",
    "my_states = ['AK','AL','AR','AZ','CA','CO','CT','DE','FL','GA','HI','ID',\n",
    "             'IL','IN','IA','KS','KY','LA','ME','MA','MI','MN','MS','MO',\n",
    "             'MT','NE','NV','NH','NJ','NM','NY','NC','ND','OH','OK','OR','PA',\n",
    "             'RI','SC','SD','TN','TX','UT','VT','WA','WV','WI','WY']"
   ]
  },
  {
   "cell_type": "code",
   "execution_count": 109,
   "metadata": {},
   "outputs": [],
   "source": [
    "# Import my data into 's' states dictionary of dataframes, keyed for each state\n",
    "s={}\n",
    "for st in my_states:\n",
    "    s[st] = pd.read_csv(f'./data/states/{st}.csv')"
   ]
  },
  {
   "cell_type": "code",
   "execution_count": 110,
   "metadata": {},
   "outputs": [],
   "source": [
    "for st in my_states:\n",
    "    # for every df in my dictionary, change the col names\n",
    "    s[st].columns = ['state', 'lobbyist', 'client','report','amount','date','year']\n",
    "    "
   ]
  },
  {
   "cell_type": "code",
   "execution_count": 111,
   "metadata": {},
   "outputs": [
    {
     "data": {
      "text/html": [
       "<div>\n",
       "<style scoped>\n",
       "    .dataframe tbody tr th:only-of-type {\n",
       "        vertical-align: middle;\n",
       "    }\n",
       "\n",
       "    .dataframe tbody tr th {\n",
       "        vertical-align: top;\n",
       "    }\n",
       "\n",
       "    .dataframe thead th {\n",
       "        text-align: right;\n",
       "    }\n",
       "</style>\n",
       "<table border=\"1\" class=\"dataframe\">\n",
       "  <thead>\n",
       "    <tr style=\"text-align: right;\">\n",
       "      <th></th>\n",
       "      <th>state</th>\n",
       "      <th>client</th>\n",
       "      <th>report</th>\n",
       "      <th>amount</th>\n",
       "      <th>year</th>\n",
       "    </tr>\n",
       "  </thead>\n",
       "  <tbody>\n",
       "    <tr>\n",
       "      <td>0</td>\n",
       "      <td>AZ</td>\n",
       "      <td>TriWest Healthcare Alliance</td>\n",
       "      <td>YEAR-END REPORT</td>\n",
       "      <td>NaN</td>\n",
       "      <td>2007</td>\n",
       "    </tr>\n",
       "    <tr>\n",
       "      <td>1</td>\n",
       "      <td>AZ</td>\n",
       "      <td>TriWest Healthcare Alliance</td>\n",
       "      <td>MID-YEAR REPORT</td>\n",
       "      <td>$10,000.00</td>\n",
       "      <td>2007</td>\n",
       "    </tr>\n",
       "  </tbody>\n",
       "</table>\n",
       "</div>"
      ],
      "text/plain": [
       "  state                       client           report       amount  year\n",
       "0    AZ  TriWest Healthcare Alliance  YEAR-END REPORT          NaN  2007\n",
       "1    AZ  TriWest Healthcare Alliance  MID-YEAR REPORT  $10,000.00   2007"
      ]
     },
     "execution_count": 111,
     "metadata": {},
     "output_type": "execute_result"
    }
   ],
   "source": [
    "s['AZ'].head(2)"
   ]
  },
  {
   "cell_type": "code",
   "execution_count": 112,
   "metadata": {},
   "outputs": [],
   "source": [
    "# if report contains ...QUARTER REPORT'AMENDMENT', \n",
    "# then delete the row with matching client, year and ....QUARTER REPORT"
   ]
  },
  {
   "cell_type": "code",
   "execution_count": 113,
   "metadata": {},
   "outputs": [],
   "source": [
    "# then remove all the nuls\n",
    "for st in my_states:\n",
    "    s[st].dropna(inplace=True)"
   ]
  },
  {
   "cell_type": "code",
   "execution_count": null,
   "metadata": {},
   "outputs": [],
   "source": [
    "for st in my_states:   \n",
    "    # drop cols I won't be using\n",
    "    s[st].drop(columns = ['lobbyist', 'date'],inplace= True) "
   ]
  },
  {
   "cell_type": "code",
   "execution_count": 115,
   "metadata": {},
   "outputs": [],
   "source": [
    "for st in my_states:\n",
    "    s[st].amount = s[st].amount.str.replace('$','')\n",
    "    s[st].amount = s[st].amount.str.replace(',','')\n",
    "    s[st].amount = s[st].amount.str.replace(' ','')\n",
    "    s[st].amount = s[st].amount.astype(float)"
   ]
  },
  {
   "cell_type": "code",
   "execution_count": 119,
   "metadata": {},
   "outputs": [],
   "source": [
    "# sum amount by state and year\n",
    "for st in my_states:\n",
    "    s[st]=s[st].groupby(['year'],as_index=False).sum()"
   ]
  },
  {
   "cell_type": "code",
   "execution_count": 130,
   "metadata": {},
   "outputs": [
    {
     "ename": "ValueError",
     "evalue": "Wrong number of items passed 20, placement implies 1",
     "output_type": "error",
     "traceback": [
      "\u001b[1;31m---------------------------------------------------------------------------\u001b[0m",
      "\u001b[1;31mKeyError\u001b[0m                                  Traceback (most recent call last)",
      "\u001b[1;32m~\\Anaconda3\\lib\\site-packages\\pandas\\core\\indexes\\base.py\u001b[0m in \u001b[0;36mget_loc\u001b[1;34m(self, key, method, tolerance)\u001b[0m\n\u001b[0;32m   2896\u001b[0m             \u001b[1;32mtry\u001b[0m\u001b[1;33m:\u001b[0m\u001b[1;33m\u001b[0m\u001b[1;33m\u001b[0m\u001b[0m\n\u001b[1;32m-> 2897\u001b[1;33m                 \u001b[1;32mreturn\u001b[0m \u001b[0mself\u001b[0m\u001b[1;33m.\u001b[0m\u001b[0m_engine\u001b[0m\u001b[1;33m.\u001b[0m\u001b[0mget_loc\u001b[0m\u001b[1;33m(\u001b[0m\u001b[0mkey\u001b[0m\u001b[1;33m)\u001b[0m\u001b[1;33m\u001b[0m\u001b[1;33m\u001b[0m\u001b[0m\n\u001b[0m\u001b[0;32m   2898\u001b[0m             \u001b[1;32mexcept\u001b[0m \u001b[0mKeyError\u001b[0m\u001b[1;33m:\u001b[0m\u001b[1;33m\u001b[0m\u001b[1;33m\u001b[0m\u001b[0m\n",
      "\u001b[1;32mpandas\\_libs\\index.pyx\u001b[0m in \u001b[0;36mpandas._libs.index.IndexEngine.get_loc\u001b[1;34m()\u001b[0m\n",
      "\u001b[1;32mpandas\\_libs\\index.pyx\u001b[0m in \u001b[0;36mpandas._libs.index.IndexEngine.get_loc\u001b[1;34m()\u001b[0m\n",
      "\u001b[1;32mpandas\\_libs\\hashtable_class_helper.pxi\u001b[0m in \u001b[0;36mpandas._libs.hashtable.PyObjectHashTable.get_item\u001b[1;34m()\u001b[0m\n",
      "\u001b[1;32mpandas\\_libs\\hashtable_class_helper.pxi\u001b[0m in \u001b[0;36mpandas._libs.hashtable.PyObjectHashTable.get_item\u001b[1;34m()\u001b[0m\n",
      "\u001b[1;31mKeyError\u001b[0m: 'per_cap'",
      "\nDuring handling of the above exception, another exception occurred:\n",
      "\u001b[1;31mKeyError\u001b[0m                                  Traceback (most recent call last)",
      "\u001b[1;32m~\\Anaconda3\\lib\\site-packages\\pandas\\core\\internals\\managers.py\u001b[0m in \u001b[0;36mset\u001b[1;34m(self, item, value)\u001b[0m\n\u001b[0;32m   1068\u001b[0m         \u001b[1;32mtry\u001b[0m\u001b[1;33m:\u001b[0m\u001b[1;33m\u001b[0m\u001b[1;33m\u001b[0m\u001b[0m\n\u001b[1;32m-> 1069\u001b[1;33m             \u001b[0mloc\u001b[0m \u001b[1;33m=\u001b[0m \u001b[0mself\u001b[0m\u001b[1;33m.\u001b[0m\u001b[0mitems\u001b[0m\u001b[1;33m.\u001b[0m\u001b[0mget_loc\u001b[0m\u001b[1;33m(\u001b[0m\u001b[0mitem\u001b[0m\u001b[1;33m)\u001b[0m\u001b[1;33m\u001b[0m\u001b[1;33m\u001b[0m\u001b[0m\n\u001b[0m\u001b[0;32m   1070\u001b[0m         \u001b[1;32mexcept\u001b[0m \u001b[0mKeyError\u001b[0m\u001b[1;33m:\u001b[0m\u001b[1;33m\u001b[0m\u001b[1;33m\u001b[0m\u001b[0m\n",
      "\u001b[1;32m~\\Anaconda3\\lib\\site-packages\\pandas\\core\\indexes\\base.py\u001b[0m in \u001b[0;36mget_loc\u001b[1;34m(self, key, method, tolerance)\u001b[0m\n\u001b[0;32m   2898\u001b[0m             \u001b[1;32mexcept\u001b[0m \u001b[0mKeyError\u001b[0m\u001b[1;33m:\u001b[0m\u001b[1;33m\u001b[0m\u001b[1;33m\u001b[0m\u001b[0m\n\u001b[1;32m-> 2899\u001b[1;33m                 \u001b[1;32mreturn\u001b[0m \u001b[0mself\u001b[0m\u001b[1;33m.\u001b[0m\u001b[0m_engine\u001b[0m\u001b[1;33m.\u001b[0m\u001b[0mget_loc\u001b[0m\u001b[1;33m(\u001b[0m\u001b[0mself\u001b[0m\u001b[1;33m.\u001b[0m\u001b[0m_maybe_cast_indexer\u001b[0m\u001b[1;33m(\u001b[0m\u001b[0mkey\u001b[0m\u001b[1;33m)\u001b[0m\u001b[1;33m)\u001b[0m\u001b[1;33m\u001b[0m\u001b[1;33m\u001b[0m\u001b[0m\n\u001b[0m\u001b[0;32m   2900\u001b[0m         \u001b[0mindexer\u001b[0m \u001b[1;33m=\u001b[0m \u001b[0mself\u001b[0m\u001b[1;33m.\u001b[0m\u001b[0mget_indexer\u001b[0m\u001b[1;33m(\u001b[0m\u001b[1;33m[\u001b[0m\u001b[0mkey\u001b[0m\u001b[1;33m]\u001b[0m\u001b[1;33m,\u001b[0m \u001b[0mmethod\u001b[0m\u001b[1;33m=\u001b[0m\u001b[0mmethod\u001b[0m\u001b[1;33m,\u001b[0m \u001b[0mtolerance\u001b[0m\u001b[1;33m=\u001b[0m\u001b[0mtolerance\u001b[0m\u001b[1;33m)\u001b[0m\u001b[1;33m\u001b[0m\u001b[1;33m\u001b[0m\u001b[0m\n",
      "\u001b[1;32mpandas\\_libs\\index.pyx\u001b[0m in \u001b[0;36mpandas._libs.index.IndexEngine.get_loc\u001b[1;34m()\u001b[0m\n",
      "\u001b[1;32mpandas\\_libs\\index.pyx\u001b[0m in \u001b[0;36mpandas._libs.index.IndexEngine.get_loc\u001b[1;34m()\u001b[0m\n",
      "\u001b[1;32mpandas\\_libs\\hashtable_class_helper.pxi\u001b[0m in \u001b[0;36mpandas._libs.hashtable.PyObjectHashTable.get_item\u001b[1;34m()\u001b[0m\n",
      "\u001b[1;32mpandas\\_libs\\hashtable_class_helper.pxi\u001b[0m in \u001b[0;36mpandas._libs.hashtable.PyObjectHashTable.get_item\u001b[1;34m()\u001b[0m\n",
      "\u001b[1;31mKeyError\u001b[0m: 'per_cap'",
      "\nDuring handling of the above exception, another exception occurred:\n",
      "\u001b[1;31mValueError\u001b[0m                                Traceback (most recent call last)",
      "\u001b[1;32m<ipython-input-130-e4300b6867a1>\u001b[0m in \u001b[0;36m<module>\u001b[1;34m\u001b[0m\n\u001b[0;32m      1\u001b[0m \u001b[1;31m# divide by population\u001b[0m\u001b[1;33m\u001b[0m\u001b[1;33m\u001b[0m\u001b[1;33m\u001b[0m\u001b[0m\n\u001b[0;32m      2\u001b[0m \u001b[1;32mfor\u001b[0m \u001b[0mst\u001b[0m \u001b[1;32min\u001b[0m \u001b[0mmy_states\u001b[0m\u001b[1;33m:\u001b[0m\u001b[1;33m\u001b[0m\u001b[1;33m\u001b[0m\u001b[0m\n\u001b[1;32m----> 3\u001b[1;33m     \u001b[0ms\u001b[0m\u001b[1;33m[\u001b[0m\u001b[0mst\u001b[0m\u001b[1;33m]\u001b[0m\u001b[1;33m[\u001b[0m\u001b[1;34m'per_cap'\u001b[0m\u001b[1;33m]\u001b[0m\u001b[1;33m=\u001b[0m\u001b[0ms\u001b[0m\u001b[1;33m[\u001b[0m\u001b[0mst\u001b[0m\u001b[1;33m]\u001b[0m\u001b[1;33m.\u001b[0m\u001b[0mamount\u001b[0m \u001b[1;33m/\u001b[0m \u001b[1;33m(\u001b[0m\u001b[0mpop\u001b[0m\u001b[1;33m.\u001b[0m\u001b[0mloc\u001b[0m\u001b[1;33m[\u001b[0m\u001b[0mpop\u001b[0m\u001b[1;33m.\u001b[0m\u001b[0mState\u001b[0m \u001b[1;33m==\u001b[0m \u001b[0mst\u001b[0m\u001b[1;33m,\u001b[0m\u001b[1;33m[\u001b[0m\u001b[1;34m'AVE'\u001b[0m\u001b[1;33m]\u001b[0m\u001b[1;33m]\u001b[0m \u001b[1;33m)\u001b[0m\u001b[1;33m\u001b[0m\u001b[1;33m\u001b[0m\u001b[0m\n\u001b[0m",
      "\u001b[1;32m~\\Anaconda3\\lib\\site-packages\\pandas\\core\\frame.py\u001b[0m in \u001b[0;36m__setitem__\u001b[1;34m(self, key, value)\u001b[0m\n\u001b[0;32m   3470\u001b[0m         \u001b[1;32melse\u001b[0m\u001b[1;33m:\u001b[0m\u001b[1;33m\u001b[0m\u001b[1;33m\u001b[0m\u001b[0m\n\u001b[0;32m   3471\u001b[0m             \u001b[1;31m# set column\u001b[0m\u001b[1;33m\u001b[0m\u001b[1;33m\u001b[0m\u001b[1;33m\u001b[0m\u001b[0m\n\u001b[1;32m-> 3472\u001b[1;33m             \u001b[0mself\u001b[0m\u001b[1;33m.\u001b[0m\u001b[0m_set_item\u001b[0m\u001b[1;33m(\u001b[0m\u001b[0mkey\u001b[0m\u001b[1;33m,\u001b[0m \u001b[0mvalue\u001b[0m\u001b[1;33m)\u001b[0m\u001b[1;33m\u001b[0m\u001b[1;33m\u001b[0m\u001b[0m\n\u001b[0m\u001b[0;32m   3473\u001b[0m \u001b[1;33m\u001b[0m\u001b[0m\n\u001b[0;32m   3474\u001b[0m     \u001b[1;32mdef\u001b[0m \u001b[0m_setitem_slice\u001b[0m\u001b[1;33m(\u001b[0m\u001b[0mself\u001b[0m\u001b[1;33m,\u001b[0m \u001b[0mkey\u001b[0m\u001b[1;33m,\u001b[0m \u001b[0mvalue\u001b[0m\u001b[1;33m)\u001b[0m\u001b[1;33m:\u001b[0m\u001b[1;33m\u001b[0m\u001b[1;33m\u001b[0m\u001b[0m\n",
      "\u001b[1;32m~\\Anaconda3\\lib\\site-packages\\pandas\\core\\frame.py\u001b[0m in \u001b[0;36m_set_item\u001b[1;34m(self, key, value)\u001b[0m\n\u001b[0;32m   3548\u001b[0m         \u001b[0mself\u001b[0m\u001b[1;33m.\u001b[0m\u001b[0m_ensure_valid_index\u001b[0m\u001b[1;33m(\u001b[0m\u001b[0mvalue\u001b[0m\u001b[1;33m)\u001b[0m\u001b[1;33m\u001b[0m\u001b[1;33m\u001b[0m\u001b[0m\n\u001b[0;32m   3549\u001b[0m         \u001b[0mvalue\u001b[0m \u001b[1;33m=\u001b[0m \u001b[0mself\u001b[0m\u001b[1;33m.\u001b[0m\u001b[0m_sanitize_column\u001b[0m\u001b[1;33m(\u001b[0m\u001b[0mkey\u001b[0m\u001b[1;33m,\u001b[0m \u001b[0mvalue\u001b[0m\u001b[1;33m)\u001b[0m\u001b[1;33m\u001b[0m\u001b[1;33m\u001b[0m\u001b[0m\n\u001b[1;32m-> 3550\u001b[1;33m         \u001b[0mNDFrame\u001b[0m\u001b[1;33m.\u001b[0m\u001b[0m_set_item\u001b[0m\u001b[1;33m(\u001b[0m\u001b[0mself\u001b[0m\u001b[1;33m,\u001b[0m \u001b[0mkey\u001b[0m\u001b[1;33m,\u001b[0m \u001b[0mvalue\u001b[0m\u001b[1;33m)\u001b[0m\u001b[1;33m\u001b[0m\u001b[1;33m\u001b[0m\u001b[0m\n\u001b[0m\u001b[0;32m   3551\u001b[0m \u001b[1;33m\u001b[0m\u001b[0m\n\u001b[0;32m   3552\u001b[0m         \u001b[1;31m# check if we are modifying a copy\u001b[0m\u001b[1;33m\u001b[0m\u001b[1;33m\u001b[0m\u001b[1;33m\u001b[0m\u001b[0m\n",
      "\u001b[1;32m~\\Anaconda3\\lib\\site-packages\\pandas\\core\\generic.py\u001b[0m in \u001b[0;36m_set_item\u001b[1;34m(self, key, value)\u001b[0m\n\u001b[0;32m   3379\u001b[0m \u001b[1;33m\u001b[0m\u001b[0m\n\u001b[0;32m   3380\u001b[0m     \u001b[1;32mdef\u001b[0m \u001b[0m_set_item\u001b[0m\u001b[1;33m(\u001b[0m\u001b[0mself\u001b[0m\u001b[1;33m,\u001b[0m \u001b[0mkey\u001b[0m\u001b[1;33m,\u001b[0m \u001b[0mvalue\u001b[0m\u001b[1;33m)\u001b[0m\u001b[1;33m:\u001b[0m\u001b[1;33m\u001b[0m\u001b[1;33m\u001b[0m\u001b[0m\n\u001b[1;32m-> 3381\u001b[1;33m         \u001b[0mself\u001b[0m\u001b[1;33m.\u001b[0m\u001b[0m_data\u001b[0m\u001b[1;33m.\u001b[0m\u001b[0mset\u001b[0m\u001b[1;33m(\u001b[0m\u001b[0mkey\u001b[0m\u001b[1;33m,\u001b[0m \u001b[0mvalue\u001b[0m\u001b[1;33m)\u001b[0m\u001b[1;33m\u001b[0m\u001b[1;33m\u001b[0m\u001b[0m\n\u001b[0m\u001b[0;32m   3382\u001b[0m         \u001b[0mself\u001b[0m\u001b[1;33m.\u001b[0m\u001b[0m_clear_item_cache\u001b[0m\u001b[1;33m(\u001b[0m\u001b[1;33m)\u001b[0m\u001b[1;33m\u001b[0m\u001b[1;33m\u001b[0m\u001b[0m\n\u001b[0;32m   3383\u001b[0m \u001b[1;33m\u001b[0m\u001b[0m\n",
      "\u001b[1;32m~\\Anaconda3\\lib\\site-packages\\pandas\\core\\internals\\managers.py\u001b[0m in \u001b[0;36mset\u001b[1;34m(self, item, value)\u001b[0m\n\u001b[0;32m   1070\u001b[0m         \u001b[1;32mexcept\u001b[0m \u001b[0mKeyError\u001b[0m\u001b[1;33m:\u001b[0m\u001b[1;33m\u001b[0m\u001b[1;33m\u001b[0m\u001b[0m\n\u001b[0;32m   1071\u001b[0m             \u001b[1;31m# This item wasn't present, just insert at end\u001b[0m\u001b[1;33m\u001b[0m\u001b[1;33m\u001b[0m\u001b[1;33m\u001b[0m\u001b[0m\n\u001b[1;32m-> 1072\u001b[1;33m             \u001b[0mself\u001b[0m\u001b[1;33m.\u001b[0m\u001b[0minsert\u001b[0m\u001b[1;33m(\u001b[0m\u001b[0mlen\u001b[0m\u001b[1;33m(\u001b[0m\u001b[0mself\u001b[0m\u001b[1;33m.\u001b[0m\u001b[0mitems\u001b[0m\u001b[1;33m)\u001b[0m\u001b[1;33m,\u001b[0m \u001b[0mitem\u001b[0m\u001b[1;33m,\u001b[0m \u001b[0mvalue\u001b[0m\u001b[1;33m)\u001b[0m\u001b[1;33m\u001b[0m\u001b[1;33m\u001b[0m\u001b[0m\n\u001b[0m\u001b[0;32m   1073\u001b[0m             \u001b[1;32mreturn\u001b[0m\u001b[1;33m\u001b[0m\u001b[1;33m\u001b[0m\u001b[0m\n\u001b[0;32m   1074\u001b[0m \u001b[1;33m\u001b[0m\u001b[0m\n",
      "\u001b[1;32m~\\Anaconda3\\lib\\site-packages\\pandas\\core\\internals\\managers.py\u001b[0m in \u001b[0;36minsert\u001b[1;34m(self, loc, item, value, allow_duplicates)\u001b[0m\n\u001b[0;32m   1179\u001b[0m         \u001b[0mnew_axis\u001b[0m \u001b[1;33m=\u001b[0m \u001b[0mself\u001b[0m\u001b[1;33m.\u001b[0m\u001b[0mitems\u001b[0m\u001b[1;33m.\u001b[0m\u001b[0minsert\u001b[0m\u001b[1;33m(\u001b[0m\u001b[0mloc\u001b[0m\u001b[1;33m,\u001b[0m \u001b[0mitem\u001b[0m\u001b[1;33m)\u001b[0m\u001b[1;33m\u001b[0m\u001b[1;33m\u001b[0m\u001b[0m\n\u001b[0;32m   1180\u001b[0m \u001b[1;33m\u001b[0m\u001b[0m\n\u001b[1;32m-> 1181\u001b[1;33m         \u001b[0mblock\u001b[0m \u001b[1;33m=\u001b[0m \u001b[0mmake_block\u001b[0m\u001b[1;33m(\u001b[0m\u001b[0mvalues\u001b[0m\u001b[1;33m=\u001b[0m\u001b[0mvalue\u001b[0m\u001b[1;33m,\u001b[0m \u001b[0mndim\u001b[0m\u001b[1;33m=\u001b[0m\u001b[0mself\u001b[0m\u001b[1;33m.\u001b[0m\u001b[0mndim\u001b[0m\u001b[1;33m,\u001b[0m \u001b[0mplacement\u001b[0m\u001b[1;33m=\u001b[0m\u001b[0mslice\u001b[0m\u001b[1;33m(\u001b[0m\u001b[0mloc\u001b[0m\u001b[1;33m,\u001b[0m \u001b[0mloc\u001b[0m \u001b[1;33m+\u001b[0m \u001b[1;36m1\u001b[0m\u001b[1;33m)\u001b[0m\u001b[1;33m)\u001b[0m\u001b[1;33m\u001b[0m\u001b[1;33m\u001b[0m\u001b[0m\n\u001b[0m\u001b[0;32m   1182\u001b[0m \u001b[1;33m\u001b[0m\u001b[0m\n\u001b[0;32m   1183\u001b[0m         \u001b[1;32mfor\u001b[0m \u001b[0mblkno\u001b[0m\u001b[1;33m,\u001b[0m \u001b[0mcount\u001b[0m \u001b[1;32min\u001b[0m \u001b[0m_fast_count_smallints\u001b[0m\u001b[1;33m(\u001b[0m\u001b[0mself\u001b[0m\u001b[1;33m.\u001b[0m\u001b[0m_blknos\u001b[0m\u001b[1;33m[\u001b[0m\u001b[0mloc\u001b[0m\u001b[1;33m:\u001b[0m\u001b[1;33m]\u001b[0m\u001b[1;33m)\u001b[0m\u001b[1;33m:\u001b[0m\u001b[1;33m\u001b[0m\u001b[1;33m\u001b[0m\u001b[0m\n",
      "\u001b[1;32m~\\Anaconda3\\lib\\site-packages\\pandas\\core\\internals\\blocks.py\u001b[0m in \u001b[0;36mmake_block\u001b[1;34m(values, placement, klass, ndim, dtype, fastpath)\u001b[0m\n\u001b[0;32m   3265\u001b[0m         \u001b[0mvalues\u001b[0m \u001b[1;33m=\u001b[0m \u001b[0mDatetimeArray\u001b[0m\u001b[1;33m.\u001b[0m\u001b[0m_simple_new\u001b[0m\u001b[1;33m(\u001b[0m\u001b[0mvalues\u001b[0m\u001b[1;33m,\u001b[0m \u001b[0mdtype\u001b[0m\u001b[1;33m=\u001b[0m\u001b[0mdtype\u001b[0m\u001b[1;33m)\u001b[0m\u001b[1;33m\u001b[0m\u001b[1;33m\u001b[0m\u001b[0m\n\u001b[0;32m   3266\u001b[0m \u001b[1;33m\u001b[0m\u001b[0m\n\u001b[1;32m-> 3267\u001b[1;33m     \u001b[1;32mreturn\u001b[0m \u001b[0mklass\u001b[0m\u001b[1;33m(\u001b[0m\u001b[0mvalues\u001b[0m\u001b[1;33m,\u001b[0m \u001b[0mndim\u001b[0m\u001b[1;33m=\u001b[0m\u001b[0mndim\u001b[0m\u001b[1;33m,\u001b[0m \u001b[0mplacement\u001b[0m\u001b[1;33m=\u001b[0m\u001b[0mplacement\u001b[0m\u001b[1;33m)\u001b[0m\u001b[1;33m\u001b[0m\u001b[1;33m\u001b[0m\u001b[0m\n\u001b[0m\u001b[0;32m   3268\u001b[0m \u001b[1;33m\u001b[0m\u001b[0m\n\u001b[0;32m   3269\u001b[0m \u001b[1;33m\u001b[0m\u001b[0m\n",
      "\u001b[1;32m~\\Anaconda3\\lib\\site-packages\\pandas\\core\\internals\\blocks.py\u001b[0m in \u001b[0;36m__init__\u001b[1;34m(self, values, placement, ndim)\u001b[0m\n\u001b[0;32m    126\u001b[0m             raise ValueError(\n\u001b[0;32m    127\u001b[0m                 \u001b[1;34m\"Wrong number of items passed {val}, placement implies \"\u001b[0m\u001b[1;33m\u001b[0m\u001b[1;33m\u001b[0m\u001b[0m\n\u001b[1;32m--> 128\u001b[1;33m                 \u001b[1;34m\"{mgr}\"\u001b[0m\u001b[1;33m.\u001b[0m\u001b[0mformat\u001b[0m\u001b[1;33m(\u001b[0m\u001b[0mval\u001b[0m\u001b[1;33m=\u001b[0m\u001b[0mlen\u001b[0m\u001b[1;33m(\u001b[0m\u001b[0mself\u001b[0m\u001b[1;33m.\u001b[0m\u001b[0mvalues\u001b[0m\u001b[1;33m)\u001b[0m\u001b[1;33m,\u001b[0m \u001b[0mmgr\u001b[0m\u001b[1;33m=\u001b[0m\u001b[0mlen\u001b[0m\u001b[1;33m(\u001b[0m\u001b[0mself\u001b[0m\u001b[1;33m.\u001b[0m\u001b[0mmgr_locs\u001b[0m\u001b[1;33m)\u001b[0m\u001b[1;33m)\u001b[0m\u001b[1;33m\u001b[0m\u001b[1;33m\u001b[0m\u001b[0m\n\u001b[0m\u001b[0;32m    129\u001b[0m             )\n\u001b[0;32m    130\u001b[0m \u001b[1;33m\u001b[0m\u001b[0m\n",
      "\u001b[1;31mValueError\u001b[0m: Wrong number of items passed 20, placement implies 1"
     ]
    }
   ],
   "source": [
    "# divide by population\n",
    "for st in my_states:\n",
    "    s[st]['per_cap']=s[st].amount / (pop.loc[pop.State == st,['AVE']] )"
   ]
  },
  {
   "cell_type": "code",
   "execution_count": 120,
   "metadata": {},
   "outputs": [
    {
     "data": {
      "text/html": [
       "<div>\n",
       "<style scoped>\n",
       "    .dataframe tbody tr th:only-of-type {\n",
       "        vertical-align: middle;\n",
       "    }\n",
       "\n",
       "    .dataframe tbody tr th {\n",
       "        vertical-align: top;\n",
       "    }\n",
       "\n",
       "    .dataframe thead th {\n",
       "        text-align: right;\n",
       "    }\n",
       "</style>\n",
       "<table border=\"1\" class=\"dataframe\">\n",
       "  <thead>\n",
       "    <tr style=\"text-align: right;\">\n",
       "      <th></th>\n",
       "      <th>year</th>\n",
       "      <th>amount</th>\n",
       "    </tr>\n",
       "  </thead>\n",
       "  <tbody>\n",
       "    <tr>\n",
       "      <td>0</td>\n",
       "      <td>1999</td>\n",
       "      <td>280000.0</td>\n",
       "    </tr>\n",
       "    <tr>\n",
       "      <td>1</td>\n",
       "      <td>2000</td>\n",
       "      <td>500000.0</td>\n",
       "    </tr>\n",
       "    <tr>\n",
       "      <td>2</td>\n",
       "      <td>2001</td>\n",
       "      <td>420000.0</td>\n",
       "    </tr>\n",
       "    <tr>\n",
       "      <td>3</td>\n",
       "      <td>2002</td>\n",
       "      <td>1030000.0</td>\n",
       "    </tr>\n",
       "    <tr>\n",
       "      <td>4</td>\n",
       "      <td>2003</td>\n",
       "      <td>1370000.0</td>\n",
       "    </tr>\n",
       "    <tr>\n",
       "      <td>5</td>\n",
       "      <td>2004</td>\n",
       "      <td>1505203.0</td>\n",
       "    </tr>\n",
       "    <tr>\n",
       "      <td>6</td>\n",
       "      <td>2005</td>\n",
       "      <td>2956901.0</td>\n",
       "    </tr>\n",
       "    <tr>\n",
       "      <td>7</td>\n",
       "      <td>2006</td>\n",
       "      <td>2545189.0</td>\n",
       "    </tr>\n",
       "    <tr>\n",
       "      <td>8</td>\n",
       "      <td>2007</td>\n",
       "      <td>1544613.0</td>\n",
       "    </tr>\n",
       "    <tr>\n",
       "      <td>9</td>\n",
       "      <td>2008</td>\n",
       "      <td>1137881.0</td>\n",
       "    </tr>\n",
       "    <tr>\n",
       "      <td>10</td>\n",
       "      <td>2009</td>\n",
       "      <td>1396600.0</td>\n",
       "    </tr>\n",
       "    <tr>\n",
       "      <td>11</td>\n",
       "      <td>2010</td>\n",
       "      <td>1636000.0</td>\n",
       "    </tr>\n",
       "    <tr>\n",
       "      <td>12</td>\n",
       "      <td>2011</td>\n",
       "      <td>1148000.0</td>\n",
       "    </tr>\n",
       "    <tr>\n",
       "      <td>13</td>\n",
       "      <td>2012</td>\n",
       "      <td>707000.0</td>\n",
       "    </tr>\n",
       "    <tr>\n",
       "      <td>14</td>\n",
       "      <td>2013</td>\n",
       "      <td>706000.0</td>\n",
       "    </tr>\n",
       "    <tr>\n",
       "      <td>15</td>\n",
       "      <td>2014</td>\n",
       "      <td>555500.0</td>\n",
       "    </tr>\n",
       "    <tr>\n",
       "      <td>16</td>\n",
       "      <td>2015</td>\n",
       "      <td>1342750.0</td>\n",
       "    </tr>\n",
       "    <tr>\n",
       "      <td>17</td>\n",
       "      <td>2016</td>\n",
       "      <td>1417500.0</td>\n",
       "    </tr>\n",
       "    <tr>\n",
       "      <td>18</td>\n",
       "      <td>2017</td>\n",
       "      <td>1216250.0</td>\n",
       "    </tr>\n",
       "    <tr>\n",
       "      <td>19</td>\n",
       "      <td>2018</td>\n",
       "      <td>785000.0</td>\n",
       "    </tr>\n",
       "    <tr>\n",
       "      <td>20</td>\n",
       "      <td>2019</td>\n",
       "      <td>940000.0</td>\n",
       "    </tr>\n",
       "  </tbody>\n",
       "</table>\n",
       "</div>"
      ],
      "text/plain": [
       "    year     amount\n",
       "0   1999   280000.0\n",
       "1   2000   500000.0\n",
       "2   2001   420000.0\n",
       "3   2002  1030000.0\n",
       "4   2003  1370000.0\n",
       "5   2004  1505203.0\n",
       "6   2005  2956901.0\n",
       "7   2006  2545189.0\n",
       "8   2007  1544613.0\n",
       "9   2008  1137881.0\n",
       "10  2009  1396600.0\n",
       "11  2010  1636000.0\n",
       "12  2011  1148000.0\n",
       "13  2012   707000.0\n",
       "14  2013   706000.0\n",
       "15  2014   555500.0\n",
       "16  2015  1342750.0\n",
       "17  2016  1417500.0\n",
       "18  2017  1216250.0\n",
       "19  2018   785000.0\n",
       "20  2019   940000.0"
      ]
     },
     "execution_count": 120,
     "metadata": {},
     "output_type": "execute_result"
    }
   ],
   "source": [
    "s['AL']"
   ]
  },
  {
   "cell_type": "code",
   "execution_count": 118,
   "metadata": {},
   "outputs": [
    {
     "data": {
      "text/plain": [
       "{'AK': 2758400.0,\n",
       " 'AL': 25140387.0,\n",
       " 'AR': 128547963.0,\n",
       " 'AZ': 20485568.0,\n",
       " 'CA': 645909319.0,\n",
       " 'CO': 35615081.0,\n",
       " 'CT': 147545149.0,\n",
       " 'DE': 79898713.0,\n",
       " 'FL': 171421386.0,\n",
       " 'GA': 265500891.0,\n",
       " 'HI': 2412000.0,\n",
       " 'ID': 1548600.0,\n",
       " 'IL': 672589754.0,\n",
       " 'IN': 71127000.0,\n",
       " 'IA': 33174223.0,\n",
       " 'KS': 93483506.0,\n",
       " 'KY': 87259255.0,\n",
       " 'LA': 43005043.0,\n",
       " 'ME': 9836000.0,\n",
       " 'MA': 466824410.0,\n",
       " 'MI': 56554880.0,\n",
       " 'MN': 78746366.0,\n",
       " 'MS': 12494760.0,\n",
       " 'MO': 66249091.0,\n",
       " 'MT': 3149944.0,\n",
       " 'NE': 16255250.0,\n",
       " 'NV': 9652561.0,\n",
       " 'NH': 6151900.0,\n",
       " 'NJ': 595728121.0,\n",
       " 'NM': 11966330.0,\n",
       " 'NY': 363710303.0,\n",
       " 'NC': 113783467.0,\n",
       " 'ND': 5471450.0,\n",
       " 'OH': 207474030.0,\n",
       " 'OK': 12705500.0,\n",
       " 'OR': 28381584.0,\n",
       " 'PA': 359772399.0,\n",
       " 'RI': 3960468.0,\n",
       " 'SC': 21615753.0,\n",
       " 'SD': 7496626.0,\n",
       " 'TN': 64540686.0,\n",
       " 'TX': 305992387.0,\n",
       " 'UT': 37029736.0,\n",
       " 'VT': 580000.0,\n",
       " 'WA': 79658974.0,\n",
       " 'WV': 9673089.0,\n",
       " 'WI': 54735741.0,\n",
       " 'WY': 915000.0}"
      ]
     },
     "execution_count": 118,
     "metadata": {},
     "output_type": "execute_result"
    }
   ],
   "source": [
    "lobby"
   ]
  },
  {
   "cell_type": "code",
   "execution_count": null,
   "metadata": {},
   "outputs": [],
   "source": [
    "# divide sum per capita"
   ]
  },
  {
   "cell_type": "code",
   "execution_count": null,
   "metadata": {},
   "outputs": [],
   "source": []
  },
  {
   "cell_type": "code",
   "execution_count": null,
   "metadata": {},
   "outputs": [],
   "source": []
  },
  {
   "cell_type": "code",
   "execution_count": null,
   "metadata": {},
   "outputs": [],
   "source": []
  },
  {
   "cell_type": "code",
   "execution_count": null,
   "metadata": {},
   "outputs": [],
   "source": []
  },
  {
   "cell_type": "code",
   "execution_count": null,
   "metadata": {},
   "outputs": [],
   "source": []
  },
  {
   "cell_type": "code",
   "execution_count": null,
   "metadata": {},
   "outputs": [],
   "source": []
  },
  {
   "cell_type": "code",
   "execution_count": null,
   "metadata": {},
   "outputs": [],
   "source": []
  },
  {
   "cell_type": "code",
   "execution_count": null,
   "metadata": {},
   "outputs": [],
   "source": []
  },
  {
   "cell_type": "code",
   "execution_count": null,
   "metadata": {},
   "outputs": [],
   "source": []
  },
  {
   "cell_type": "code",
   "execution_count": null,
   "metadata": {},
   "outputs": [],
   "source": []
  },
  {
   "cell_type": "code",
   "execution_count": null,
   "metadata": {},
   "outputs": [],
   "source": [
    "# REALLY cool function to aid in editing string!\n",
    "import string\n",
    "\n",
    "# this function removes the LPT or ULPT or ILPT from the start of the title\n",
    "# otherwise it would be too easy to predict the post!\n",
    "df['title'] = df['title'].str.lstrip('ILPT:')\n",
    "df['title'] = df['title'].str.lstrip('ULPT:')\n",
    "df.head()"
   ]
  },
  {
   "cell_type": "markdown",
   "metadata": {},
   "source": [
    "### Some very simple EDA"
   ]
  },
  {
   "cell_type": "code",
   "execution_count": null,
   "metadata": {},
   "outputs": [],
   "source": [
    "# this is histogram - character length of title\n",
    "plt.hist(df.title.str.len(), bins=20);\n",
    "# An interesting distribution"
   ]
  },
  {
   "cell_type": "code",
   "execution_count": null,
   "metadata": {},
   "outputs": [],
   "source": [
    "# hisogram - character lenght of self text\n",
    "plt.hist(df.selftext.str.len(), bins=20);\n",
    "# most selftext is very short - a few outliers"
   ]
  },
  {
   "cell_type": "code",
   "execution_count": null,
   "metadata": {},
   "outputs": [],
   "source": [
    "# histogram - number of comments\n",
    "plt.hist(df.num_comments.value_counts()  , bins=20);\n",
    "# most posts have below 25 comments - but many are very active"
   ]
  },
  {
   "cell_type": "code",
   "execution_count": null,
   "metadata": {},
   "outputs": [],
   "source": [
    "# histogram - number of score\n",
    "plt.hist(df.score.value_counts()  , bins=20);\n",
    "# most posts have ow score - few outiers"
   ]
  }
 ],
 "metadata": {
  "kernelspec": {
   "display_name": "Python 3",
   "language": "python",
   "name": "python3"
  },
  "language_info": {
   "codemirror_mode": {
    "name": "ipython",
    "version": 3
   },
   "file_extension": ".py",
   "mimetype": "text/x-python",
   "name": "python",
   "nbconvert_exporter": "python",
   "pygments_lexer": "ipython3",
   "version": "3.7.4"
  }
 },
 "nbformat": 4,
 "nbformat_minor": 2
}
